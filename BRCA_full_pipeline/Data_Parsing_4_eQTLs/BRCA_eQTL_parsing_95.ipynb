{
 "cells": [
  {
   "cell_type": "code",
   "execution_count": 1,
   "id": "51e6b685",
   "metadata": {},
   "outputs": [],
   "source": [
    "import pandas as pd\n",
    "import seaborn as sns \n",
    "import numpy as np\n",
    "import glob\n",
    "import matplotlib.pyplot as plt\n",
    "%matplotlib inline\n",
    "%config Completer.use_jedi = False"
   ]
  },
  {
   "cell_type": "code",
   "execution_count": 2,
   "id": "12cdd239",
   "metadata": {},
   "outputs": [],
   "source": [
    "#Import eQTL files for required cancer type\n",
    "\n",
    "#Add path to eQTL files\n",
    "path = r'/Users/jake/OneDrive - University of Glasgow/Project/BRCA/eQTL'\n",
    "\n",
    "all_files = glob.glob(path + \"/*.csv\")\n",
    "\n",
    "#For loop to read in eQTL files        \n",
    "for filename in all_files:\n",
    "    \n",
    "    if 'cis_eQTL' in filename:\n",
    "        cis_eQTL = pd.read_csv(filename,sep=',',index_col=0)\n",
    "    elif 'trans_eQTL' in filename:\n",
    "        trans_eQTL = pd.read_csv(filename, sep=',',index_col=0)"
   ]
  },
  {
   "cell_type": "code",
   "execution_count": 3,
   "id": "442a7b0c",
   "metadata": {},
   "outputs": [
    {
     "data": {
      "text/plain": [
       "CCT6P1       1930\n",
       "STAG3L4      1805\n",
       "ZNF117       1668\n",
       "LOC399744    1437\n",
       "FAM182B      1435\n",
       "             ... \n",
       "RTN4RL1         1\n",
       "STRA6           1\n",
       "FAM183A         1\n",
       "KAT5            1\n",
       "FAM109A         1\n",
       "Name: Gene_symbol, Length: 11858, dtype: int64"
      ]
     },
     "execution_count": 3,
     "metadata": {},
     "output_type": "execute_result"
    }
   ],
   "source": [
    "#Check gene value counts\n",
    "\n",
    "cis_eQTL['Gene_symbol'].value_counts()"
   ]
  },
  {
   "cell_type": "code",
   "execution_count": 4,
   "id": "7cc20cb5",
   "metadata": {},
   "outputs": [
    {
     "data": {
      "text/plain": [
       "FOLH1B       6069\n",
       "LOC647121    1732\n",
       "BTN3A2        634\n",
       "RNF5P1        592\n",
       "ZNF322B       582\n",
       "             ... \n",
       "FLJ39653        1\n",
       "RPL31           1\n",
       "CIAO1           1\n",
       "CROCCL1         1\n",
       "APOA1BP         1\n",
       "Name: Gene_symbol, Length: 6012, dtype: int64"
      ]
     },
     "execution_count": 4,
     "metadata": {},
     "output_type": "execute_result"
    }
   ],
   "source": [
    "trans_eQTL['Gene_symbol'].value_counts()"
   ]
  },
  {
   "cell_type": "code",
   "execution_count": 5,
   "id": "3ef180bd",
   "metadata": {},
   "outputs": [],
   "source": [
    "#cis and trans value counts per gene symbol\n",
    "\n",
    "cis_counts = cis_eQTL['Gene_symbol'].value_counts()\n",
    "trans_counts = trans_eQTL['Gene_symbol'].value_counts()"
   ]
  },
  {
   "cell_type": "code",
   "execution_count": null,
   "id": "15c25dc5",
   "metadata": {},
   "outputs": [],
   "source": []
  },
  {
   "cell_type": "code",
   "execution_count": 6,
   "id": "967387a0",
   "metadata": {},
   "outputs": [],
   "source": [
    "#filter 95 percentile for num of eQTLS per gene\n",
    "\n",
    "cis_95 = cis_eQTL[cis_eQTL['Gene_symbol'].isin(cis_counts[cis_counts >= cis_counts.quantile(0.95)].index)]\n",
    "trans_95 = trans_eQTL[trans_eQTL['Gene_symbol'].isin(trans_counts[trans_counts >= trans_counts.quantile(0.95)].index)]"
   ]
  },
  {
   "cell_type": "code",
   "execution_count": 7,
   "id": "bfe254f3",
   "metadata": {},
   "outputs": [],
   "source": [
    "#Create dataframe for 95 percentile with additonal value count col\n",
    "\n",
    "cis_95_df = cis_95.value_counts(['Gene_symbol','Entrez_ID']).to_frame('Value_count').reset_index()\n",
    "trans_95_df = trans_95.value_counts(['Gene_symbol','Entrez_ID']).to_frame('Value_count').reset_index()"
   ]
  },
  {
   "cell_type": "code",
   "execution_count": 8,
   "id": "38c3bc47",
   "metadata": {},
   "outputs": [
    {
     "data": {
      "text/html": [
       "<div>\n",
       "<style scoped>\n",
       "    .dataframe tbody tr th:only-of-type {\n",
       "        vertical-align: middle;\n",
       "    }\n",
       "\n",
       "    .dataframe tbody tr th {\n",
       "        vertical-align: top;\n",
       "    }\n",
       "\n",
       "    .dataframe thead th {\n",
       "        text-align: right;\n",
       "    }\n",
       "</style>\n",
       "<table border=\"1\" class=\"dataframe\">\n",
       "  <thead>\n",
       "    <tr style=\"text-align: right;\">\n",
       "      <th></th>\n",
       "      <th>Gene_symbol</th>\n",
       "      <th>Entrez_ID</th>\n",
       "      <th>Value_count</th>\n",
       "    </tr>\n",
       "  </thead>\n",
       "  <tbody>\n",
       "    <tr>\n",
       "      <th>0</th>\n",
       "      <td>CCT6P1</td>\n",
       "      <td>643253</td>\n",
       "      <td>1930</td>\n",
       "    </tr>\n",
       "    <tr>\n",
       "      <th>1</th>\n",
       "      <td>STAG3L4</td>\n",
       "      <td>64940</td>\n",
       "      <td>1805</td>\n",
       "    </tr>\n",
       "    <tr>\n",
       "      <th>2</th>\n",
       "      <td>ZNF117</td>\n",
       "      <td>51351</td>\n",
       "      <td>1668</td>\n",
       "    </tr>\n",
       "    <tr>\n",
       "      <th>3</th>\n",
       "      <td>LOC399744</td>\n",
       "      <td>399744</td>\n",
       "      <td>1437</td>\n",
       "    </tr>\n",
       "    <tr>\n",
       "      <th>4</th>\n",
       "      <td>FAM182B</td>\n",
       "      <td>728882</td>\n",
       "      <td>1435</td>\n",
       "    </tr>\n",
       "  </tbody>\n",
       "</table>\n",
       "</div>"
      ],
      "text/plain": [
       "  Gene_symbol  Entrez_ID  Value_count\n",
       "0      CCT6P1     643253         1930\n",
       "1     STAG3L4      64940         1805\n",
       "2      ZNF117      51351         1668\n",
       "3   LOC399744     399744         1437\n",
       "4     FAM182B     728882         1435"
      ]
     },
     "execution_count": 8,
     "metadata": {},
     "output_type": "execute_result"
    }
   ],
   "source": [
    "cis_95_df.head()"
   ]
  },
  {
   "cell_type": "code",
   "execution_count": 9,
   "id": "643974a2",
   "metadata": {},
   "outputs": [],
   "source": [
    "#Write the cis and trans 95 percentile dataframes to csv\n",
    "\n",
    "cis_95_df.to_csv(path.split('/')[5]+'_cis_eQTL_95.csv')\n",
    "trans_95_df.to_csv(path.split('/')[5]+'_trans_eQTL_95.csv')"
   ]
  },
  {
   "cell_type": "code",
   "execution_count": null,
   "id": "9f10493d",
   "metadata": {},
   "outputs": [],
   "source": []
  }
 ],
 "metadata": {
  "kernelspec": {
   "display_name": "Python 3",
   "language": "python",
   "name": "python3"
  },
  "language_info": {
   "codemirror_mode": {
    "name": "ipython",
    "version": 3
   },
   "file_extension": ".py",
   "mimetype": "text/x-python",
   "name": "python",
   "nbconvert_exporter": "python",
   "pygments_lexer": "ipython3",
   "version": "3.7.10"
  }
 },
 "nbformat": 4,
 "nbformat_minor": 5
}
