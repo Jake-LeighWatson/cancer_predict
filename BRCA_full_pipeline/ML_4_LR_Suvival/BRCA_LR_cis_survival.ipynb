{
 "cells": [
  {
   "cell_type": "code",
   "execution_count": 57,
   "id": "b81f35ec",
   "metadata": {},
   "outputs": [],
   "source": [
    "import pandas as pd\n",
    "import seaborn as sns \n",
    "import numpy as np\n",
    "import glob\n",
    "import matplotlib.pyplot as plt\n",
    "from scipy.stats import sem\n",
    "\n",
    "%matplotlib inline\n",
    "%config Completer.use_jedi = False\n",
    "\n",
    "\n",
    "#import required sklearn for logistic regression classifier\n",
    "\n",
    "import sklearn as sklearn\n",
    "from sklearn.model_selection import train_test_split\n",
    "from sklearn.metrics import mean_squared_error, classification_report, confusion_matrix,roc_auc_score, f1_score, plot_roc_curve,roc_curve, auc\n",
    "from sklearn.utils import resample\n",
    "from sklearn.pipeline import Pipeline\n",
    "from sklearn.model_selection import cross_val_score, StratifiedKFold, GridSearchCV, RepeatedStratifiedKFold, RepeatedKFold, cross_validate\n",
    "from sklearn.feature_selection import mutual_info_classif,VarianceThreshold, SelectFromModel\n",
    "from sklearn.svm import LinearSVC\n",
    "from sklearn.preprocessing import StandardScaler\n",
    "from sklearn.decomposition import PCA\n",
    "from sklearn.linear_model import LogisticRegression"
   ]
  },
  {
   "cell_type": "code",
   "execution_count": 28,
   "id": "3ae13a53",
   "metadata": {},
   "outputs": [],
   "source": [
    "#Load the filtered cisform switch file and the file containing all genes for BRCA\n",
    "#Only matched samples / files used\n",
    "\n",
    "cis_95_file = '/Users/jake/OneDrive - University of Glasgow/Project/BRCA/Survival/BRCA_cis_95_survival.csv'\n",
    "all_genes_file = '/Users/jake/OneDrive - University of Glasgow/Project/BRCA/Survival/BRCA_all_genes_survival.csv'\n",
    "\n",
    "all_genes_survival = pd.read_csv(all_genes_file,header=[0,1],sep='\\t',index_col=[0])\n",
    "cis_95 = pd.read_csv(cis_95_file,header=[0,1],sep='\\t',index_col=[0])"
   ]
  },
  {
   "cell_type": "code",
   "execution_count": 29,
   "id": "43dc27e8",
   "metadata": {},
   "outputs": [
    {
     "data": {
      "text/html": [
       "<div>\n",
       "<style scoped>\n",
       "    .dataframe tbody tr th:only-of-type {\n",
       "        vertical-align: middle;\n",
       "    }\n",
       "\n",
       "    .dataframe tbody tr th {\n",
       "        vertical-align: top;\n",
       "    }\n",
       "\n",
       "    .dataframe thead tr th {\n",
       "        text-align: left;\n",
       "    }\n",
       "</style>\n",
       "<table border=\"1\" class=\"dataframe\">\n",
       "  <thead>\n",
       "    <tr>\n",
       "      <th>Gene_symbol</th>\n",
       "      <th>ZNF117</th>\n",
       "      <th>BTN3A2</th>\n",
       "      <th>TYW1</th>\n",
       "      <th>C2orf74</th>\n",
       "      <th>ZNF781</th>\n",
       "      <th>ZSCAN23</th>\n",
       "      <th>NUDT2</th>\n",
       "      <th>GYPE</th>\n",
       "      <th>WFDC3</th>\n",
       "      <th>MANBA</th>\n",
       "      <th>...</th>\n",
       "      <th>RNASET2</th>\n",
       "      <th>PAX8</th>\n",
       "      <th>SLC5A11</th>\n",
       "      <th>MAATS1</th>\n",
       "      <th>NDUFA10</th>\n",
       "      <th>SNX16</th>\n",
       "      <th>PNPT1</th>\n",
       "      <th>TMEM115</th>\n",
       "      <th>UPK3B</th>\n",
       "      <th>Three_year_status</th>\n",
       "    </tr>\n",
       "    <tr>\n",
       "      <th>Gene_ensembl_id</th>\n",
       "      <th>ENSG00000152926</th>\n",
       "      <th>ENSG00000186470</th>\n",
       "      <th>ENSG00000198874</th>\n",
       "      <th>ENSG00000237651</th>\n",
       "      <th>ENSG00000196381</th>\n",
       "      <th>ENSG00000187987</th>\n",
       "      <th>ENSG00000164978</th>\n",
       "      <th>ENSG00000197465</th>\n",
       "      <th>ENSG00000124116</th>\n",
       "      <th>ENSG00000109323</th>\n",
       "      <th>...</th>\n",
       "      <th>ENSG00000026297</th>\n",
       "      <th>ENSG00000125618</th>\n",
       "      <th>ENSG00000158865</th>\n",
       "      <th>ENSG00000183833</th>\n",
       "      <th>ENSG00000130414</th>\n",
       "      <th>ENSG00000104497</th>\n",
       "      <th>ENSG00000138035</th>\n",
       "      <th>ENSG00000126062</th>\n",
       "      <th>ENSG00000243566</th>\n",
       "      <th>Three_year_status</th>\n",
       "    </tr>\n",
       "  </thead>\n",
       "  <tbody>\n",
       "    <tr>\n",
       "      <th>TCGA-BH-A1FN</th>\n",
       "      <td>7.120216</td>\n",
       "      <td>4.985915</td>\n",
       "      <td>7.126943</td>\n",
       "      <td>0.460833</td>\n",
       "      <td>0.479443</td>\n",
       "      <td>0.233240</td>\n",
       "      <td>8.484795</td>\n",
       "      <td>0.089906</td>\n",
       "      <td>0.636779</td>\n",
       "      <td>8.392460</td>\n",
       "      <td>...</td>\n",
       "      <td>6.479719</td>\n",
       "      <td>0.143041</td>\n",
       "      <td>0.428664</td>\n",
       "      <td>1.324786</td>\n",
       "      <td>6.583425</td>\n",
       "      <td>2.960510</td>\n",
       "      <td>10.835174</td>\n",
       "      <td>11.768108</td>\n",
       "      <td>0.084667</td>\n",
       "      <td>1</td>\n",
       "    </tr>\n",
       "    <tr>\n",
       "      <th>TCGA-E9-A1NG</th>\n",
       "      <td>1.433767</td>\n",
       "      <td>8.839503</td>\n",
       "      <td>5.993562</td>\n",
       "      <td>1.198498</td>\n",
       "      <td>0.560200</td>\n",
       "      <td>0.112217</td>\n",
       "      <td>10.685053</td>\n",
       "      <td>0.190402</td>\n",
       "      <td>0.519732</td>\n",
       "      <td>8.067247</td>\n",
       "      <td>...</td>\n",
       "      <td>6.713850</td>\n",
       "      <td>0.652537</td>\n",
       "      <td>0.015411</td>\n",
       "      <td>0.631393</td>\n",
       "      <td>8.841204</td>\n",
       "      <td>2.485926</td>\n",
       "      <td>5.548466</td>\n",
       "      <td>22.074770</td>\n",
       "      <td>0.103874</td>\n",
       "      <td>0</td>\n",
       "    </tr>\n",
       "    <tr>\n",
       "      <th>TCGA-AR-A5QQ</th>\n",
       "      <td>1.203197</td>\n",
       "      <td>9.740210</td>\n",
       "      <td>2.741147</td>\n",
       "      <td>0.837896</td>\n",
       "      <td>0.116986</td>\n",
       "      <td>0.025777</td>\n",
       "      <td>17.063258</td>\n",
       "      <td>0.179474</td>\n",
       "      <td>0.826921</td>\n",
       "      <td>4.892384</td>\n",
       "      <td>...</td>\n",
       "      <td>5.732810</td>\n",
       "      <td>0.694746</td>\n",
       "      <td>0.012391</td>\n",
       "      <td>0.023819</td>\n",
       "      <td>8.156408</td>\n",
       "      <td>1.624627</td>\n",
       "      <td>6.424533</td>\n",
       "      <td>28.273353</td>\n",
       "      <td>0.485176</td>\n",
       "      <td>0</td>\n",
       "    </tr>\n",
       "    <tr>\n",
       "      <th>TCGA-AR-A24L</th>\n",
       "      <td>2.676938</td>\n",
       "      <td>5.113456</td>\n",
       "      <td>6.424086</td>\n",
       "      <td>1.248896</td>\n",
       "      <td>0.236878</td>\n",
       "      <td>0.195733</td>\n",
       "      <td>20.999091</td>\n",
       "      <td>0.195956</td>\n",
       "      <td>0.242450</td>\n",
       "      <td>7.417486</td>\n",
       "      <td>...</td>\n",
       "      <td>3.247821</td>\n",
       "      <td>0.832990</td>\n",
       "      <td>0.118476</td>\n",
       "      <td>3.893493</td>\n",
       "      <td>9.007728</td>\n",
       "      <td>3.402171</td>\n",
       "      <td>9.044260</td>\n",
       "      <td>17.072526</td>\n",
       "      <td>0.174472</td>\n",
       "      <td>1</td>\n",
       "    </tr>\n",
       "    <tr>\n",
       "      <th>TCGA-AC-A23H</th>\n",
       "      <td>1.527223</td>\n",
       "      <td>1.443108</td>\n",
       "      <td>5.757805</td>\n",
       "      <td>0.447189</td>\n",
       "      <td>0.074923</td>\n",
       "      <td>0.053655</td>\n",
       "      <td>16.385836</td>\n",
       "      <td>0.094659</td>\n",
       "      <td>0.191557</td>\n",
       "      <td>11.752712</td>\n",
       "      <td>...</td>\n",
       "      <td>5.295477</td>\n",
       "      <td>0.554810</td>\n",
       "      <td>0.210290</td>\n",
       "      <td>0.404245</td>\n",
       "      <td>12.745408</td>\n",
       "      <td>2.310231</td>\n",
       "      <td>7.199830</td>\n",
       "      <td>19.680244</td>\n",
       "      <td>0.081503</td>\n",
       "      <td>0</td>\n",
       "    </tr>\n",
       "    <tr>\n",
       "      <th>...</th>\n",
       "      <td>...</td>\n",
       "      <td>...</td>\n",
       "      <td>...</td>\n",
       "      <td>...</td>\n",
       "      <td>...</td>\n",
       "      <td>...</td>\n",
       "      <td>...</td>\n",
       "      <td>...</td>\n",
       "      <td>...</td>\n",
       "      <td>...</td>\n",
       "      <td>...</td>\n",
       "      <td>...</td>\n",
       "      <td>...</td>\n",
       "      <td>...</td>\n",
       "      <td>...</td>\n",
       "      <td>...</td>\n",
       "      <td>...</td>\n",
       "      <td>...</td>\n",
       "      <td>...</td>\n",
       "      <td>...</td>\n",
       "      <td>...</td>\n",
       "    </tr>\n",
       "    <tr>\n",
       "      <th>TCGA-AR-A2LH</th>\n",
       "      <td>3.434876</td>\n",
       "      <td>5.810295</td>\n",
       "      <td>6.758380</td>\n",
       "      <td>1.020777</td>\n",
       "      <td>0.246389</td>\n",
       "      <td>0.119760</td>\n",
       "      <td>21.091085</td>\n",
       "      <td>0.326989</td>\n",
       "      <td>0.294266</td>\n",
       "      <td>6.061226</td>\n",
       "      <td>...</td>\n",
       "      <td>8.638843</td>\n",
       "      <td>0.173562</td>\n",
       "      <td>0.084429</td>\n",
       "      <td>0.287714</td>\n",
       "      <td>9.518422</td>\n",
       "      <td>3.354613</td>\n",
       "      <td>8.122797</td>\n",
       "      <td>23.109516</td>\n",
       "      <td>0.226640</td>\n",
       "      <td>0</td>\n",
       "    </tr>\n",
       "    <tr>\n",
       "      <th>TCGA-B6-A0IN</th>\n",
       "      <td>2.807324</td>\n",
       "      <td>6.123478</td>\n",
       "      <td>4.525008</td>\n",
       "      <td>2.184523</td>\n",
       "      <td>0.390220</td>\n",
       "      <td>0.093891</td>\n",
       "      <td>12.359890</td>\n",
       "      <td>0.202386</td>\n",
       "      <td>0.229352</td>\n",
       "      <td>2.242073</td>\n",
       "      <td>...</td>\n",
       "      <td>8.944784</td>\n",
       "      <td>0.192926</td>\n",
       "      <td>0.047506</td>\n",
       "      <td>0.194059</td>\n",
       "      <td>10.988272</td>\n",
       "      <td>1.738462</td>\n",
       "      <td>3.270572</td>\n",
       "      <td>33.480400</td>\n",
       "      <td>5.842827</td>\n",
       "      <td>1</td>\n",
       "    </tr>\n",
       "    <tr>\n",
       "      <th>TCGA-B6-A0IK</th>\n",
       "      <td>2.210504</td>\n",
       "      <td>6.347181</td>\n",
       "      <td>7.262139</td>\n",
       "      <td>0.559040</td>\n",
       "      <td>0.241710</td>\n",
       "      <td>0.033288</td>\n",
       "      <td>10.064225</td>\n",
       "      <td>0.231763</td>\n",
       "      <td>0.602080</td>\n",
       "      <td>4.718078</td>\n",
       "      <td>...</td>\n",
       "      <td>7.249327</td>\n",
       "      <td>0.025844</td>\n",
       "      <td>0.808024</td>\n",
       "      <td>0.173014</td>\n",
       "      <td>15.094340</td>\n",
       "      <td>4.207761</td>\n",
       "      <td>6.508250</td>\n",
       "      <td>14.959917</td>\n",
       "      <td>0.903846</td>\n",
       "      <td>0</td>\n",
       "    </tr>\n",
       "    <tr>\n",
       "      <th>TCGA-B6-A0X7</th>\n",
       "      <td>8.493298</td>\n",
       "      <td>5.846693</td>\n",
       "      <td>7.171897</td>\n",
       "      <td>0.650557</td>\n",
       "      <td>0.430709</td>\n",
       "      <td>0.082316</td>\n",
       "      <td>22.092692</td>\n",
       "      <td>0.150717</td>\n",
       "      <td>0.026439</td>\n",
       "      <td>5.469725</td>\n",
       "      <td>...</td>\n",
       "      <td>8.115774</td>\n",
       "      <td>1.314699</td>\n",
       "      <td>0.125684</td>\n",
       "      <td>0.809823</td>\n",
       "      <td>13.761981</td>\n",
       "      <td>3.013818</td>\n",
       "      <td>7.545815</td>\n",
       "      <td>32.256446</td>\n",
       "      <td>0.310762</td>\n",
       "      <td>1</td>\n",
       "    </tr>\n",
       "    <tr>\n",
       "      <th>TCGA-BH-A1ES</th>\n",
       "      <td>7.372931</td>\n",
       "      <td>3.134393</td>\n",
       "      <td>8.721161</td>\n",
       "      <td>0.774077</td>\n",
       "      <td>0.220011</td>\n",
       "      <td>0.242394</td>\n",
       "      <td>13.753244</td>\n",
       "      <td>0.000000</td>\n",
       "      <td>0.365715</td>\n",
       "      <td>8.225709</td>\n",
       "      <td>...</td>\n",
       "      <td>4.038709</td>\n",
       "      <td>0.079238</td>\n",
       "      <td>0.036793</td>\n",
       "      <td>0.683710</td>\n",
       "      <td>8.418870</td>\n",
       "      <td>5.805489</td>\n",
       "      <td>7.635876</td>\n",
       "      <td>28.595659</td>\n",
       "      <td>0.047237</td>\n",
       "      <td>1</td>\n",
       "    </tr>\n",
       "  </tbody>\n",
       "</table>\n",
       "<p>153 rows × 526 columns</p>\n",
       "</div>"
      ],
      "text/plain": [
       "Gene_symbol              ZNF117          BTN3A2            TYW1  \\\n",
       "Gene_ensembl_id ENSG00000152926 ENSG00000186470 ENSG00000198874   \n",
       "TCGA-BH-A1FN           7.120216        4.985915        7.126943   \n",
       "TCGA-E9-A1NG           1.433767        8.839503        5.993562   \n",
       "TCGA-AR-A5QQ           1.203197        9.740210        2.741147   \n",
       "TCGA-AR-A24L           2.676938        5.113456        6.424086   \n",
       "TCGA-AC-A23H           1.527223        1.443108        5.757805   \n",
       "...                         ...             ...             ...   \n",
       "TCGA-AR-A2LH           3.434876        5.810295        6.758380   \n",
       "TCGA-B6-A0IN           2.807324        6.123478        4.525008   \n",
       "TCGA-B6-A0IK           2.210504        6.347181        7.262139   \n",
       "TCGA-B6-A0X7           8.493298        5.846693        7.171897   \n",
       "TCGA-BH-A1ES           7.372931        3.134393        8.721161   \n",
       "\n",
       "Gene_symbol             C2orf74          ZNF781         ZSCAN23  \\\n",
       "Gene_ensembl_id ENSG00000237651 ENSG00000196381 ENSG00000187987   \n",
       "TCGA-BH-A1FN           0.460833        0.479443        0.233240   \n",
       "TCGA-E9-A1NG           1.198498        0.560200        0.112217   \n",
       "TCGA-AR-A5QQ           0.837896        0.116986        0.025777   \n",
       "TCGA-AR-A24L           1.248896        0.236878        0.195733   \n",
       "TCGA-AC-A23H           0.447189        0.074923        0.053655   \n",
       "...                         ...             ...             ...   \n",
       "TCGA-AR-A2LH           1.020777        0.246389        0.119760   \n",
       "TCGA-B6-A0IN           2.184523        0.390220        0.093891   \n",
       "TCGA-B6-A0IK           0.559040        0.241710        0.033288   \n",
       "TCGA-B6-A0X7           0.650557        0.430709        0.082316   \n",
       "TCGA-BH-A1ES           0.774077        0.220011        0.242394   \n",
       "\n",
       "Gene_symbol               NUDT2            GYPE           WFDC3  \\\n",
       "Gene_ensembl_id ENSG00000164978 ENSG00000197465 ENSG00000124116   \n",
       "TCGA-BH-A1FN           8.484795        0.089906        0.636779   \n",
       "TCGA-E9-A1NG          10.685053        0.190402        0.519732   \n",
       "TCGA-AR-A5QQ          17.063258        0.179474        0.826921   \n",
       "TCGA-AR-A24L          20.999091        0.195956        0.242450   \n",
       "TCGA-AC-A23H          16.385836        0.094659        0.191557   \n",
       "...                         ...             ...             ...   \n",
       "TCGA-AR-A2LH          21.091085        0.326989        0.294266   \n",
       "TCGA-B6-A0IN          12.359890        0.202386        0.229352   \n",
       "TCGA-B6-A0IK          10.064225        0.231763        0.602080   \n",
       "TCGA-B6-A0X7          22.092692        0.150717        0.026439   \n",
       "TCGA-BH-A1ES          13.753244        0.000000        0.365715   \n",
       "\n",
       "Gene_symbol               MANBA  ...         RNASET2            PAX8  \\\n",
       "Gene_ensembl_id ENSG00000109323  ... ENSG00000026297 ENSG00000125618   \n",
       "TCGA-BH-A1FN           8.392460  ...        6.479719        0.143041   \n",
       "TCGA-E9-A1NG           8.067247  ...        6.713850        0.652537   \n",
       "TCGA-AR-A5QQ           4.892384  ...        5.732810        0.694746   \n",
       "TCGA-AR-A24L           7.417486  ...        3.247821        0.832990   \n",
       "TCGA-AC-A23H          11.752712  ...        5.295477        0.554810   \n",
       "...                         ...  ...             ...             ...   \n",
       "TCGA-AR-A2LH           6.061226  ...        8.638843        0.173562   \n",
       "TCGA-B6-A0IN           2.242073  ...        8.944784        0.192926   \n",
       "TCGA-B6-A0IK           4.718078  ...        7.249327        0.025844   \n",
       "TCGA-B6-A0X7           5.469725  ...        8.115774        1.314699   \n",
       "TCGA-BH-A1ES           8.225709  ...        4.038709        0.079238   \n",
       "\n",
       "Gene_symbol             SLC5A11          MAATS1         NDUFA10  \\\n",
       "Gene_ensembl_id ENSG00000158865 ENSG00000183833 ENSG00000130414   \n",
       "TCGA-BH-A1FN           0.428664        1.324786        6.583425   \n",
       "TCGA-E9-A1NG           0.015411        0.631393        8.841204   \n",
       "TCGA-AR-A5QQ           0.012391        0.023819        8.156408   \n",
       "TCGA-AR-A24L           0.118476        3.893493        9.007728   \n",
       "TCGA-AC-A23H           0.210290        0.404245       12.745408   \n",
       "...                         ...             ...             ...   \n",
       "TCGA-AR-A2LH           0.084429        0.287714        9.518422   \n",
       "TCGA-B6-A0IN           0.047506        0.194059       10.988272   \n",
       "TCGA-B6-A0IK           0.808024        0.173014       15.094340   \n",
       "TCGA-B6-A0X7           0.125684        0.809823       13.761981   \n",
       "TCGA-BH-A1ES           0.036793        0.683710        8.418870   \n",
       "\n",
       "Gene_symbol               SNX16           PNPT1         TMEM115  \\\n",
       "Gene_ensembl_id ENSG00000104497 ENSG00000138035 ENSG00000126062   \n",
       "TCGA-BH-A1FN           2.960510       10.835174       11.768108   \n",
       "TCGA-E9-A1NG           2.485926        5.548466       22.074770   \n",
       "TCGA-AR-A5QQ           1.624627        6.424533       28.273353   \n",
       "TCGA-AR-A24L           3.402171        9.044260       17.072526   \n",
       "TCGA-AC-A23H           2.310231        7.199830       19.680244   \n",
       "...                         ...             ...             ...   \n",
       "TCGA-AR-A2LH           3.354613        8.122797       23.109516   \n",
       "TCGA-B6-A0IN           1.738462        3.270572       33.480400   \n",
       "TCGA-B6-A0IK           4.207761        6.508250       14.959917   \n",
       "TCGA-B6-A0X7           3.013818        7.545815       32.256446   \n",
       "TCGA-BH-A1ES           5.805489        7.635876       28.595659   \n",
       "\n",
       "Gene_symbol               UPK3B Three_year_status  \n",
       "Gene_ensembl_id ENSG00000243566 Three_year_status  \n",
       "TCGA-BH-A1FN           0.084667                 1  \n",
       "TCGA-E9-A1NG           0.103874                 0  \n",
       "TCGA-AR-A5QQ           0.485176                 0  \n",
       "TCGA-AR-A24L           0.174472                 1  \n",
       "TCGA-AC-A23H           0.081503                 0  \n",
       "...                         ...               ...  \n",
       "TCGA-AR-A2LH           0.226640                 0  \n",
       "TCGA-B6-A0IN           5.842827                 1  \n",
       "TCGA-B6-A0IK           0.903846                 0  \n",
       "TCGA-B6-A0X7           0.310762                 1  \n",
       "TCGA-BH-A1ES           0.047237                 1  \n",
       "\n",
       "[153 rows x 526 columns]"
      ]
     },
     "execution_count": 29,
     "metadata": {},
     "output_type": "execute_result"
    }
   ],
   "source": [
    "cis_95"
   ]
  },
  {
   "cell_type": "code",
   "execution_count": 30,
   "id": "24da1a57",
   "metadata": {},
   "outputs": [
    {
     "data": {
      "text/plain": [
       "array([0])"
      ]
     },
     "execution_count": 30,
     "metadata": {},
     "output_type": "execute_result"
    }
   ],
   "source": [
    "#Check cisform_switch for and missing data\n",
    "\n",
    "cis_95.isnull().sum().unique()"
   ]
  },
  {
   "cell_type": "code",
   "execution_count": 31,
   "id": "a42917b7",
   "metadata": {},
   "outputs": [
    {
     "data": {
      "text/plain": [
       "array([0])"
      ]
     },
     "execution_count": 31,
     "metadata": {},
     "output_type": "execute_result"
    }
   ],
   "source": [
    "#Check all genes file for missing data\n",
    "\n",
    "all_genes_survival.isnull().sum().sort_values(ascending = False)\n",
    "all_genes_survival.isnull().sum().unique()\n"
   ]
  },
  {
   "cell_type": "code",
   "execution_count": null,
   "id": "d28b5748",
   "metadata": {},
   "outputs": [],
   "source": []
  },
  {
   "cell_type": "code",
   "execution_count": 32,
   "id": "53ddf98b",
   "metadata": {},
   "outputs": [
    {
     "data": {
      "text/plain": [
       "1.1549295774647887"
      ]
     },
     "execution_count": 32,
     "metadata": {},
     "output_type": "execute_result"
    }
   ],
   "source": [
    "#Check three year survival ratio ... since almost equal will not use 'class_weight' in model\n",
    "\n",
    "survival_ratio = sum(cis_95['Three_year_status','Three_year_status']==1) / sum(cis_95['Three_year_status','Three_year_status']==0)\n",
    "survival_ratio"
   ]
  },
  {
   "cell_type": "code",
   "execution_count": 33,
   "id": "35191978",
   "metadata": {},
   "outputs": [],
   "source": [
    "#Do an initial train test split to extract an 'unseen' test set of data (30%) for both cisform and all genes\n",
    "#Set stratify as y to keep same ratio in test data\n",
    "\n",
    "X_full_cis = cis_95.drop('Three_year_status',axis=1,level=0)\n",
    "y_full_cis = cis_95['Three_year_status','Three_year_status']\n",
    "\n",
    "X_develop_cis, X_test_cis, y_develop_cis, y_test_cis = train_test_split(X_full_cis, y_full_cis, test_size=0.3, random_state=60,stratify=y_full_cis)\n"
   ]
  },
  {
   "cell_type": "code",
   "execution_count": 34,
   "id": "c1d8e054",
   "metadata": {},
   "outputs": [],
   "source": [
    "#Repeat for all genes .. using random sample of same number of genes as cis eQTLs\n",
    "\n",
    "X_full_all = all_genes_survival.drop('Three_year_status',axis=1,level=0)\n",
    "y_full_all = all_genes_survival['Three_year_status','Three_year_status']\n",
    "\n",
    "#Take a random sample of genes 5 seperate times .. use X_full_iso.columns to acquire same num of genes as isoform\n",
    "X_random_1 = X_full_all.sample(n=len(X_full_cis.columns),axis=1)\n",
    "X_random_2 = X_full_all.sample(n=len(X_full_cis.columns),axis=1)\n",
    "X_random_3 = X_full_all.sample(n=len(X_full_cis.columns),axis=1)\n",
    "\n",
    "#Change random state for each \n",
    "X_develop_ran_1, X_test_ran_1, y_develop_ran_1, y_test_ran_1 = train_test_split(X_random_1, y_full_all, test_size=0.3, random_state=1,stratify=y_full_all)\n",
    "X_develop_ran_2, X_test_ran_2, y_develop_ran_2, y_test_ran_2 = train_test_split(X_random_2, y_full_all, test_size=0.3, random_state=2,stratify=y_full_all)\n",
    "X_develop_ran_3, X_test_ran_3, y_develop_ran_3, y_test_ran_3 = train_test_split(X_random_3, y_full_all, test_size=0.3, random_state=44,stratify=y_full_all)\n",
    "\n",
    "\n"
   ]
  },
  {
   "cell_type": "code",
   "execution_count": null,
   "id": "521b9d15",
   "metadata": {},
   "outputs": [],
   "source": []
  },
  {
   "cell_type": "code",
   "execution_count": null,
   "id": "98d7ece9",
   "metadata": {},
   "outputs": [],
   "source": []
  },
  {
   "cell_type": "code",
   "execution_count": 35,
   "id": "f8343a60",
   "metadata": {},
   "outputs": [],
   "source": [
    "#First do simple Logistic Regression with gridsearch to determine optimal parameters\n",
    "\n",
    "def grid_search_LR(X,y):\n",
    "    '''Perform logistic regression grid search. Supply development X and y data.'''\n",
    "\n",
    "    #Logistic Regression with dual = False since n_samples > n_features\n",
    "    classifier = LogisticRegression(dual=False)\n",
    "    \n",
    "    #Want to add PCA to pipeline\n",
    "    pca = PCA(n_components=10)\n",
    "\n",
    "    #Pipeline containing Log Reg classifier and Log Reg with deafault settings for feature engineering\n",
    "    #Also added scaler as error related to iterations / convergance appears, which can be due to 'poor scaling'\n",
    "    LR_pipeline = Pipeline(steps=[('scale', StandardScaler()),\n",
    "                                  ('pca',pca),\n",
    "                                  ('feature_selection', SelectFromModel(LogisticRegression(dual=False))),\n",
    "                                  ('classifier',classifier)])\n",
    "\n",
    "\n",
    "    #Two dictionaries of potential potential parameters to account for penalties and solvers that can/can't go togther\n",
    "    #The PCA searches from 1 upto max number of features / genes in 5 steps (since can't search PC's more than max num of features)\n",
    "    param_grid = [\n",
    "        {'classifier__penalty': ['l1'], 'classifier__solver': ['liblinear', 'saga'],\n",
    "         'classifier__C':[0.01,0.1,1,10,100]},\n",
    "        {'classifier__penalty': ['l2'], 'classifier__solver': ['liblinear', 'sag', 'saga','newton-cg'],\n",
    "         'classifier__C':[0.01,0.1,1,10,100]}\n",
    "    ]\n",
    "\n",
    "\n",
    "    #Use repeated stratified k fold to maintian ratio between tumor and normal and do multliple splits of data\n",
    "    r_stratkfold = RepeatedStratifiedKFold(n_splits=3, n_repeats=3, random_state=0)\n",
    "\n",
    "    grid_search = GridSearchCV(LR_pipeline, param_grid=param_grid, scoring=\"roc_auc\",cv=r_stratkfold)\n",
    "\n",
    "    #Fit on development data\n",
    "    grid_search.fit(X, y)\n",
    "    \n",
    "    #Create dictinoary to store the best parameters\n",
    "    best_params = {}\n",
    "    \n",
    "    for k,v in grid_search.best_params_.items():\n",
    "        \n",
    "        best_params[k] = v\n",
    " \n",
    "    #Return the best_params dictinoary => run this fuction and save as new variable in relation to what X and y run\n",
    "    return best_params"
   ]
  },
  {
   "cell_type": "code",
   "execution_count": 36,
   "id": "0749e8a8",
   "metadata": {
    "scrolled": true
   },
   "outputs": [
    {
     "data": {
      "text/plain": [
       "{'classifier__C': 0.1,\n",
       " 'classifier__penalty': 'l1',\n",
       " 'classifier__solver': 'liblinear'}"
      ]
     },
     "execution_count": 36,
     "metadata": {},
     "output_type": "execute_result"
    }
   ],
   "source": [
    "#Run the gridsearch for both the cisform and all genes development data to create dictionaries to plug into CV\n",
    "\n",
    "best_params_cis = grid_search_LR(X_develop_cis,y_develop_cis)\n",
    "best_params_cis"
   ]
  },
  {
   "cell_type": "code",
   "execution_count": 37,
   "id": "f1af3b0e",
   "metadata": {
    "scrolled": true
   },
   "outputs": [
    {
     "name": "stderr",
     "output_type": "stream",
     "text": [
      "/Users/jake/opt/anaconda3/lib/python3.7/site-packages/sklearn/linear_model/_sag.py:329: ConvergenceWarning: The max_iter was reached which means the coef_ did not converge\n",
      "  \"the coef_ did not converge\", ConvergenceWarning)\n",
      "/Users/jake/opt/anaconda3/lib/python3.7/site-packages/sklearn/linear_model/_sag.py:329: ConvergenceWarning: The max_iter was reached which means the coef_ did not converge\n",
      "  \"the coef_ did not converge\", ConvergenceWarning)\n",
      "/Users/jake/opt/anaconda3/lib/python3.7/site-packages/sklearn/linear_model/_sag.py:329: ConvergenceWarning: The max_iter was reached which means the coef_ did not converge\n",
      "  \"the coef_ did not converge\", ConvergenceWarning)\n",
      "/Users/jake/opt/anaconda3/lib/python3.7/site-packages/sklearn/linear_model/_sag.py:329: ConvergenceWarning: The max_iter was reached which means the coef_ did not converge\n",
      "  \"the coef_ did not converge\", ConvergenceWarning)\n",
      "/Users/jake/opt/anaconda3/lib/python3.7/site-packages/sklearn/linear_model/_sag.py:329: ConvergenceWarning: The max_iter was reached which means the coef_ did not converge\n",
      "  \"the coef_ did not converge\", ConvergenceWarning)\n"
     ]
    }
   ],
   "source": [
    "best_params_ran_1 = grid_search_LR(X_develop_ran_1,y_develop_ran_1)\n",
    "best_params_ran_2 = grid_search_LR(X_develop_ran_2,y_develop_ran_2)\n",
    "best_params_ran_3 = grid_search_LR(X_develop_ran_3,y_develop_ran_3)"
   ]
  },
  {
   "cell_type": "code",
   "execution_count": null,
   "id": "b53fdc44",
   "metadata": {},
   "outputs": [],
   "source": []
  },
  {
   "cell_type": "code",
   "execution_count": null,
   "id": "7d69f2a1",
   "metadata": {
    "scrolled": true
   },
   "outputs": [],
   "source": []
  },
  {
   "cell_type": "code",
   "execution_count": 38,
   "id": "20e13147",
   "metadata": {},
   "outputs": [],
   "source": [
    "#Now define model functions that will return cross_validate to evalaute model overall"
   ]
  },
  {
   "cell_type": "code",
   "execution_count": 39,
   "id": "d8668bb9",
   "metadata": {},
   "outputs": [],
   "source": [
    "# Create a function that cross validates the data\n",
    "\n",
    "def LR_model_cv(X, y, best_params_dict, repeats = 3, splits = 3):\n",
    "    '''LR model function. Takes in X and y development data, repeats, splits and the required best_params dictinoary'''\n",
    "\n",
    "    #First perform RepeatedStratifiedKFold\n",
    "    r_stratkfold = RepeatedStratifiedKFold(n_splits=splits, n_repeats=repeats)\n",
    "    \n",
    "    # Create classifier with LR model using best_params_cis from gridsearch\n",
    "    \n",
    "    classifier = LogisticRegression(C=best_params_dict['classifier__C'],\n",
    "                                   penalty= best_params_dict['classifier__penalty'],\n",
    "                                   solver = best_params_dict['classifier__solver'], \n",
    "                                   random_state=1,\n",
    "                                   dual = False)\n",
    "    \n",
    "    #Create pipleine with scaling, feature selection (set as classifier to add best parameters) and the classifier\n",
    "    LR_pipeline = Pipeline(steps=[('scale', StandardScaler()),\n",
    "                                  ('pca',PCA(n_components=10)),\n",
    "                                   ('feature_selection', SelectFromModel(classifier)),\n",
    "                                   ('classifier',classifier)])\n",
    "    \n",
    "    \n",
    "    # evaluate the cross_validate\n",
    "    scores_cv = cross_validate(LR_pipeline, X, y, cv=r_stratkfold,\n",
    "                            scoring=('f1_weighted','roc_auc','balanced_accuracy','precision_weighted','recall_weighted'))\n",
    "    \n",
    "    #Define performance metrics to return \n",
    "    F1 = str(f\"Mean F1 weighted = {scores_cv['test_f1_weighted'].mean():.3f} SEM = {sem(scores_cv['test_f1_weighted']):.3f}\")\n",
    "    ROCAUC = str(f\"Mean ROCAUC score = {scores_cv['test_roc_auc'].mean():.3f} SEM = {sem(scores_cv['test_roc_auc']):.3f} \")\n",
    "    Accuracy = str(f\"Mean balanced accuracy score = {scores_cv['test_balanced_accuracy'].mean():.3f} SEM = {sem(scores_cv['test_balanced_accuracy']):.3f} \")\n",
    "    Precision = str(f\"Mean weighted precision = {scores_cv['test_precision_weighted'].mean():.3f} SEM = {sem(scores_cv['test_precision_weighted']):.3f} \")\n",
    "    Recall = str(f\"Mean weighted recall = {scores_cv['test_recall_weighted'].mean():.3f} SEM = {sem(scores_cv['test_recall_weighted']):.3f} \")\n",
    "    \n",
    "    return F1, ROCAUC, Accuracy, Precision, Recall"
   ]
  },
  {
   "cell_type": "code",
   "execution_count": null,
   "id": "e3bf100f",
   "metadata": {},
   "outputs": [],
   "source": []
  },
  {
   "cell_type": "code",
   "execution_count": 40,
   "id": "b6b48b7b",
   "metadata": {},
   "outputs": [
    {
     "data": {
      "text/plain": [
       "('Mean F1 weighted = 0.532 SEM = 0.016',\n",
       " 'Mean ROCAUC score = 0.511 SEM = 0.021 ',\n",
       " 'Mean balanced accuracy score = 0.536 SEM = 0.018 ',\n",
       " 'Mean weighted precision = 0.541 SEM = 0.019 ',\n",
       " 'Mean weighted recall = 0.536 SEM = 0.017 ')"
      ]
     },
     "execution_count": 40,
     "metadata": {},
     "output_type": "execute_result"
    }
   ],
   "source": [
    "#Compare the two cross validations with 3 repeats and 3 splits\n",
    "\n",
    "LR_model_cv(X_develop_cis,y_develop_cis,best_params_cis)"
   ]
  },
  {
   "cell_type": "code",
   "execution_count": 41,
   "id": "b5b90aa9",
   "metadata": {},
   "outputs": [
    {
     "name": "stderr",
     "output_type": "stream",
     "text": [
      "/Users/jake/opt/anaconda3/lib/python3.7/site-packages/sklearn/linear_model/_sag.py:329: ConvergenceWarning: The max_iter was reached which means the coef_ did not converge\n",
      "  \"the coef_ did not converge\", ConvergenceWarning)\n",
      "/Users/jake/opt/anaconda3/lib/python3.7/site-packages/sklearn/linear_model/_sag.py:329: ConvergenceWarning: The max_iter was reached which means the coef_ did not converge\n",
      "  \"the coef_ did not converge\", ConvergenceWarning)\n",
      "/Users/jake/opt/anaconda3/lib/python3.7/site-packages/sklearn/linear_model/_sag.py:329: ConvergenceWarning: The max_iter was reached which means the coef_ did not converge\n",
      "  \"the coef_ did not converge\", ConvergenceWarning)\n",
      "/Users/jake/opt/anaconda3/lib/python3.7/site-packages/sklearn/linear_model/_sag.py:329: ConvergenceWarning: The max_iter was reached which means the coef_ did not converge\n",
      "  \"the coef_ did not converge\", ConvergenceWarning)\n"
     ]
    },
    {
     "data": {
      "text/plain": [
       "('Mean F1 weighted = 0.553 SEM = 0.016',\n",
       " 'Mean ROCAUC score = 0.590 SEM = 0.030 ',\n",
       " 'Mean balanced accuracy score = 0.555 SEM = 0.016 ',\n",
       " 'Mean weighted precision = 0.561 SEM = 0.017 ',\n",
       " 'Mean weighted recall = 0.561 SEM = 0.016 ')"
      ]
     },
     "execution_count": 41,
     "metadata": {},
     "output_type": "execute_result"
    }
   ],
   "source": [
    "LR_model_cv(X_develop_ran_1,y_develop_ran_1,best_params_ran_1)"
   ]
  },
  {
   "cell_type": "code",
   "execution_count": null,
   "id": "9f9a957d",
   "metadata": {},
   "outputs": [],
   "source": []
  },
  {
   "cell_type": "code",
   "execution_count": 42,
   "id": "68ad573c",
   "metadata": {},
   "outputs": [],
   "source": [
    "#Now create models utilising the above parameters to perform a test on the unseeen test data"
   ]
  },
  {
   "cell_type": "code",
   "execution_count": 43,
   "id": "b91602f3",
   "metadata": {},
   "outputs": [],
   "source": [
    "# Create function to perform test\n",
    "\n",
    "def LR_model_test(X_develop,y_develop,X_test,y_test, best_params_dict):\n",
    "    '''Function fits the predetermined LR_pipeline for the data before predicting on the unseen test data'''\n",
    "    \n",
    "    classifier = LogisticRegression(C=best_params_dict['classifier__C'],\n",
    "                                   penalty= best_params_dict['classifier__penalty'],\n",
    "                                   solver = best_params_dict['classifier__solver'], \n",
    "                                   random_state=1,\n",
    "                                   dual = False)\n",
    "    \n",
    "    LR_pipeline = Pipeline(steps=[('scale', StandardScaler()),\n",
    "                                  ('pca',PCA(n_components=10)),\n",
    "                                   ('feature_selection', SelectFromModel(classifier)),\n",
    "                                   ('classifier',classifier)])\n",
    "    \n",
    "    #Fit on the develop data\n",
    "    LR_pipeline.fit(X_develop,y_develop)\n",
    "    \n",
    "    #Then make predictions on the unseen test data from the initial train test split\n",
    "    predictions = LR_pipeline.predict(X_test)\n",
    "    \n",
    "    #Return classification report and ROCAUC score\n",
    "    print (classification_report(predictions,y_test,target_names=['Desceased Before - 0','Deceased After - 1']))\n",
    "    \n",
    "    ROCAUC =  round(roc_auc_score(predictions,y_test),2)\n",
    "    \n",
    "    return ROCAUC"
   ]
  },
  {
   "cell_type": "code",
   "execution_count": null,
   "id": "592a0049",
   "metadata": {},
   "outputs": [],
   "source": []
  },
  {
   "cell_type": "code",
   "execution_count": 44,
   "id": "ddf681fb",
   "metadata": {},
   "outputs": [],
   "source": [
    "#Now run on both set of data to compare the results"
   ]
  },
  {
   "cell_type": "code",
   "execution_count": 45,
   "id": "c731aa9a",
   "metadata": {},
   "outputs": [
    {
     "name": "stdout",
     "output_type": "stream",
     "text": [
      "                      precision    recall  f1-score   support\n",
      "\n",
      "Desceased Before - 0       0.71      0.56      0.63        27\n",
      "  Deceased After - 1       0.52      0.68      0.59        19\n",
      "\n",
      "            accuracy                           0.61        46\n",
      "           macro avg       0.62      0.62      0.61        46\n",
      "        weighted avg       0.63      0.61      0.61        46\n",
      "\n"
     ]
    },
    {
     "data": {
      "text/plain": [
       "0.62"
      ]
     },
     "execution_count": 45,
     "metadata": {},
     "output_type": "execute_result"
    }
   ],
   "source": [
    "LR_model_test(X_develop_cis,y_develop_cis,X_test_cis,y_test_cis,best_params_cis)"
   ]
  },
  {
   "cell_type": "code",
   "execution_count": 46,
   "id": "516b11b7",
   "metadata": {},
   "outputs": [
    {
     "name": "stdout",
     "output_type": "stream",
     "text": [
      "                      precision    recall  f1-score   support\n",
      "\n",
      "Desceased Before - 0       0.43      0.64      0.51        14\n",
      "  Deceased After - 1       0.80      0.62      0.70        32\n",
      "\n",
      "            accuracy                           0.63        46\n",
      "           macro avg       0.61      0.63      0.61        46\n",
      "        weighted avg       0.69      0.63      0.64        46\n",
      "\n",
      "                      precision    recall  f1-score   support\n",
      "\n",
      "Desceased Before - 0       0.52      0.58      0.55        19\n",
      "  Deceased After - 1       0.68      0.63      0.65        27\n",
      "\n",
      "            accuracy                           0.61        46\n",
      "           macro avg       0.60      0.60      0.60        46\n",
      "        weighted avg       0.62      0.61      0.61        46\n",
      "\n",
      "                      precision    recall  f1-score   support\n",
      "\n",
      "Desceased Before - 0       0.33      0.50      0.40        14\n",
      "  Deceased After - 1       0.72      0.56      0.63        32\n",
      "\n",
      "            accuracy                           0.54        46\n",
      "           macro avg       0.53      0.53      0.52        46\n",
      "        weighted avg       0.60      0.54      0.56        46\n",
      "\n"
     ]
    },
    {
     "name": "stderr",
     "output_type": "stream",
     "text": [
      "/Users/jake/opt/anaconda3/lib/python3.7/site-packages/sklearn/linear_model/_sag.py:329: ConvergenceWarning: The max_iter was reached which means the coef_ did not converge\n",
      "  \"the coef_ did not converge\", ConvergenceWarning)\n",
      "/Users/jake/opt/anaconda3/lib/python3.7/site-packages/sklearn/linear_model/_sag.py:329: ConvergenceWarning: The max_iter was reached which means the coef_ did not converge\n",
      "  \"the coef_ did not converge\", ConvergenceWarning)\n",
      "/Users/jake/opt/anaconda3/lib/python3.7/site-packages/sklearn/linear_model/_sag.py:329: ConvergenceWarning: The max_iter was reached which means the coef_ did not converge\n",
      "  \"the coef_ did not converge\", ConvergenceWarning)\n"
     ]
    }
   ],
   "source": [
    "ran_test_1 = LR_model_test(X_develop_ran_1,y_develop_ran_1,X_test_ran_1,y_test_ran_1,best_params_ran_1)\n",
    "ran_test_2 = LR_model_test(X_develop_ran_2,y_develop_ran_2,X_test_ran_2,y_test_ran_2,best_params_ran_2)\n",
    "ran_test_3 = LR_model_test(X_develop_ran_3,y_develop_ran_3,X_test_ran_3,y_test_ran_3,best_params_ran_3)"
   ]
  },
  {
   "cell_type": "code",
   "execution_count": 47,
   "id": "6b3ecafd",
   "metadata": {},
   "outputs": [
    {
     "name": "stdout",
     "output_type": "stream",
     "text": [
      "Mean random ROCAUC sore = 0.59 ± 0.04\n"
     ]
    }
   ],
   "source": [
    "#Calculate mean and standard error of mean for the three random gene data sets\n",
    "\n",
    "mean_random_ROCAUC =round(np.mean([ran_test_1,ran_test_2,ran_test_3]),2)\n",
    "STD_random_ROCAUC =round(np.std([ran_test_1,ran_test_2,ran_test_3]),2)\n",
    "\n",
    "print(f'Mean random ROCAUC sore = {mean_random_ROCAUC} ± {STD_random_ROCAUC}')"
   ]
  },
  {
   "cell_type": "code",
   "execution_count": null,
   "id": "f0914bcb",
   "metadata": {},
   "outputs": [],
   "source": []
  },
  {
   "cell_type": "code",
   "execution_count": 48,
   "id": "12b69946",
   "metadata": {},
   "outputs": [],
   "source": [
    "#Def function to extract the features selected during pipeline SelectFromModel as a list \n",
    "\n",
    "def LR_model_features(X, y, best_params_dict, repeats = 3, splits = 3, max_features = None):\n",
    "    '''LR model function. Takes in X and y development data, repeats, splits, the required best_params dictinoary and the max_features to return from SelectFromModel'''\n",
    "\n",
    "    #First perform RepeatedStratifiedKFold\n",
    "    r_stratkfold = RepeatedStratifiedKFold(n_splits=splits, n_repeats=repeats)\n",
    "    \n",
    "    # Create classifier with LR model using best_params_cis from gridsearch\n",
    "    \n",
    "    classifier = LogisticRegression(C=best_params_dict['classifier__C'],\n",
    "                                   penalty= best_params_dict['classifier__penalty'],\n",
    "                                   solver = best_params_dict['classifier__solver'], \n",
    "                                   random_state=1,\n",
    "                                   dual = False)\n",
    "    \n",
    "    #Create pipleine with scaling, feature selection (set as classifier to add best parameters) and the classifier\n",
    "    LR_pipeline = Pipeline(steps=[('scale', StandardScaler()),\n",
    "                                  ('pca',PCA(n_components=10)),\n",
    "                                   ('feature_selection', SelectFromModel(classifier,max_features=max_features)),\n",
    "                                   ('classifier',classifier)])\n",
    "    \n",
    "    \n",
    "    # evaluate the cross_validate\n",
    "    scores_cv = cross_validate(LR_pipeline, X, y, cv=r_stratkfold,\n",
    "                            scoring=('f1_weighted','roc_auc','balanced_accuracy','precision_weighted','recall_weighted'))\n",
    "    \n",
    "    \n",
    "    #To get the features selected via SelectFromModel need to fit the pipeline and extract the named_steps['feature_selection']\n",
    "    selected_features = LR_pipeline.named_steps['feature_selection'].fit(X,y)\n",
    "    \n",
    "    #Can then plug selected_features.get_support into X.columns (which is full set of features)\n",
    "    features = X.columns[selected_features.get_support()]\n",
    "    \n",
    "    #Create series for plot off feature importance - coefficient value for each feature = coef_[0]\n",
    "    feat_importances = pd.Series(selected_features.estimator_.coef_[0],index= X.columns)\n",
    "    \n",
    "    #Plot\n",
    "    plt.figure(figsize=(12,6))\n",
    "    feat_importances.nlargest(10).plot(kind='barh')\n",
    "    plt.xlabel('Feature Importance')\n",
    "    \n",
    "    return list(features)"
   ]
  },
  {
   "cell_type": "code",
   "execution_count": 49,
   "id": "349f38ae",
   "metadata": {},
   "outputs": [
    {
     "data": {
      "text/plain": [
       "[('PLPP1', 'ENSG00000067113'),\n",
       " ('KYAT3', 'ENSG00000137944'),\n",
       " ('SFXN2', 'ENSG00000156398'),\n",
       " ('CST2', 'ENSG00000170369'),\n",
       " ('TIMM10', 'ENSG00000134809'),\n",
       " ('MAEL', 'ENSG00000143194'),\n",
       " ('CD177', 'ENSG00000204936'),\n",
       " ('KLHL5', 'ENSG00000109790'),\n",
       " ('POLR1B', 'ENSG00000125630'),\n",
       " ('GOLT1B', 'ENSG00000111711')]"
      ]
     },
     "execution_count": 49,
     "metadata": {},
     "output_type": "execute_result"
    },
    {
     "data": {
      "image/png": "[encoded data removed]",
      "text/plain": [
       "<Figure size 864x432 with 1 Axes>"
      ]
     },
     "metadata": {
      "needs_background": "light"
     },
     "output_type": "display_data"
    }
   ],
   "source": [
    "top_10_genes_cis = LR_model_features(X_develop_cis,y_develop_cis,best_params_cis,max_features=10)\n",
    "top_10_genes_cis\n"
   ]
  },
  {
   "cell_type": "code",
   "execution_count": null,
   "id": "a643b6f7",
   "metadata": {},
   "outputs": [],
   "source": []
  },
  {
   "cell_type": "code",
   "execution_count": null,
   "id": "f1056881",
   "metadata": {
    "scrolled": false
   },
   "outputs": [],
   "source": []
  },
  {
   "cell_type": "code",
   "execution_count": null,
   "id": "e46c5ceb",
   "metadata": {},
   "outputs": [],
   "source": []
  }
 ],
 "metadata": {
  "kernelspec": {
   "display_name": "Python 3",
   "language": "python",
   "name": "python3"
  },
  "language_info": {
   "codemirror_mode": {
    "name": "ipython",
    "version": 3
   },
   "file_extension": ".py",
   "mimetype": "text/x-python",
   "name": "python",
   "nbconvert_exporter": "python",
   "pygments_lexer": "ipython3",
   "version": "3.7.10"
  }
 },
 "nbformat": 4,
 "nbformat_minor": 5
}
