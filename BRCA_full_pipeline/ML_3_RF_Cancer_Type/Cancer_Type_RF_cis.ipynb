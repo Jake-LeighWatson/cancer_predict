{
 "cells": [
  {
   "cell_type": "code",
   "execution_count": 1,
   "id": "cede400e",
   "metadata": {},
   "outputs": [],
   "source": [
    "import pandas as pd\n",
    "import seaborn as sns \n",
    "import numpy as np\n",
    "import glob\n",
    "import matplotlib.pyplot as plt\n",
    "from scipy.stats import sem\n",
    "%matplotlib inline\n",
    "%config Completer.use_jedi = False\n",
    "\n",
    "\n",
    "#import required sklearn for random forest classifier\n",
    "\n",
    "import sklearn as sklearn\n",
    "from sklearn.model_selection import train_test_split\n",
    "from sklearn.ensemble import RandomForestClassifier\n",
    "from sklearn.metrics import mean_squared_error, classification_report, confusion_matrix,roc_auc_score, f1_score, make_scorer\n",
    "from sklearn.utils import resample\n",
    "from sklearn.pipeline import Pipeline\n",
    "from sklearn.model_selection import cross_val_score, StratifiedKFold, GridSearchCV, RepeatedStratifiedKFold, RepeatedKFold, cross_validate\n",
    "from sklearn.feature_selection import mutual_info_classif,VarianceThreshold, SelectFromModel\n",
    "from sklearn.svm import LinearSVC\n",
    "from sklearn.preprocessing import StandardScaler, LabelEncoder\n",
    "from sklearn.decomposition import PCA\n",
    "from sklearn.linear_model import LogisticRegression"
   ]
  },
  {
   "cell_type": "code",
   "execution_count": 2,
   "id": "5bc2f8c7",
   "metadata": {},
   "outputs": [],
   "source": [
    "#Import FPKM data for all cancers matched with tissue / cancer status\n",
    "\n",
    "all_cancers_file = '/Users/jake/OneDrive - University of Glasgow/Project/Cancer Stratification/all_cancers_SS_filtered.csv'\n",
    "all_cancers = pd.read_csv(all_cancers_file,header=[0,1],sep='\\t',index_col=[0])"
   ]
  },
  {
   "cell_type": "code",
   "execution_count": null,
   "id": "1d6ff301",
   "metadata": {},
   "outputs": [],
   "source": []
  },
  {
   "cell_type": "code",
   "execution_count": 3,
   "id": "1422bcd9",
   "metadata": {},
   "outputs": [],
   "source": [
    "#Load all cis_95 95 csvs for all cancer types \n",
    "\n",
    "BRCA_cis_95_file = '/Users/jake/OneDrive - University of Glasgow/Project/BRCA/eQTL/eQTL_95/BRCA_cis_eQTL_95_ensembl.csv'\n",
    "KIRC_cis_95_file = '/Users/jake/OneDrive - University of Glasgow/Project/KIRC/eQTL/eQTL_95/KIRC_cis_eQTL_95_ensembl.csv'\n",
    "LUAD_cis_95_file = '/Users/jake/OneDrive - University of Glasgow/Project/LUAD/eQTL/eQTL_95/LUAD_cis_eQTL_95_ensembl.csv'\n",
    "THCA_cis_95_file = '/Users/jake/OneDrive - University of Glasgow/Project/THCA/eQTL/eQTL_95/THCA_cis_eQTL_95_ensembl.csv'\n",
    "\n",
    "BRCA_cis_95 = pd.read_csv(BRCA_cis_95_file,sep='\\t')\n",
    "KIRC_cis_95 = pd.read_csv(KIRC_cis_95_file,sep='\\t')\n",
    "LUAD_cis_95 = pd.read_csv(LUAD_cis_95_file,sep='\\t')\n",
    "THCA_cis_95 = pd.read_csv(THCA_cis_95_file,sep='\\t')"
   ]
  },
  {
   "cell_type": "code",
   "execution_count": 4,
   "id": "170b980e",
   "metadata": {},
   "outputs": [
    {
     "data": {
      "text/plain": [
       "Gene_symbol           Gene_ensembl_id     \n",
       "A1BG                  ENSG00000121410         0\n",
       "PPP1R9A               ENSG00000158528         0\n",
       "PPP2R2B               ENSG00000156475         0\n",
       "PPP2R2A               ENSG00000221914         0\n",
       "PPP2R1B               ENSG00000137713         0\n",
       "                                             ..\n",
       "GBP6                  ENSG00000183347         0\n",
       "GBP5                  ENSG00000154451         0\n",
       "GBP4                  ENSG00000162654         0\n",
       "GBP3                  ENSG00000117226         0\n",
       "Cancer_tissue_status  Cancer_tissue_status    0\n",
       "Length: 19536, dtype: int64"
      ]
     },
     "execution_count": 4,
     "metadata": {},
     "output_type": "execute_result"
    }
   ],
   "source": [
    "#Check for missing values\n",
    "\n",
    "all_cancers.isnull().sum().sort_values(ascending=False)"
   ]
  },
  {
   "cell_type": "code",
   "execution_count": null,
   "id": "9ded6623",
   "metadata": {},
   "outputs": [],
   "source": []
  },
  {
   "cell_type": "code",
   "execution_count": 5,
   "id": "279ebbe8",
   "metadata": {},
   "outputs": [
    {
     "data": {
      "text/html": [
       "<div>\n",
       "<style scoped>\n",
       "    .dataframe tbody tr th:only-of-type {\n",
       "        vertical-align: middle;\n",
       "    }\n",
       "\n",
       "    .dataframe tbody tr th {\n",
       "        vertical-align: top;\n",
       "    }\n",
       "\n",
       "    .dataframe thead th {\n",
       "        text-align: right;\n",
       "    }\n",
       "</style>\n",
       "<table border=\"1\" class=\"dataframe\">\n",
       "  <thead>\n",
       "    <tr style=\"text-align: right;\">\n",
       "      <th></th>\n",
       "      <th>PC 1</th>\n",
       "      <th>PC 2</th>\n",
       "      <th>(Cancer_tissue_status, Cancer_tissue_status)</th>\n",
       "    </tr>\n",
       "  </thead>\n",
       "  <tbody>\n",
       "    <tr>\n",
       "      <th>TCGA-BH-A1FN</th>\n",
       "      <td>57.254148</td>\n",
       "      <td>-41.049840</td>\n",
       "      <td>BRCA_1</td>\n",
       "    </tr>\n",
       "    <tr>\n",
       "      <th>TCGA-E9-A1NG</th>\n",
       "      <td>8.069494</td>\n",
       "      <td>-8.413092</td>\n",
       "      <td>BRCA_1</td>\n",
       "    </tr>\n",
       "    <tr>\n",
       "      <th>TCGA-AC-A23H</th>\n",
       "      <td>31.328146</td>\n",
       "      <td>-47.987531</td>\n",
       "      <td>BRCA_1</td>\n",
       "    </tr>\n",
       "    <tr>\n",
       "      <th>TCGA-A7-A0DC</th>\n",
       "      <td>227.189804</td>\n",
       "      <td>-1.634759</td>\n",
       "      <td>BRCA_1</td>\n",
       "    </tr>\n",
       "    <tr>\n",
       "      <th>TCGA-BH-A0BA</th>\n",
       "      <td>50.506226</td>\n",
       "      <td>-35.341682</td>\n",
       "      <td>BRCA_1</td>\n",
       "    </tr>\n",
       "    <tr>\n",
       "      <th>...</th>\n",
       "      <td>...</td>\n",
       "      <td>...</td>\n",
       "      <td>...</td>\n",
       "    </tr>\n",
       "    <tr>\n",
       "      <th>TCGA-EL-A3T6</th>\n",
       "      <td>-22.808397</td>\n",
       "      <td>-13.800625</td>\n",
       "      <td>THCA_0</td>\n",
       "    </tr>\n",
       "    <tr>\n",
       "      <th>TCGA-EM-A1CT</th>\n",
       "      <td>-18.936395</td>\n",
       "      <td>-12.003248</td>\n",
       "      <td>THCA_0</td>\n",
       "    </tr>\n",
       "    <tr>\n",
       "      <th>TCGA-EM-A1CU</th>\n",
       "      <td>15.246231</td>\n",
       "      <td>6.017847</td>\n",
       "      <td>THCA_0</td>\n",
       "    </tr>\n",
       "    <tr>\n",
       "      <th>TCGA-BJ-A2N9</th>\n",
       "      <td>-34.957494</td>\n",
       "      <td>-27.745717</td>\n",
       "      <td>THCA_0</td>\n",
       "    </tr>\n",
       "    <tr>\n",
       "      <th>TCGA-EL-A3ZK</th>\n",
       "      <td>-10.401330</td>\n",
       "      <td>-7.894014</td>\n",
       "      <td>THCA_0</td>\n",
       "    </tr>\n",
       "  </tbody>\n",
       "</table>\n",
       "<p>613 rows × 3 columns</p>\n",
       "</div>"
      ],
      "text/plain": [
       "                    PC 1       PC 2  \\\n",
       "TCGA-BH-A1FN   57.254148 -41.049840   \n",
       "TCGA-E9-A1NG    8.069494  -8.413092   \n",
       "TCGA-AC-A23H   31.328146 -47.987531   \n",
       "TCGA-A7-A0DC  227.189804  -1.634759   \n",
       "TCGA-BH-A0BA   50.506226 -35.341682   \n",
       "...                  ...        ...   \n",
       "TCGA-EL-A3T6  -22.808397 -13.800625   \n",
       "TCGA-EM-A1CT  -18.936395 -12.003248   \n",
       "TCGA-EM-A1CU   15.246231   6.017847   \n",
       "TCGA-BJ-A2N9  -34.957494 -27.745717   \n",
       "TCGA-EL-A3ZK  -10.401330  -7.894014   \n",
       "\n",
       "             (Cancer_tissue_status, Cancer_tissue_status)  \n",
       "TCGA-BH-A1FN                                       BRCA_1  \n",
       "TCGA-E9-A1NG                                       BRCA_1  \n",
       "TCGA-AC-A23H                                       BRCA_1  \n",
       "TCGA-A7-A0DC                                       BRCA_1  \n",
       "TCGA-BH-A0BA                                       BRCA_1  \n",
       "...                                                   ...  \n",
       "TCGA-EL-A3T6                                       THCA_0  \n",
       "TCGA-EM-A1CT                                       THCA_0  \n",
       "TCGA-EM-A1CU                                       THCA_0  \n",
       "TCGA-BJ-A2N9                                       THCA_0  \n",
       "TCGA-EL-A3ZK                                       THCA_0  \n",
       "\n",
       "[613 rows x 3 columns]"
      ]
     },
     "execution_count": 5,
     "metadata": {},
     "output_type": "execute_result"
    }
   ],
   "source": [
    "#Can now perform PCA \n",
    "\n",
    "#First split data into features and target\n",
    "X_matched = all_cancers.drop(['Cancer_tissue_status'],axis=1,level=0)\n",
    "y_matched = all_cancers['Cancer_tissue_status','Cancer_tissue_status']\n",
    "\n",
    "#Then need to scale data\n",
    "X_pca_macthed = StandardScaler().fit_transform(X_matched.values)\n",
    "\n",
    "X_pca_df_matched = pd.DataFrame(X_pca_macthed, index=X_matched.index, columns=X_matched.columns)\n",
    "\n",
    "#Now create 2 component PCA\n",
    "\n",
    "pca_matched = PCA(n_components=2)\n",
    "principal_comp_matched = pca_matched.fit_transform(X_pca_df_matched)\n",
    "pca_df_macthed = pd.DataFrame(data = principal_comp_matched, columns = ['PC 1', 'PC 2'],index=X_matched.index)\n",
    "\n",
    "#Now concat the pca_df with the target cancer col\n",
    "final_pca_df_matched = pd.concat([pca_df_macthed, y_matched], axis = 1)\n",
    "final_pca_df_matched"
   ]
  },
  {
   "cell_type": "code",
   "execution_count": null,
   "id": "805c8c5c",
   "metadata": {},
   "outputs": [],
   "source": []
  },
  {
   "cell_type": "code",
   "execution_count": 6,
   "id": "6dcc6e6a",
   "metadata": {},
   "outputs": [
    {
     "data": {
      "text/plain": [
       "<matplotlib.legend.Legend at 0x7f8a472a8690>"
      ]
     },
     "execution_count": 6,
     "metadata": {},
     "output_type": "execute_result"
    },
    {
     "data": {
      "image/png": "[encoded data removed]",
      "text/plain": [
       "<Figure size 864x864 with 1 Axes>"
      ]
     },
     "metadata": {
      "needs_background": "light"
     },
     "output_type": "display_data"
    }
   ],
   "source": [
    "#Now create plot demonstrating the variance in PC 1 and PC 2 between cancer and tissue types when matched\n",
    "\n",
    "fig = plt.figure(figsize = (12,12))\n",
    "ax = fig.add_subplot(1,1,1) \n",
    "ax.set_xlabel('Principal Component 1', fontsize = 15)\n",
    "ax.set_ylabel('Principal Component 2', fontsize = 15)\n",
    "ax.set_title('Two component PCA for All Cancer Types - Matched', fontsize = 18)\n",
    "targets = list(final_pca_df_matched[('Cancer_tissue_status', 'Cancer_tissue_status')].unique())\n",
    "colours = ['r','r','g','g','b','b','y','y']\n",
    "\n",
    "for index, target in enumerate(targets):\n",
    "    \n",
    "    if '_1' in target:\n",
    "    \n",
    "        indicesToKeep = final_pca_df_matched[('Cancer_tissue_status', 'Cancer_tissue_status')] == target\n",
    "        ax.scatter(final_pca_df_matched.loc[indicesToKeep, 'PC 1'],\n",
    "                   final_pca_df_matched.loc[indicesToKeep, 'PC 2'],\n",
    "                   s = 70,\n",
    "                  marker = 'X',\n",
    "                  c = colours[index])\n",
    "    \n",
    "    else:\n",
    "    \n",
    "        indicesToKeep = final_pca_df_matched[('Cancer_tissue_status', 'Cancer_tissue_status')] == target\n",
    "        ax.scatter(final_pca_df_matched.loc[indicesToKeep, 'PC 1'],\n",
    "                   final_pca_df_matched.loc[indicesToKeep, 'PC 2'],\n",
    "                   s = 70,\n",
    "                   c = colours[index])\n",
    "        \n",
    "ax.legend(targets)"
   ]
  },
  {
   "cell_type": "code",
   "execution_count": 7,
   "id": "7a797dd8",
   "metadata": {},
   "outputs": [],
   "source": [
    "#Now look at PCA for cis filtered genes\n",
    "#First drop duplicates and then try pancan cis\n"
   ]
  },
  {
   "cell_type": "code",
   "execution_count": 8,
   "id": "e86b336a",
   "metadata": {},
   "outputs": [
    {
     "data": {
      "text/plain": [
       "0"
      ]
     },
     "metadata": {},
     "output_type": "display_data"
    },
    {
     "data": {
      "text/plain": [
       "0"
      ]
     },
     "metadata": {},
     "output_type": "display_data"
    },
    {
     "data": {
      "text/plain": [
       "0"
      ]
     },
     "metadata": {},
     "output_type": "display_data"
    },
    {
     "data": {
      "text/plain": [
       "0"
      ]
     },
     "metadata": {},
     "output_type": "display_data"
    }
   ],
   "source": [
    "#Check no duplicates in cancer types individually first\n",
    "\n",
    "display(sum(BRCA_cis_95.duplicated()))\n",
    "display(sum(KIRC_cis_95.duplicated()))\n",
    "display(sum(LUAD_cis_95.duplicated()))\n",
    "display(sum(THCA_cis_95.duplicated()))"
   ]
  },
  {
   "cell_type": "code",
   "execution_count": 6,
   "id": "5c2b6b99",
   "metadata": {},
   "outputs": [],
   "source": [
    "#Concat all the different cis_95 switch data into one dataframe\n",
    "\n",
    "all_cis_95 = pd.concat([BRCA_cis_95,KIRC_cis_95,LUAD_cis_95,THCA_cis_95]).reset_index(drop=True)\n",
    "\n",
    "all_cis_95.drop('Unnamed: 0',axis=1,inplace=True)"
   ]
  },
  {
   "cell_type": "code",
   "execution_count": 7,
   "id": "44385a33",
   "metadata": {},
   "outputs": [],
   "source": [
    "#Drop any duplicated genes in the ensembl_gene_id column\n",
    "\n",
    "all_cis_unique = all_cis_95.drop_duplicates('ensembl_gene_id')"
   ]
  },
  {
   "cell_type": "code",
   "execution_count": 8,
   "id": "d1bb69e6",
   "metadata": {},
   "outputs": [
    {
     "data": {
      "text/plain": [
       "1028"
      ]
     },
     "execution_count": 8,
     "metadata": {},
     "output_type": "execute_result"
    }
   ],
   "source": [
    "all_cis_unique['Gene_symbol'].nunique()"
   ]
  },
  {
   "cell_type": "code",
   "execution_count": 9,
   "id": "c28bde79",
   "metadata": {},
   "outputs": [],
   "source": [
    "#Now filter the genes / columns in X_matched in relation to the cis_95_unique genes\n",
    "\n",
    "X_cis_unique = X_matched.loc(axis=1)[:, list(all_cis_unique['ensembl_gene_id'])]"
   ]
  },
  {
   "cell_type": "code",
   "execution_count": 10,
   "id": "85777dd1",
   "metadata": {},
   "outputs": [
    {
     "data": {
      "text/html": [
       "<div>\n",
       "<style scoped>\n",
       "    .dataframe tbody tr th:only-of-type {\n",
       "        vertical-align: middle;\n",
       "    }\n",
       "\n",
       "    .dataframe tbody tr th {\n",
       "        vertical-align: top;\n",
       "    }\n",
       "\n",
       "    .dataframe thead th {\n",
       "        text-align: right;\n",
       "    }\n",
       "</style>\n",
       "<table border=\"1\" class=\"dataframe\">\n",
       "  <thead>\n",
       "    <tr style=\"text-align: right;\">\n",
       "      <th></th>\n",
       "      <th>PC 1</th>\n",
       "      <th>PC 2</th>\n",
       "      <th>(Cancer_tissue_status, Cancer_tissue_status)</th>\n",
       "    </tr>\n",
       "  </thead>\n",
       "  <tbody>\n",
       "    <tr>\n",
       "      <th>TCGA-BH-A1FN</th>\n",
       "      <td>8.504584</td>\n",
       "      <td>14.741394</td>\n",
       "      <td>BRCA_1</td>\n",
       "    </tr>\n",
       "    <tr>\n",
       "      <th>TCGA-E9-A1NG</th>\n",
       "      <td>-0.781683</td>\n",
       "      <td>7.916629</td>\n",
       "      <td>BRCA_1</td>\n",
       "    </tr>\n",
       "    <tr>\n",
       "      <th>TCGA-AC-A23H</th>\n",
       "      <td>4.890041</td>\n",
       "      <td>12.380659</td>\n",
       "      <td>BRCA_1</td>\n",
       "    </tr>\n",
       "    <tr>\n",
       "      <th>TCGA-A7-A0DC</th>\n",
       "      <td>60.466422</td>\n",
       "      <td>-8.772879</td>\n",
       "      <td>BRCA_1</td>\n",
       "    </tr>\n",
       "    <tr>\n",
       "      <th>TCGA-BH-A0BA</th>\n",
       "      <td>11.462367</td>\n",
       "      <td>8.060081</td>\n",
       "      <td>BRCA_1</td>\n",
       "    </tr>\n",
       "    <tr>\n",
       "      <th>...</th>\n",
       "      <td>...</td>\n",
       "      <td>...</td>\n",
       "      <td>...</td>\n",
       "    </tr>\n",
       "    <tr>\n",
       "      <th>TCGA-EL-A3T6</th>\n",
       "      <td>-2.561035</td>\n",
       "      <td>-11.818165</td>\n",
       "      <td>THCA_0</td>\n",
       "    </tr>\n",
       "    <tr>\n",
       "      <th>TCGA-EM-A1CT</th>\n",
       "      <td>1.843000</td>\n",
       "      <td>-13.690180</td>\n",
       "      <td>THCA_0</td>\n",
       "    </tr>\n",
       "    <tr>\n",
       "      <th>TCGA-EM-A1CU</th>\n",
       "      <td>12.366538</td>\n",
       "      <td>-18.273724</td>\n",
       "      <td>THCA_0</td>\n",
       "    </tr>\n",
       "    <tr>\n",
       "      <th>TCGA-BJ-A2N9</th>\n",
       "      <td>-5.091212</td>\n",
       "      <td>-7.919524</td>\n",
       "      <td>THCA_0</td>\n",
       "    </tr>\n",
       "    <tr>\n",
       "      <th>TCGA-EL-A3ZK</th>\n",
       "      <td>0.464768</td>\n",
       "      <td>-11.098973</td>\n",
       "      <td>THCA_0</td>\n",
       "    </tr>\n",
       "  </tbody>\n",
       "</table>\n",
       "<p>613 rows × 3 columns</p>\n",
       "</div>"
      ],
      "text/plain": [
       "                   PC 1       PC 2  \\\n",
       "TCGA-BH-A1FN   8.504584  14.741394   \n",
       "TCGA-E9-A1NG  -0.781683   7.916629   \n",
       "TCGA-AC-A23H   4.890041  12.380659   \n",
       "TCGA-A7-A0DC  60.466422  -8.772879   \n",
       "TCGA-BH-A0BA  11.462367   8.060081   \n",
       "...                 ...        ...   \n",
       "TCGA-EL-A3T6  -2.561035 -11.818165   \n",
       "TCGA-EM-A1CT   1.843000 -13.690180   \n",
       "TCGA-EM-A1CU  12.366538 -18.273724   \n",
       "TCGA-BJ-A2N9  -5.091212  -7.919524   \n",
       "TCGA-EL-A3ZK   0.464768 -11.098973   \n",
       "\n",
       "             (Cancer_tissue_status, Cancer_tissue_status)  \n",
       "TCGA-BH-A1FN                                       BRCA_1  \n",
       "TCGA-E9-A1NG                                       BRCA_1  \n",
       "TCGA-AC-A23H                                       BRCA_1  \n",
       "TCGA-A7-A0DC                                       BRCA_1  \n",
       "TCGA-BH-A0BA                                       BRCA_1  \n",
       "...                                                   ...  \n",
       "TCGA-EL-A3T6                                       THCA_0  \n",
       "TCGA-EM-A1CT                                       THCA_0  \n",
       "TCGA-EM-A1CU                                       THCA_0  \n",
       "TCGA-BJ-A2N9                                       THCA_0  \n",
       "TCGA-EL-A3ZK                                       THCA_0  \n",
       "\n",
       "[613 rows x 3 columns]"
      ]
     },
     "execution_count": 10,
     "metadata": {},
     "output_type": "execute_result"
    }
   ],
   "source": [
    "#Now try a PCA on the isform filtered, matched data to see if increases the variance between the dif cancer types\n",
    "\n",
    "X_pca_cis_unique = StandardScaler().fit_transform(X_cis_unique.values)\n",
    "\n",
    "X_pca_df_cis_unique = pd.DataFrame(X_pca_cis_unique, index=X_cis_unique.index, columns=X_cis_unique.columns)\n",
    "\n",
    "pca_cis_unique = PCA(n_components=2)\n",
    "\n",
    "principal_comp_cis_unique = pca_cis_unique.fit_transform(X_pca_df_cis_unique)\n",
    "\n",
    "pca_df_cis_unique = pd.DataFrame(data = principal_comp_cis_unique, columns = ['PC 1', 'PC 2'],index=X_cis_unique.index)\n",
    "\n",
    "final_pca_df_cis_unique = pd.concat([pca_df_cis_unique, y_matched], axis = 1)\n",
    "final_pca_df_cis_unique"
   ]
  },
  {
   "cell_type": "code",
   "execution_count": 14,
   "id": "119222eb",
   "metadata": {},
   "outputs": [
    {
     "data": {
      "text/plain": [
       "<matplotlib.legend.Legend at 0x7f8a30a11ed0>"
      ]
     },
     "execution_count": 14,
     "metadata": {},
     "output_type": "execute_result"
    },
    {
     "data": {
      "image/png": "[encoded data removed]",
      "text/plain": [
       "<Figure size 864x864 with 1 Axes>"
      ]
     },
     "metadata": {
      "needs_background": "light"
     },
     "output_type": "display_data"
    }
   ],
   "source": [
    "#Now create plot demonstrating the variance in PC 1 and PC 2 between cancer and tissue types when matched\n",
    "\n",
    "fig = plt.figure(figsize = (12,12))\n",
    "ax = fig.add_subplot(1,1,1) \n",
    "ax.set_xlabel('Principal Component 1', fontsize = 15)\n",
    "ax.set_ylabel('Principal Component 2', fontsize = 15)\n",
    "ax.set_title('Two component PCA for All Cancer Types - cis Unique', fontsize = 18)\n",
    "targets = list(final_pca_df_cis_unique[('Cancer_tissue_status', 'Cancer_tissue_status')].unique())\n",
    "colours = ['r','r','g','g','b','b','y','y']\n",
    "\n",
    "for index, target in enumerate(targets):\n",
    "    \n",
    "    if '_1' in target:\n",
    "    \n",
    "        indicesToKeep = final_pca_df_cis_unique[('Cancer_tissue_status', 'Cancer_tissue_status')] == target\n",
    "        ax.scatter(final_pca_df_cis_unique.loc[indicesToKeep, 'PC 1'],\n",
    "                   final_pca_df_cis_unique.loc[indicesToKeep, 'PC 2'],\n",
    "                   s = 70,\n",
    "                  marker = 'X',\n",
    "                  c = colours[index])\n",
    "    \n",
    "    else:\n",
    "    \n",
    "        indicesToKeep = final_pca_df_cis_unique[('Cancer_tissue_status', 'Cancer_tissue_status')] == target\n",
    "        ax.scatter(final_pca_df_cis_unique.loc[indicesToKeep, 'PC 1'],\n",
    "                   final_pca_df_cis_unique.loc[indicesToKeep, 'PC 2'],\n",
    "                   s = 70,\n",
    "                   c = colours[index])\n",
    "        \n",
    "ax.legend(targets)"
   ]
  },
  {
   "cell_type": "code",
   "execution_count": 15,
   "id": "2a791c90",
   "metadata": {},
   "outputs": [],
   "source": [
    "#Now replicate but for pancan cis genes"
   ]
  },
  {
   "cell_type": "code",
   "execution_count": 11,
   "id": "5cfa66d0",
   "metadata": {},
   "outputs": [],
   "source": [
    "#Create new pancan DF by keeping only the cis 95 genes that are duplicated => set keep = False\n",
    "\n",
    "cis_pancan = all_cis_95[all_cis_95.duplicated(subset='ensembl_gene_id',keep=False)]"
   ]
  },
  {
   "cell_type": "code",
   "execution_count": 12,
   "id": "df95a8a8",
   "metadata": {},
   "outputs": [
    {
     "name": "stderr",
     "output_type": "stream",
     "text": [
      "/Users/jake/opt/anaconda3/lib/python3.7/site-packages/pandas/util/_decorators.py:311: SettingWithCopyWarning: \n",
      "A value is trying to be set on a copy of a slice from a DataFrame\n",
      "\n",
      "See the caveats in the documentation: https://pandas.pydata.org/pandas-docs/stable/user_guide/indexing.html#returning-a-view-versus-a-copy\n",
      "  return func(*args, **kwargs)\n"
     ]
    }
   ],
   "source": [
    "#Now drop duplicates \n",
    "\n",
    "cis_pancan.drop_duplicates('ensembl_gene_id',inplace=True)"
   ]
  },
  {
   "cell_type": "code",
   "execution_count": 13,
   "id": "e29fdd18",
   "metadata": {},
   "outputs": [
    {
     "data": {
      "text/plain": [
       "456"
      ]
     },
     "execution_count": 13,
     "metadata": {},
     "output_type": "execute_result"
    }
   ],
   "source": [
    "cis_pancan['ensembl_gene_id'].nunique()"
   ]
  },
  {
   "cell_type": "code",
   "execution_count": 14,
   "id": "58510c6f",
   "metadata": {},
   "outputs": [],
   "source": [
    "#Save the pancan cis 95file to a csv\n",
    "\n",
    "cis_pancan.to_csv('pancan_cis95.csv',sep='\\t')"
   ]
  },
  {
   "cell_type": "code",
   "execution_count": 20,
   "id": "61858d8d",
   "metadata": {},
   "outputs": [],
   "source": [
    "#Now filter the genes / columns in X_matched in relation to the cis_95_unique genes\n",
    "\n",
    "X_cis_pancan = X_matched.loc(axis=1)[:, list(cis_pancan['ensembl_gene_id'])]"
   ]
  },
  {
   "cell_type": "code",
   "execution_count": 21,
   "id": "022380b4",
   "metadata": {},
   "outputs": [
    {
     "data": {
      "text/html": [
       "<div>\n",
       "<style scoped>\n",
       "    .dataframe tbody tr th:only-of-type {\n",
       "        vertical-align: middle;\n",
       "    }\n",
       "\n",
       "    .dataframe tbody tr th {\n",
       "        vertical-align: top;\n",
       "    }\n",
       "\n",
       "    .dataframe thead tr th {\n",
       "        text-align: left;\n",
       "    }\n",
       "</style>\n",
       "<table border=\"1\" class=\"dataframe\">\n",
       "  <thead>\n",
       "    <tr>\n",
       "      <th>Gene_symbol</th>\n",
       "      <th>ZNF117</th>\n",
       "      <th>BTN3A2</th>\n",
       "      <th>TYW1</th>\n",
       "      <th>C2orf74</th>\n",
       "      <th>ZNF781</th>\n",
       "      <th>ZSCAN23</th>\n",
       "      <th>NUDT2</th>\n",
       "      <th>GYPE</th>\n",
       "      <th>WFDC3</th>\n",
       "      <th>MANBA</th>\n",
       "      <th>...</th>\n",
       "      <th>RAB2A</th>\n",
       "      <th>CLEC18A</th>\n",
       "      <th>NDUFAF1</th>\n",
       "      <th>CARF</th>\n",
       "      <th>LRRC4</th>\n",
       "      <th>DIP2B</th>\n",
       "      <th>IMMT</th>\n",
       "      <th>MFSD4B</th>\n",
       "      <th>KRR1</th>\n",
       "      <th>HSPB7</th>\n",
       "    </tr>\n",
       "    <tr>\n",
       "      <th>Gene_ensembl_id</th>\n",
       "      <th>ENSG00000152926</th>\n",
       "      <th>ENSG00000186470</th>\n",
       "      <th>ENSG00000198874</th>\n",
       "      <th>ENSG00000237651</th>\n",
       "      <th>ENSG00000196381</th>\n",
       "      <th>ENSG00000187987</th>\n",
       "      <th>ENSG00000164978</th>\n",
       "      <th>ENSG00000197465</th>\n",
       "      <th>ENSG00000124116</th>\n",
       "      <th>ENSG00000109323</th>\n",
       "      <th>...</th>\n",
       "      <th>ENSG00000104388</th>\n",
       "      <th>ENSG00000157322</th>\n",
       "      <th>ENSG00000137806</th>\n",
       "      <th>ENSG00000138380</th>\n",
       "      <th>ENSG00000128594</th>\n",
       "      <th>ENSG00000066084</th>\n",
       "      <th>ENSG00000132305</th>\n",
       "      <th>ENSG00000173214</th>\n",
       "      <th>ENSG00000111615</th>\n",
       "      <th>ENSG00000173641</th>\n",
       "    </tr>\n",
       "  </thead>\n",
       "  <tbody>\n",
       "    <tr>\n",
       "      <th>TCGA-BH-A1FN</th>\n",
       "      <td>7.120216</td>\n",
       "      <td>4.985915</td>\n",
       "      <td>7.126943</td>\n",
       "      <td>0.460833</td>\n",
       "      <td>0.479443</td>\n",
       "      <td>0.233240</td>\n",
       "      <td>8.484795</td>\n",
       "      <td>0.089906</td>\n",
       "      <td>0.636779</td>\n",
       "      <td>8.392460</td>\n",
       "      <td>...</td>\n",
       "      <td>22.206692</td>\n",
       "      <td>0.003668</td>\n",
       "      <td>4.265220</td>\n",
       "      <td>0.871021</td>\n",
       "      <td>0.937460</td>\n",
       "      <td>7.505674</td>\n",
       "      <td>24.888769</td>\n",
       "      <td>1.606509</td>\n",
       "      <td>3.930607</td>\n",
       "      <td>0.967670</td>\n",
       "    </tr>\n",
       "    <tr>\n",
       "      <th>TCGA-E9-A1NG</th>\n",
       "      <td>1.433767</td>\n",
       "      <td>8.839503</td>\n",
       "      <td>5.993562</td>\n",
       "      <td>1.198498</td>\n",
       "      <td>0.560200</td>\n",
       "      <td>0.112217</td>\n",
       "      <td>10.685053</td>\n",
       "      <td>0.190402</td>\n",
       "      <td>0.519732</td>\n",
       "      <td>8.067247</td>\n",
       "      <td>...</td>\n",
       "      <td>39.090631</td>\n",
       "      <td>0.015000</td>\n",
       "      <td>11.069878</td>\n",
       "      <td>0.674935</td>\n",
       "      <td>1.923410</td>\n",
       "      <td>8.383874</td>\n",
       "      <td>23.974506</td>\n",
       "      <td>0.666926</td>\n",
       "      <td>2.658659</td>\n",
       "      <td>1.167679</td>\n",
       "    </tr>\n",
       "    <tr>\n",
       "      <th>TCGA-AC-A23H</th>\n",
       "      <td>1.527223</td>\n",
       "      <td>1.443108</td>\n",
       "      <td>5.757805</td>\n",
       "      <td>0.447189</td>\n",
       "      <td>0.074923</td>\n",
       "      <td>0.053655</td>\n",
       "      <td>16.385836</td>\n",
       "      <td>0.094659</td>\n",
       "      <td>0.191557</td>\n",
       "      <td>11.752712</td>\n",
       "      <td>...</td>\n",
       "      <td>37.035552</td>\n",
       "      <td>0.022068</td>\n",
       "      <td>9.363763</td>\n",
       "      <td>0.541303</td>\n",
       "      <td>7.194568</td>\n",
       "      <td>10.888510</td>\n",
       "      <td>40.047793</td>\n",
       "      <td>1.837573</td>\n",
       "      <td>4.062805</td>\n",
       "      <td>0.602985</td>\n",
       "    </tr>\n",
       "    <tr>\n",
       "      <th>TCGA-A7-A0DC</th>\n",
       "      <td>3.617470</td>\n",
       "      <td>3.622190</td>\n",
       "      <td>9.517127</td>\n",
       "      <td>1.490931</td>\n",
       "      <td>0.594022</td>\n",
       "      <td>0.855826</td>\n",
       "      <td>17.065616</td>\n",
       "      <td>1.072144</td>\n",
       "      <td>1.649315</td>\n",
       "      <td>6.836674</td>\n",
       "      <td>...</td>\n",
       "      <td>28.169459</td>\n",
       "      <td>0.044863</td>\n",
       "      <td>5.663058</td>\n",
       "      <td>5.939136</td>\n",
       "      <td>7.835143</td>\n",
       "      <td>18.844224</td>\n",
       "      <td>19.377464</td>\n",
       "      <td>10.698406</td>\n",
       "      <td>7.939069</td>\n",
       "      <td>2.536191</td>\n",
       "    </tr>\n",
       "    <tr>\n",
       "      <th>TCGA-BH-A0BA</th>\n",
       "      <td>5.287703</td>\n",
       "      <td>8.654868</td>\n",
       "      <td>9.662392</td>\n",
       "      <td>1.885023</td>\n",
       "      <td>0.235394</td>\n",
       "      <td>0.464655</td>\n",
       "      <td>19.354985</td>\n",
       "      <td>0.079661</td>\n",
       "      <td>0.177011</td>\n",
       "      <td>9.000372</td>\n",
       "      <td>...</td>\n",
       "      <td>45.355053</td>\n",
       "      <td>0.017333</td>\n",
       "      <td>11.802174</td>\n",
       "      <td>1.367933</td>\n",
       "      <td>0.571341</td>\n",
       "      <td>13.531581</td>\n",
       "      <td>20.621585</td>\n",
       "      <td>1.560034</td>\n",
       "      <td>7.414326</td>\n",
       "      <td>2.685643</td>\n",
       "    </tr>\n",
       "    <tr>\n",
       "      <th>...</th>\n",
       "      <td>...</td>\n",
       "      <td>...</td>\n",
       "      <td>...</td>\n",
       "      <td>...</td>\n",
       "      <td>...</td>\n",
       "      <td>...</td>\n",
       "      <td>...</td>\n",
       "      <td>...</td>\n",
       "      <td>...</td>\n",
       "      <td>...</td>\n",
       "      <td>...</td>\n",
       "      <td>...</td>\n",
       "      <td>...</td>\n",
       "      <td>...</td>\n",
       "      <td>...</td>\n",
       "      <td>...</td>\n",
       "      <td>...</td>\n",
       "      <td>...</td>\n",
       "      <td>...</td>\n",
       "      <td>...</td>\n",
       "      <td>...</td>\n",
       "    </tr>\n",
       "    <tr>\n",
       "      <th>TCGA-EL-A3T6</th>\n",
       "      <td>1.516223</td>\n",
       "      <td>6.772177</td>\n",
       "      <td>6.123930</td>\n",
       "      <td>2.522270</td>\n",
       "      <td>0.821696</td>\n",
       "      <td>0.387982</td>\n",
       "      <td>3.173786</td>\n",
       "      <td>0.166467</td>\n",
       "      <td>0.365693</td>\n",
       "      <td>2.965511</td>\n",
       "      <td>...</td>\n",
       "      <td>31.177466</td>\n",
       "      <td>0.014818</td>\n",
       "      <td>12.715438</td>\n",
       "      <td>2.026268</td>\n",
       "      <td>0.232940</td>\n",
       "      <td>3.411491</td>\n",
       "      <td>17.103802</td>\n",
       "      <td>1.056212</td>\n",
       "      <td>3.495722</td>\n",
       "      <td>6.631671</td>\n",
       "    </tr>\n",
       "    <tr>\n",
       "      <th>TCGA-EM-A1CT</th>\n",
       "      <td>1.502343</td>\n",
       "      <td>3.759021</td>\n",
       "      <td>4.870024</td>\n",
       "      <td>3.618258</td>\n",
       "      <td>1.256395</td>\n",
       "      <td>0.428242</td>\n",
       "      <td>2.734556</td>\n",
       "      <td>0.120469</td>\n",
       "      <td>0.389721</td>\n",
       "      <td>6.194192</td>\n",
       "      <td>...</td>\n",
       "      <td>38.491918</td>\n",
       "      <td>0.002313</td>\n",
       "      <td>10.972208</td>\n",
       "      <td>1.817082</td>\n",
       "      <td>0.119633</td>\n",
       "      <td>3.358066</td>\n",
       "      <td>22.391998</td>\n",
       "      <td>1.067831</td>\n",
       "      <td>4.569907</td>\n",
       "      <td>3.624755</td>\n",
       "    </tr>\n",
       "    <tr>\n",
       "      <th>TCGA-EM-A1CU</th>\n",
       "      <td>1.956759</td>\n",
       "      <td>4.554557</td>\n",
       "      <td>5.858064</td>\n",
       "      <td>3.284223</td>\n",
       "      <td>2.377921</td>\n",
       "      <td>0.501432</td>\n",
       "      <td>2.340041</td>\n",
       "      <td>0.267666</td>\n",
       "      <td>0.169200</td>\n",
       "      <td>7.787139</td>\n",
       "      <td>...</td>\n",
       "      <td>39.790367</td>\n",
       "      <td>0.003012</td>\n",
       "      <td>8.772991</td>\n",
       "      <td>3.084203</td>\n",
       "      <td>0.077910</td>\n",
       "      <td>4.743325</td>\n",
       "      <td>18.492008</td>\n",
       "      <td>1.154876</td>\n",
       "      <td>5.391199</td>\n",
       "      <td>0.676476</td>\n",
       "    </tr>\n",
       "    <tr>\n",
       "      <th>TCGA-BJ-A2N9</th>\n",
       "      <td>1.018250</td>\n",
       "      <td>14.727296</td>\n",
       "      <td>4.851541</td>\n",
       "      <td>2.320334</td>\n",
       "      <td>0.909182</td>\n",
       "      <td>0.231916</td>\n",
       "      <td>5.846913</td>\n",
       "      <td>0.234425</td>\n",
       "      <td>0.094301</td>\n",
       "      <td>4.832797</td>\n",
       "      <td>...</td>\n",
       "      <td>27.178826</td>\n",
       "      <td>0.002638</td>\n",
       "      <td>10.660943</td>\n",
       "      <td>1.269929</td>\n",
       "      <td>0.224771</td>\n",
       "      <td>2.972240</td>\n",
       "      <td>21.369121</td>\n",
       "      <td>0.734119</td>\n",
       "      <td>3.689323</td>\n",
       "      <td>7.300162</td>\n",
       "    </tr>\n",
       "    <tr>\n",
       "      <th>TCGA-EL-A3ZK</th>\n",
       "      <td>1.846548</td>\n",
       "      <td>5.505792</td>\n",
       "      <td>5.501458</td>\n",
       "      <td>1.922189</td>\n",
       "      <td>0.861290</td>\n",
       "      <td>0.783886</td>\n",
       "      <td>3.181436</td>\n",
       "      <td>0.194317</td>\n",
       "      <td>0.105598</td>\n",
       "      <td>5.026897</td>\n",
       "      <td>...</td>\n",
       "      <td>27.968643</td>\n",
       "      <td>0.033090</td>\n",
       "      <td>11.000363</td>\n",
       "      <td>2.323197</td>\n",
       "      <td>0.486617</td>\n",
       "      <td>4.426777</td>\n",
       "      <td>20.932145</td>\n",
       "      <td>1.153734</td>\n",
       "      <td>3.846431</td>\n",
       "      <td>7.417558</td>\n",
       "    </tr>\n",
       "  </tbody>\n",
       "</table>\n",
       "<p>613 rows × 417 columns</p>\n",
       "</div>"
      ],
      "text/plain": [
       "Gene_symbol              ZNF117          BTN3A2            TYW1  \\\n",
       "Gene_ensembl_id ENSG00000152926 ENSG00000186470 ENSG00000198874   \n",
       "TCGA-BH-A1FN           7.120216        4.985915        7.126943   \n",
       "TCGA-E9-A1NG           1.433767        8.839503        5.993562   \n",
       "TCGA-AC-A23H           1.527223        1.443108        5.757805   \n",
       "TCGA-A7-A0DC           3.617470        3.622190        9.517127   \n",
       "TCGA-BH-A0BA           5.287703        8.654868        9.662392   \n",
       "...                         ...             ...             ...   \n",
       "TCGA-EL-A3T6           1.516223        6.772177        6.123930   \n",
       "TCGA-EM-A1CT           1.502343        3.759021        4.870024   \n",
       "TCGA-EM-A1CU           1.956759        4.554557        5.858064   \n",
       "TCGA-BJ-A2N9           1.018250       14.727296        4.851541   \n",
       "TCGA-EL-A3ZK           1.846548        5.505792        5.501458   \n",
       "\n",
       "Gene_symbol             C2orf74          ZNF781         ZSCAN23  \\\n",
       "Gene_ensembl_id ENSG00000237651 ENSG00000196381 ENSG00000187987   \n",
       "TCGA-BH-A1FN           0.460833        0.479443        0.233240   \n",
       "TCGA-E9-A1NG           1.198498        0.560200        0.112217   \n",
       "TCGA-AC-A23H           0.447189        0.074923        0.053655   \n",
       "TCGA-A7-A0DC           1.490931        0.594022        0.855826   \n",
       "TCGA-BH-A0BA           1.885023        0.235394        0.464655   \n",
       "...                         ...             ...             ...   \n",
       "TCGA-EL-A3T6           2.522270        0.821696        0.387982   \n",
       "TCGA-EM-A1CT           3.618258        1.256395        0.428242   \n",
       "TCGA-EM-A1CU           3.284223        2.377921        0.501432   \n",
       "TCGA-BJ-A2N9           2.320334        0.909182        0.231916   \n",
       "TCGA-EL-A3ZK           1.922189        0.861290        0.783886   \n",
       "\n",
       "Gene_symbol               NUDT2            GYPE           WFDC3  \\\n",
       "Gene_ensembl_id ENSG00000164978 ENSG00000197465 ENSG00000124116   \n",
       "TCGA-BH-A1FN           8.484795        0.089906        0.636779   \n",
       "TCGA-E9-A1NG          10.685053        0.190402        0.519732   \n",
       "TCGA-AC-A23H          16.385836        0.094659        0.191557   \n",
       "TCGA-A7-A0DC          17.065616        1.072144        1.649315   \n",
       "TCGA-BH-A0BA          19.354985        0.079661        0.177011   \n",
       "...                         ...             ...             ...   \n",
       "TCGA-EL-A3T6           3.173786        0.166467        0.365693   \n",
       "TCGA-EM-A1CT           2.734556        0.120469        0.389721   \n",
       "TCGA-EM-A1CU           2.340041        0.267666        0.169200   \n",
       "TCGA-BJ-A2N9           5.846913        0.234425        0.094301   \n",
       "TCGA-EL-A3ZK           3.181436        0.194317        0.105598   \n",
       "\n",
       "Gene_symbol               MANBA  ...           RAB2A         CLEC18A  \\\n",
       "Gene_ensembl_id ENSG00000109323  ... ENSG00000104388 ENSG00000157322   \n",
       "TCGA-BH-A1FN           8.392460  ...       22.206692        0.003668   \n",
       "TCGA-E9-A1NG           8.067247  ...       39.090631        0.015000   \n",
       "TCGA-AC-A23H          11.752712  ...       37.035552        0.022068   \n",
       "TCGA-A7-A0DC           6.836674  ...       28.169459        0.044863   \n",
       "TCGA-BH-A0BA           9.000372  ...       45.355053        0.017333   \n",
       "...                         ...  ...             ...             ...   \n",
       "TCGA-EL-A3T6           2.965511  ...       31.177466        0.014818   \n",
       "TCGA-EM-A1CT           6.194192  ...       38.491918        0.002313   \n",
       "TCGA-EM-A1CU           7.787139  ...       39.790367        0.003012   \n",
       "TCGA-BJ-A2N9           4.832797  ...       27.178826        0.002638   \n",
       "TCGA-EL-A3ZK           5.026897  ...       27.968643        0.033090   \n",
       "\n",
       "Gene_symbol             NDUFAF1            CARF           LRRC4  \\\n",
       "Gene_ensembl_id ENSG00000137806 ENSG00000138380 ENSG00000128594   \n",
       "TCGA-BH-A1FN           4.265220        0.871021        0.937460   \n",
       "TCGA-E9-A1NG          11.069878        0.674935        1.923410   \n",
       "TCGA-AC-A23H           9.363763        0.541303        7.194568   \n",
       "TCGA-A7-A0DC           5.663058        5.939136        7.835143   \n",
       "TCGA-BH-A0BA          11.802174        1.367933        0.571341   \n",
       "...                         ...             ...             ...   \n",
       "TCGA-EL-A3T6          12.715438        2.026268        0.232940   \n",
       "TCGA-EM-A1CT          10.972208        1.817082        0.119633   \n",
       "TCGA-EM-A1CU           8.772991        3.084203        0.077910   \n",
       "TCGA-BJ-A2N9          10.660943        1.269929        0.224771   \n",
       "TCGA-EL-A3ZK          11.000363        2.323197        0.486617   \n",
       "\n",
       "Gene_symbol               DIP2B            IMMT          MFSD4B  \\\n",
       "Gene_ensembl_id ENSG00000066084 ENSG00000132305 ENSG00000173214   \n",
       "TCGA-BH-A1FN           7.505674       24.888769        1.606509   \n",
       "TCGA-E9-A1NG           8.383874       23.974506        0.666926   \n",
       "TCGA-AC-A23H          10.888510       40.047793        1.837573   \n",
       "TCGA-A7-A0DC          18.844224       19.377464       10.698406   \n",
       "TCGA-BH-A0BA          13.531581       20.621585        1.560034   \n",
       "...                         ...             ...             ...   \n",
       "TCGA-EL-A3T6           3.411491       17.103802        1.056212   \n",
       "TCGA-EM-A1CT           3.358066       22.391998        1.067831   \n",
       "TCGA-EM-A1CU           4.743325       18.492008        1.154876   \n",
       "TCGA-BJ-A2N9           2.972240       21.369121        0.734119   \n",
       "TCGA-EL-A3ZK           4.426777       20.932145        1.153734   \n",
       "\n",
       "Gene_symbol                KRR1           HSPB7  \n",
       "Gene_ensembl_id ENSG00000111615 ENSG00000173641  \n",
       "TCGA-BH-A1FN           3.930607        0.967670  \n",
       "TCGA-E9-A1NG           2.658659        1.167679  \n",
       "TCGA-AC-A23H           4.062805        0.602985  \n",
       "TCGA-A7-A0DC           7.939069        2.536191  \n",
       "TCGA-BH-A0BA           7.414326        2.685643  \n",
       "...                         ...             ...  \n",
       "TCGA-EL-A3T6           3.495722        6.631671  \n",
       "TCGA-EM-A1CT           4.569907        3.624755  \n",
       "TCGA-EM-A1CU           5.391199        0.676476  \n",
       "TCGA-BJ-A2N9           3.689323        7.300162  \n",
       "TCGA-EL-A3ZK           3.846431        7.417558  \n",
       "\n",
       "[613 rows x 417 columns]"
      ]
     },
     "execution_count": 21,
     "metadata": {},
     "output_type": "execute_result"
    }
   ],
   "source": [
    "X_cis_pancan"
   ]
  },
  {
   "cell_type": "code",
   "execution_count": 22,
   "id": "d97c5e21",
   "metadata": {},
   "outputs": [
    {
     "data": {
      "text/html": [
       "<div>\n",
       "<style scoped>\n",
       "    .dataframe tbody tr th:only-of-type {\n",
       "        vertical-align: middle;\n",
       "    }\n",
       "\n",
       "    .dataframe tbody tr th {\n",
       "        vertical-align: top;\n",
       "    }\n",
       "\n",
       "    .dataframe thead th {\n",
       "        text-align: right;\n",
       "    }\n",
       "</style>\n",
       "<table border=\"1\" class=\"dataframe\">\n",
       "  <thead>\n",
       "    <tr style=\"text-align: right;\">\n",
       "      <th></th>\n",
       "      <th>PC 1</th>\n",
       "      <th>PC 2</th>\n",
       "      <th>(Cancer_tissue_status, Cancer_tissue_status)</th>\n",
       "    </tr>\n",
       "  </thead>\n",
       "  <tbody>\n",
       "    <tr>\n",
       "      <th>TCGA-BH-A1FN</th>\n",
       "      <td>6.963614</td>\n",
       "      <td>11.208678</td>\n",
       "      <td>BRCA_1</td>\n",
       "    </tr>\n",
       "    <tr>\n",
       "      <th>TCGA-E9-A1NG</th>\n",
       "      <td>-1.453224</td>\n",
       "      <td>4.896416</td>\n",
       "      <td>BRCA_1</td>\n",
       "    </tr>\n",
       "    <tr>\n",
       "      <th>TCGA-AC-A23H</th>\n",
       "      <td>1.141358</td>\n",
       "      <td>7.455775</td>\n",
       "      <td>BRCA_1</td>\n",
       "    </tr>\n",
       "    <tr>\n",
       "      <th>TCGA-A7-A0DC</th>\n",
       "      <td>42.983927</td>\n",
       "      <td>-5.777467</td>\n",
       "      <td>BRCA_1</td>\n",
       "    </tr>\n",
       "    <tr>\n",
       "      <th>TCGA-BH-A0BA</th>\n",
       "      <td>6.919961</td>\n",
       "      <td>5.762261</td>\n",
       "      <td>BRCA_1</td>\n",
       "    </tr>\n",
       "    <tr>\n",
       "      <th>...</th>\n",
       "      <td>...</td>\n",
       "      <td>...</td>\n",
       "      <td>...</td>\n",
       "    </tr>\n",
       "    <tr>\n",
       "      <th>TCGA-EL-A3T6</th>\n",
       "      <td>-0.732766</td>\n",
       "      <td>-5.873460</td>\n",
       "      <td>THCA_0</td>\n",
       "    </tr>\n",
       "    <tr>\n",
       "      <th>TCGA-EM-A1CT</th>\n",
       "      <td>2.535792</td>\n",
       "      <td>-6.949699</td>\n",
       "      <td>THCA_0</td>\n",
       "    </tr>\n",
       "    <tr>\n",
       "      <th>TCGA-EM-A1CU</th>\n",
       "      <td>9.970519</td>\n",
       "      <td>-10.097956</td>\n",
       "      <td>THCA_0</td>\n",
       "    </tr>\n",
       "    <tr>\n",
       "      <th>TCGA-BJ-A2N9</th>\n",
       "      <td>-2.547210</td>\n",
       "      <td>-3.295896</td>\n",
       "      <td>THCA_0</td>\n",
       "    </tr>\n",
       "    <tr>\n",
       "      <th>TCGA-EL-A3ZK</th>\n",
       "      <td>1.344066</td>\n",
       "      <td>-5.550533</td>\n",
       "      <td>THCA_0</td>\n",
       "    </tr>\n",
       "  </tbody>\n",
       "</table>\n",
       "<p>613 rows × 3 columns</p>\n",
       "</div>"
      ],
      "text/plain": [
       "                   PC 1       PC 2  \\\n",
       "TCGA-BH-A1FN   6.963614  11.208678   \n",
       "TCGA-E9-A1NG  -1.453224   4.896416   \n",
       "TCGA-AC-A23H   1.141358   7.455775   \n",
       "TCGA-A7-A0DC  42.983927  -5.777467   \n",
       "TCGA-BH-A0BA   6.919961   5.762261   \n",
       "...                 ...        ...   \n",
       "TCGA-EL-A3T6  -0.732766  -5.873460   \n",
       "TCGA-EM-A1CT   2.535792  -6.949699   \n",
       "TCGA-EM-A1CU   9.970519 -10.097956   \n",
       "TCGA-BJ-A2N9  -2.547210  -3.295896   \n",
       "TCGA-EL-A3ZK   1.344066  -5.550533   \n",
       "\n",
       "             (Cancer_tissue_status, Cancer_tissue_status)  \n",
       "TCGA-BH-A1FN                                       BRCA_1  \n",
       "TCGA-E9-A1NG                                       BRCA_1  \n",
       "TCGA-AC-A23H                                       BRCA_1  \n",
       "TCGA-A7-A0DC                                       BRCA_1  \n",
       "TCGA-BH-A0BA                                       BRCA_1  \n",
       "...                                                   ...  \n",
       "TCGA-EL-A3T6                                       THCA_0  \n",
       "TCGA-EM-A1CT                                       THCA_0  \n",
       "TCGA-EM-A1CU                                       THCA_0  \n",
       "TCGA-BJ-A2N9                                       THCA_0  \n",
       "TCGA-EL-A3ZK                                       THCA_0  \n",
       "\n",
       "[613 rows x 3 columns]"
      ]
     },
     "execution_count": 22,
     "metadata": {},
     "output_type": "execute_result"
    }
   ],
   "source": [
    "#Now perform PCA on cis pancan\n",
    "\n",
    "X_pca_cis_pancan = StandardScaler().fit_transform(X_cis_pancan.values)\n",
    "\n",
    "X_pca_df_cis_pancan = pd.DataFrame(X_pca_cis_pancan, index=X_cis_pancan.index, columns=X_cis_pancan.columns)\n",
    "\n",
    "pca_cis_pancan = PCA(n_components=2)\n",
    "\n",
    "principal_comp_cis_pancan = pca_cis_pancan.fit_transform(X_pca_df_cis_pancan)\n",
    "\n",
    "pca_df_cis_pancan = pd.DataFrame(data = principal_comp_cis_pancan, columns = ['PC 1', 'PC 2'],index=X_cis_pancan.index)\n",
    "\n",
    "final_pca_df_cis_pancan = pd.concat([pca_df_cis_pancan, y_matched], axis = 1)\n",
    "final_pca_df_cis_pancan"
   ]
  },
  {
   "cell_type": "code",
   "execution_count": 23,
   "id": "62a7652c",
   "metadata": {},
   "outputs": [
    {
     "data": {
      "text/plain": [
       "<matplotlib.legend.Legend at 0x7f8a2d0256d0>"
      ]
     },
     "execution_count": 23,
     "metadata": {},
     "output_type": "execute_result"
    },
    {
     "data": {
      "image/png": "[encoded data removed]",
      "text/plain": [
       "<Figure size 864x864 with 1 Axes>"
      ]
     },
     "metadata": {
      "needs_background": "light"
     },
     "output_type": "display_data"
    }
   ],
   "source": [
    "#Now create plot demonstrating the variance in PC 1 and PC 2 between cancer and tissue types \n",
    "\n",
    "fig = plt.figure(figsize = (12,12))\n",
    "ax = fig.add_subplot(1,1,1) \n",
    "ax.set_xlabel('Principal Component 1', fontsize = 15)\n",
    "ax.set_ylabel('Principal Component 2', fontsize = 15)\n",
    "ax.set_title('Two component PCA for All Cancer Types - cis pancan', fontsize = 18)\n",
    "targets = list(final_pca_df_cis_pancan[('Cancer_tissue_status', 'Cancer_tissue_status')].unique())\n",
    "colours = ['r','r','g','g','b','b','y','y']\n",
    "\n",
    "for index, target in enumerate(targets):\n",
    "    \n",
    "    if '_1' in target:\n",
    "    \n",
    "        indicesToKeep = final_pca_df_cis_pancan[('Cancer_tissue_status', 'Cancer_tissue_status')] == target\n",
    "        ax.scatter(final_pca_df_cis_pancan.loc[indicesToKeep, 'PC 1'],\n",
    "                   final_pca_df_cis_pancan.loc[indicesToKeep, 'PC 2'],\n",
    "                   s = 70,\n",
    "                  marker = 'X',\n",
    "                  c = colours[index])\n",
    "    \n",
    "    else:\n",
    "    \n",
    "        indicesToKeep = final_pca_df_cis_pancan[('Cancer_tissue_status', 'Cancer_tissue_status')] == target\n",
    "        ax.scatter(final_pca_df_cis_pancan.loc[indicesToKeep, 'PC 1'],\n",
    "                   final_pca_df_cis_pancan.loc[indicesToKeep, 'PC 2'],\n",
    "                   s = 70,\n",
    "                   c = colours[index])\n",
    "        \n",
    "ax.legend(targets)"
   ]
  },
  {
   "cell_type": "code",
   "execution_count": 24,
   "id": "a19d4a11",
   "metadata": {},
   "outputs": [],
   "source": [
    "#Now try Random Forest model on the matched data followed by the cis_95 filtered matched data"
   ]
  },
  {
   "cell_type": "code",
   "execution_count": 15,
   "id": "b7092a5b",
   "metadata": {},
   "outputs": [],
   "source": [
    "#First do label encoding of the target y column\n",
    "\n",
    "#Make copy of all_cancer\n",
    "\n",
    "all_cancers_encoded = all_cancers.copy()\n",
    "\n",
    "le = LabelEncoder()\n",
    "\n",
    "all_cancers_encoded['Cancer_tissue_status','Cancer_tissue_status'] = le.fit_transform(all_cancers_encoded['Cancer_tissue_status','Cancer_tissue_status'])\n",
    "all_cancers_encoded\n",
    "\n",
    "X_encoded = all_cancers_encoded.drop('Cancer_tissue_status',axis=1,level=0)\n",
    "X_encoded_cis_unique = X_encoded.loc(axis=1)[:, list(all_cis_unique['ensembl_gene_id'])]\n",
    "X_encoded_cis_pancan = X_encoded.loc(axis=1)[:, list(cis_pancan['ensembl_gene_id'])]\n",
    "\n",
    "y_encoded = all_cancers_encoded['Cancer_tissue_status','Cancer_tissue_status']"
   ]
  },
  {
   "cell_type": "code",
   "execution_count": 16,
   "id": "2edb6150",
   "metadata": {},
   "outputs": [
    {
     "data": {
      "text/plain": [
       "{'BRCA_0': 0,\n",
       " 'BRCA_1': 1,\n",
       " 'KIRC_0': 2,\n",
       " 'KIRC_1': 3,\n",
       " 'LUAD_0': 4,\n",
       " 'LUAD_1': 5,\n",
       " 'THCA_0': 6,\n",
       " 'THCA_1': 7}"
      ]
     },
     "execution_count": 16,
     "metadata": {},
     "output_type": "execute_result"
    }
   ],
   "source": [
    "#Create dictionary to see lables created for label encoding\n",
    "\n",
    "le_name_mapping = dict(zip(le.classes_, le.transform(le.classes_)))\n",
    "le_name_mapping"
   ]
  },
  {
   "cell_type": "code",
   "execution_count": 17,
   "id": "144d65bd",
   "metadata": {},
   "outputs": [],
   "source": [
    "\n",
    "#Do a train test split to keep out 30% of data for an unseen test set for both matched and unique and pancan cis eQTLs\n",
    "\n",
    "#Now do train test splits -- change random state for full test split each time\n",
    "\n",
    "X_develop_full, X_test_full, y_develop_full, y_test_full = train_test_split(X_encoded, y_encoded, test_size=0.3, random_state=10,stratify=y_encoded)\n",
    "\n",
    "X_develop_cis_unique, X_test_cis_unique, y_develop_cis_unique, y_test_cis_unique = train_test_split(X_encoded_cis_unique, y_encoded, test_size=0.3, random_state=1,stratify=y_encoded)\n",
    "X_develop_cis_pancan, X_test_cis_pancan, y_develop_cis_pancan, y_test_cis_pancan = train_test_split(X_encoded_cis_pancan, y_encoded, test_size=0.3, random_state=1,stratify=y_encoded)"
   ]
  },
  {
   "cell_type": "code",
   "execution_count": 28,
   "id": "efe1e643",
   "metadata": {},
   "outputs": [],
   "source": [
    "#Also take a random sample of genes .. same num as unique and pancan\n",
    "\n",
    "X_random_unique_1 = X_encoded.sample(n=len(X_encoded_cis_unique.columns),axis=1)\n",
    "X_random_unique_2 = X_encoded.sample(n=len(X_encoded_cis_unique.columns),axis=1)\n",
    "X_random_unique_3 = X_encoded.sample(n=len(X_encoded_cis_unique.columns),axis=1)\n",
    "\n",
    "X_develop_cis_unique_ran_1, X_test_cis_unique_ran_1, y_develop_cis_unique_ran_1, y_test_cis_unique_ran_1 = train_test_split(X_random_unique_1, y_encoded, test_size=0.3, random_state=10,stratify=y_encoded)\n",
    "X_develop_cis_unique_ran_2, X_test_cis_unique_ran_2, y_develop_cis_unique_ran_2, y_test_cis_unique_ran_2 = train_test_split(X_random_unique_2, y_encoded, test_size=0.3, random_state=24,stratify=y_encoded)\n",
    "X_develop_cis_unique_ran_3, X_test_cis_unique_ran_3, y_develop_cis_unique_ran_3, y_test_cis_unique_ran_3 = train_test_split(X_random_unique_3, y_encoded, test_size=0.3, random_state=35,stratify=y_encoded)\n",
    "\n"
   ]
  },
  {
   "cell_type": "code",
   "execution_count": 29,
   "id": "6e30a16f",
   "metadata": {},
   "outputs": [],
   "source": [
    "#Pancan random\n",
    "\n",
    "X_random_pancan_1 = X_encoded.sample(n=len(X_encoded_cis_pancan.columns),axis=1)\n",
    "X_random_pancan_2 = X_encoded.sample(n=len(X_encoded_cis_pancan.columns),axis=1)\n",
    "X_random_pancan_3 = X_encoded.sample(n=len(X_encoded_cis_pancan.columns),axis=1)\n",
    "\n",
    "X_develop_cis_pancan_ran_1, X_test_cis_pancan_ran_1, y_develop_cis_pancan_ran_1, y_test_cis_pancan_ran_1 = train_test_split(X_random_pancan_1, y_encoded, test_size=0.3, random_state=11,stratify=y_encoded)\n",
    "X_develop_cis_pancan_ran_2, X_test_cis_pancan_ran_2, y_develop_cis_pancan_ran_2, y_test_cis_pancan_ran_2 = train_test_split(X_random_pancan_2, y_encoded, test_size=0.3, random_state=29,stratify=y_encoded)\n",
    "X_develop_cis_pancan_ran_3, X_test_cis_pancan_ran_3, y_develop_cis_pancan_ran_3, y_test_cis_pancan_ran_3 = train_test_split(X_random_pancan_1, y_encoded, test_size=0.3, random_state=47,stratify=y_encoded)\n",
    "\n",
    "\n"
   ]
  },
  {
   "cell_type": "code",
   "execution_count": null,
   "id": "d73feb7d",
   "metadata": {},
   "outputs": [],
   "source": []
  },
  {
   "cell_type": "code",
   "execution_count": 18,
   "id": "0a14c166",
   "metadata": {},
   "outputs": [],
   "source": [
    "#First do simple Random Forest with gridsearch to determine optimal parameters\n",
    "\n",
    "def grid_search_RF(X,y):\n",
    "    '''Perform Random Forest grid search. Supply development X and y data.'''\n",
    "\n",
    "    #Random Forest\n",
    "    classifier = RandomForestClassifier()\n",
    "    \n",
    "    #Want to add PCA to pipeline .. use n_components = 10\n",
    "    pca = PCA(n_components=10)\n",
    "\n",
    "    #Pipeline containing Log Reg classifier and Log Reg with deafault settings for feature engineering\n",
    "    #Also added scaler as error related to iterations / convergance appears, which can be due to 'poor scaling'\n",
    "    RF_pipeline = Pipeline(steps=[('scale', StandardScaler()),\n",
    "                                  ('pca',pca),\n",
    "                                  ('feature_selection', SelectFromModel(RandomForestClassifier())),\n",
    "                                  ('classifier',classifier)])\n",
    "\n",
    "\n",
    "    \n",
    "    #The PCA searches from 1 upto max number of features / genes in 5 steps (since can't search PC's more than max num of features)\n",
    "    param_grid = {\n",
    "                'classifier__n_estimators': [50,100,200,300,500],\n",
    "                #'classifier__max_features': ['auto', 'sqrt', 'log2'],\n",
    "                #'classifier__criterion' :['gini', 'entropy'],\n",
    "    }\n",
    "\n",
    "\n",
    "    #Use repeated stratified k fold to maintian ratio between tumor and normal and do multliple splits of data\n",
    "    r_stratkfold = RepeatedStratifiedKFold(n_splits=3, n_repeats=3, random_state=0)\n",
    "\n",
    "    #scoring =  roc_auc_ovr since multitarget and ovr accounts for any class imbalance\n",
    "    grid_search = GridSearchCV(RF_pipeline, param_grid=param_grid, scoring=\"roc_auc_ovr\",cv=r_stratkfold)\n",
    "\n",
    "    #Fit on development data\n",
    "    grid_search.fit(X, y)\n",
    "    \n",
    "    #Create dictinoary to store the best parameters\n",
    "    best_params = {}\n",
    "    \n",
    "    for k,v in grid_search.best_params_.items():\n",
    "        \n",
    "        best_params[k] = v\n",
    " \n",
    "    #Return the best_params dictinoary => run this fuction and save as new variable in relation to what X and y run\n",
    "    return best_params"
   ]
  },
  {
   "cell_type": "code",
   "execution_count": 31,
   "id": "05944791",
   "metadata": {},
   "outputs": [],
   "source": [
    "#Run the gridsearch for all matched, cis unique and cis pancan"
   ]
  },
  {
   "cell_type": "code",
   "execution_count": 32,
   "id": "5200bb54",
   "metadata": {},
   "outputs": [
    {
     "data": {
      "text/plain": [
       "{'classifier__n_estimators': 500}"
      ]
     },
     "execution_count": 32,
     "metadata": {},
     "output_type": "execute_result"
    }
   ],
   "source": [
    "best_params_cis_unique = grid_search_RF(X_develop_cis_unique,y_develop_cis_unique)\n",
    "best_params_cis_unique"
   ]
  },
  {
   "cell_type": "code",
   "execution_count": 33,
   "id": "cb5c303a",
   "metadata": {},
   "outputs": [],
   "source": [
    "best_params_cis_unique_ran_1 = grid_search_RF(X_develop_cis_unique_ran_1,y_develop_cis_unique_ran_1)\n",
    "best_params_cis_unique_ran_2 = grid_search_RF(X_develop_cis_unique_ran_2,y_develop_cis_unique_ran_2)\n",
    "best_params_cis_unique_ran_3 = grid_search_RF(X_develop_cis_unique_ran_3,y_develop_cis_unique_ran_3)"
   ]
  },
  {
   "cell_type": "code",
   "execution_count": null,
   "id": "297ff812",
   "metadata": {},
   "outputs": [],
   "source": []
  },
  {
   "cell_type": "code",
   "execution_count": 34,
   "id": "a965a34e",
   "metadata": {},
   "outputs": [
    {
     "data": {
      "text/plain": [
       "{'classifier__n_estimators': 100}"
      ]
     },
     "execution_count": 34,
     "metadata": {},
     "output_type": "execute_result"
    }
   ],
   "source": [
    "best_params_cis_pancan = grid_search_RF(X_develop_cis_pancan,y_develop_cis_pancan)\n",
    "best_params_cis_pancan"
   ]
  },
  {
   "cell_type": "code",
   "execution_count": 35,
   "id": "cf09b733",
   "metadata": {},
   "outputs": [],
   "source": [
    "best_params_cis_pancan_ran_1 = grid_search_RF(X_develop_cis_pancan_ran_1,y_develop_cis_pancan_ran_1)\n",
    "best_params_cis_pancan_ran_2 = grid_search_RF(X_develop_cis_pancan_ran_2,y_develop_cis_pancan_ran_2)\n",
    "best_params_cis_pancan_ran_3 = grid_search_RF(X_develop_cis_pancan_ran_3,y_develop_cis_pancan_ran_3)"
   ]
  },
  {
   "cell_type": "code",
   "execution_count": null,
   "id": "029a2822",
   "metadata": {},
   "outputs": [],
   "source": []
  },
  {
   "cell_type": "code",
   "execution_count": 19,
   "id": "606dde72",
   "metadata": {},
   "outputs": [
    {
     "data": {
      "text/plain": [
       "{'classifier__n_estimators': 500}"
      ]
     },
     "execution_count": 19,
     "metadata": {},
     "output_type": "execute_result"
    }
   ],
   "source": [
    "best_params_full = grid_search_RF(X_develop_full,y_develop_full)\n",
    "best_params_full"
   ]
  },
  {
   "cell_type": "code",
   "execution_count": null,
   "id": "f762bade",
   "metadata": {},
   "outputs": [],
   "source": []
  },
  {
   "cell_type": "code",
   "execution_count": 37,
   "id": "f4b28a6a",
   "metadata": {},
   "outputs": [],
   "source": [
    "# Create a function that cross validates the data\n",
    "\n",
    "def RF_model_cv(X, y, best_params_dict, repeats = 3, splits = 3):\n",
    "    '''RF model function. Takes in X and y development data, repeats, splits and the required best_params dictinoary'''\n",
    "\n",
    "    #First perform RepeatedStratifiedKFold\n",
    "    r_stratkfold = RepeatedStratifiedKFold(n_splits=splits, n_repeats=repeats)\n",
    "    \n",
    "    # Create classifier with RF model using best_params_iso from gridsearch\n",
    "    \n",
    "    classifier = RandomForestClassifier(n_estimators=best_params_dict['classifier__n_estimators'],\n",
    "                                   #max_features = best_params_dict['classifier__max_features'],\n",
    "                                   #criterion = best_params_dict['classifier__criterion'], \n",
    "                                   random_state=1)\n",
    "    \n",
    "    #Create pipleine with scaling, feature selection (set as classifier to add best parameters) and the classifier\n",
    "    RF_pipeline = Pipeline(steps=[('scale', StandardScaler()),\n",
    "                                  ('pca',PCA(n_components=10)),\n",
    "                                   ('feature_selection', SelectFromModel(classifier)),\n",
    "                                   ('classifier',classifier)])\n",
    "    \n",
    "    \n",
    "    # evaluate the cross_validate\n",
    "    scores_cv = cross_validate(RF_pipeline, X, y, cv=r_stratkfold,\n",
    "                            scoring=('f1_weighted','roc_auc_ovr','balanced_accuracy','precision_weighted','recall_weighted'))\n",
    "    \n",
    "    #Define performance metrics to return \n",
    "    F1 = str(f\"Mean F1 weighted = {scores_cv['test_f1_weighted'].mean():.3f} SEM = {sem(scores_cv['test_f1_weighted']):.3f}\")\n",
    "    ROCAUC = str(f\"Mean ROCAUC score = {scores_cv['test_roc_auc_ovr'].mean():.3f} SEM = {sem(scores_cv['test_roc_auc_ovr']):.3f} \")\n",
    "    Accuracy = str(f\"Mean balanced accuracy score = {scores_cv['test_balanced_accuracy'].mean():.3f} SEM = {sem(scores_cv['test_balanced_accuracy']):.3f} \")\n",
    "    Precision = str(f\"Mean weighted precision = {scores_cv['test_precision_weighted'].mean():.3f} SEM = {sem(scores_cv['test_precision_weighted']):.3f} \")\n",
    "    Recall = str(f\"Mean weighted recall = {scores_cv['test_recall_weighted'].mean():.3f} SEM = {sem(scores_cv['test_recall_weighted']):.3f} \")\n",
    "    \n",
    "    return F1, ROCAUC, Accuracy,Precision,Recall"
   ]
  },
  {
   "cell_type": "code",
   "execution_count": null,
   "id": "b98c93a2",
   "metadata": {},
   "outputs": [],
   "source": []
  },
  {
   "cell_type": "code",
   "execution_count": 38,
   "id": "133d89ab",
   "metadata": {},
   "outputs": [
    {
     "data": {
      "text/plain": [
       "('Mean F1 weighted = 0.898 SEM = 0.005',\n",
       " 'Mean ROCAUC score = 0.987 SEM = 0.002 ',\n",
       " 'Mean balanced accuracy score = 0.893 SEM = 0.006 ',\n",
       " 'Mean weighted precision = 0.905 SEM = 0.005 ',\n",
       " 'Mean weighted recall = 0.898 SEM = 0.005 ')"
      ]
     },
     "execution_count": 38,
     "metadata": {},
     "output_type": "execute_result"
    }
   ],
   "source": [
    "RF_model_cv(X_develop_cis_unique,y_develop_cis_unique,best_params_cis_unique)"
   ]
  },
  {
   "cell_type": "code",
   "execution_count": 39,
   "id": "cda897ba",
   "metadata": {},
   "outputs": [
    {
     "data": {
      "text/plain": [
       "('Mean F1 weighted = 0.864 SEM = 0.012',\n",
       " 'Mean ROCAUC score = 0.985 SEM = 0.003 ',\n",
       " 'Mean balanced accuracy score = 0.858 SEM = 0.012 ',\n",
       " 'Mean weighted precision = 0.875 SEM = 0.012 ',\n",
       " 'Mean weighted recall = 0.865 SEM = 0.012 ')"
      ]
     },
     "execution_count": 39,
     "metadata": {},
     "output_type": "execute_result"
    }
   ],
   "source": [
    "RF_model_cv(X_develop_cis_unique_ran_1,y_develop_cis_unique_ran_1,best_params_cis_unique_ran_1)"
   ]
  },
  {
   "cell_type": "code",
   "execution_count": null,
   "id": "2ba66e6f",
   "metadata": {},
   "outputs": [],
   "source": []
  },
  {
   "cell_type": "code",
   "execution_count": 40,
   "id": "11097518",
   "metadata": {},
   "outputs": [
    {
     "data": {
      "text/plain": [
       "('Mean F1 weighted = 0.852 SEM = 0.013',\n",
       " 'Mean ROCAUC score = 0.983 SEM = 0.002 ',\n",
       " 'Mean balanced accuracy score = 0.845 SEM = 0.012 ',\n",
       " 'Mean weighted precision = 0.858 SEM = 0.012 ',\n",
       " 'Mean weighted recall = 0.854 SEM = 0.012 ')"
      ]
     },
     "execution_count": 40,
     "metadata": {},
     "output_type": "execute_result"
    }
   ],
   "source": [
    "RF_model_cv(X_develop_cis_pancan,y_develop_cis_pancan,best_params_cis_pancan)"
   ]
  },
  {
   "cell_type": "code",
   "execution_count": 41,
   "id": "2fc016a4",
   "metadata": {},
   "outputs": [
    {
     "data": {
      "text/plain": [
       "('Mean F1 weighted = 0.879 SEM = 0.008',\n",
       " 'Mean ROCAUC score = 0.989 SEM = 0.001 ',\n",
       " 'Mean balanced accuracy score = 0.877 SEM = 0.009 ',\n",
       " 'Mean weighted precision = 0.887 SEM = 0.008 ',\n",
       " 'Mean weighted recall = 0.879 SEM = 0.008 ')"
      ]
     },
     "execution_count": 41,
     "metadata": {},
     "output_type": "execute_result"
    }
   ],
   "source": [
    "RF_model_cv(X_develop_cis_pancan_ran_1,y_develop_cis_pancan_ran_1,best_params_cis_pancan_ran_1)"
   ]
  },
  {
   "cell_type": "code",
   "execution_count": null,
   "id": "7d82691c",
   "metadata": {},
   "outputs": [],
   "source": []
  },
  {
   "cell_type": "code",
   "execution_count": 42,
   "id": "a0481cf6",
   "metadata": {},
   "outputs": [
    {
     "data": {
      "text/plain": [
       "('Mean F1 weighted = 0.898 SEM = 0.006',\n",
       " 'Mean ROCAUC score = 0.988 SEM = 0.001 ',\n",
       " 'Mean balanced accuracy score = 0.894 SEM = 0.007 ',\n",
       " 'Mean weighted precision = 0.903 SEM = 0.007 ',\n",
       " 'Mean weighted recall = 0.898 SEM = 0.006 ')"
      ]
     },
     "execution_count": 42,
     "metadata": {},
     "output_type": "execute_result"
    }
   ],
   "source": [
    "RF_model_cv(X_develop_full,y_develop_full,best_params_full)"
   ]
  },
  {
   "cell_type": "code",
   "execution_count": null,
   "id": "50bc01f3",
   "metadata": {},
   "outputs": [],
   "source": []
  },
  {
   "cell_type": "code",
   "execution_count": 20,
   "id": "a9ce405b",
   "metadata": {},
   "outputs": [],
   "source": [
    "# Create function to perform test\n",
    "\n",
    "def RF_model_test(X_develop,y_develop,X_test,y_test, best_params_dict):\n",
    "    '''Function fits the predetermined RF_pipeline for the data before predicting on the unseen test data'''\n",
    "    \n",
    "    classifier = RandomForestClassifier(n_estimators=best_params_dict['classifier__n_estimators'],\n",
    "                                   #max_features = best_params_dict['classifier__max_features'],\n",
    "                                   #criterion = best_params_dict['classifier__criterion'], \n",
    "                                   random_state=1)\n",
    "    \n",
    "    RF_pipeline = Pipeline(steps=[('scale', StandardScaler()),\n",
    "                                  ('pca',PCA(n_components=10)),\n",
    "                                   ('feature_selection', SelectFromModel(classifier)),\n",
    "                                   ('classifier',classifier)])\n",
    "    \n",
    "    #Fit on the develop data\n",
    "    RF_pipeline.fit(X_develop,y_develop)\n",
    "    \n",
    "    #Then make predictions on the unseen test data from the initial train test split\n",
    "    predictions = RF_pipeline.predict(X_test)\n",
    "    prob = RF_pipeline.predict_proba(X_test)\n",
    "    \n",
    "    ROCAUC =  round(roc_auc_score(y_test,prob,multi_class=\"ovr\"),3)\n",
    "    \n",
    "    #Return classification report\n",
    "    print (classification_report(predictions,y_test))\n",
    "    \n",
    "    return ROCAUC\n",
    "    \n"
   ]
  },
  {
   "cell_type": "code",
   "execution_count": null,
   "id": "b3bc0781",
   "metadata": {},
   "outputs": [],
   "source": []
  },
  {
   "cell_type": "code",
   "execution_count": 44,
   "id": "2bd2ad9e",
   "metadata": {},
   "outputs": [
    {
     "name": "stdout",
     "output_type": "stream",
     "text": [
      "              precision    recall  f1-score   support\n",
      "\n",
      "           0       0.97      1.00      0.99        33\n",
      "           1       0.97      0.97      0.97        35\n",
      "           2       1.00      0.92      0.96        24\n",
      "           3       0.91      1.00      0.95        20\n",
      "           4       1.00      0.94      0.97        18\n",
      "           5       0.95      0.79      0.86        24\n",
      "           6       0.82      0.78      0.80        18\n",
      "           7       0.59      0.83      0.69        12\n",
      "\n",
      "    accuracy                           0.92       184\n",
      "   macro avg       0.90      0.90      0.90       184\n",
      "weighted avg       0.93      0.92      0.92       184\n",
      "\n"
     ]
    },
    {
     "data": {
      "text/plain": [
       "0.994"
      ]
     },
     "execution_count": 44,
     "metadata": {},
     "output_type": "execute_result"
    }
   ],
   "source": [
    "RF_model_test(X_develop_cis_unique,y_develop_cis_unique,X_test_cis_unique,y_test_cis_unique,best_params_cis_unique)"
   ]
  },
  {
   "cell_type": "code",
   "execution_count": 45,
   "id": "1a8dd96c",
   "metadata": {},
   "outputs": [
    {
     "name": "stdout",
     "output_type": "stream",
     "text": [
      "              precision    recall  f1-score   support\n",
      "\n",
      "           0       0.97      1.00      0.99        33\n",
      "           1       0.94      0.92      0.93        36\n",
      "           2       1.00      0.92      0.96        24\n",
      "           3       0.95      1.00      0.98        21\n",
      "           4       1.00      1.00      1.00        17\n",
      "           5       0.80      0.84      0.82        19\n",
      "           6       0.76      0.87      0.81        15\n",
      "           7       0.88      0.79      0.83        19\n",
      "\n",
      "    accuracy                           0.92       184\n",
      "   macro avg       0.91      0.92      0.91       184\n",
      "weighted avg       0.93      0.92      0.92       184\n",
      "\n",
      "              precision    recall  f1-score   support\n",
      "\n",
      "           0       1.00      0.94      0.97        36\n",
      "           1       0.74      0.96      0.84        27\n",
      "           2       0.95      0.88      0.91        24\n",
      "           3       1.00      0.96      0.98        23\n",
      "           4       1.00      0.89      0.94        19\n",
      "           5       0.85      0.81      0.83        21\n",
      "           6       0.71      0.71      0.71        17\n",
      "           7       0.65      0.65      0.65        17\n",
      "\n",
      "    accuracy                           0.87       184\n",
      "   macro avg       0.86      0.85      0.85       184\n",
      "weighted avg       0.88      0.87      0.87       184\n",
      "\n",
      "              precision    recall  f1-score   support\n",
      "\n",
      "           0       0.94      0.97      0.96        33\n",
      "           1       0.89      0.97      0.93        32\n",
      "           2       0.86      1.00      0.93        19\n",
      "           3       0.95      0.81      0.88        26\n",
      "           4       0.88      0.94      0.91        16\n",
      "           5       0.85      0.71      0.77        24\n",
      "           6       0.65      0.73      0.69        15\n",
      "           7       0.76      0.68      0.72        19\n",
      "\n",
      "    accuracy                           0.86       184\n",
      "   macro avg       0.85      0.85      0.85       184\n",
      "weighted avg       0.87      0.86      0.86       184\n",
      "\n"
     ]
    }
   ],
   "source": [
    "ran_test_1_u = RF_model_test(X_develop_cis_unique_ran_1,y_develop_cis_unique_ran_1,X_test_cis_unique_ran_1,y_test_cis_unique_ran_1,best_params_cis_unique_ran_1)\n",
    "ran_test_2_u = RF_model_test(X_develop_cis_unique_ran_2,y_develop_cis_unique_ran_2,X_test_cis_unique_ran_2,y_test_cis_unique_ran_2,best_params_cis_unique_ran_2)\n",
    "ran_test_3_u = RF_model_test(X_develop_cis_unique_ran_3,y_develop_cis_unique_ran_3,X_test_cis_unique_ran_3,y_test_cis_unique_ran_3,best_params_cis_unique_ran_3)\n",
    "\n"
   ]
  },
  {
   "cell_type": "code",
   "execution_count": 46,
   "id": "bce35bbb",
   "metadata": {},
   "outputs": [
    {
     "name": "stdout",
     "output_type": "stream",
     "text": [
      "Mean random ROCAUC sore for unique = 0.989 ± 0.004\n"
     ]
    }
   ],
   "source": [
    "#Calculate mean and standard error of mean for the three random gene data sets\n",
    "\n",
    "mean_random_ROCAUC =round(np.mean([ran_test_1_u,ran_test_2_u,ran_test_3_u]),3)\n",
    "STD_random_ROCAUC =round(np.std([ran_test_1_u,ran_test_2_u,ran_test_3_u]),3)\n",
    "\n",
    "print(f'Mean random ROCAUC sore for unique = {mean_random_ROCAUC} ± {STD_random_ROCAUC}')"
   ]
  },
  {
   "cell_type": "code",
   "execution_count": null,
   "id": "c993a20d",
   "metadata": {},
   "outputs": [],
   "source": []
  },
  {
   "cell_type": "code",
   "execution_count": 47,
   "id": "213e2e5a",
   "metadata": {},
   "outputs": [
    {
     "name": "stdout",
     "output_type": "stream",
     "text": [
      "              precision    recall  f1-score   support\n",
      "\n",
      "           0       0.94      1.00      0.97        32\n",
      "           1       0.91      0.86      0.89        37\n",
      "           2       0.95      0.91      0.93        23\n",
      "           3       0.91      0.95      0.93        21\n",
      "           4       1.00      0.94      0.97        18\n",
      "           5       0.80      0.84      0.82        19\n",
      "           6       0.82      0.82      0.82        17\n",
      "           7       0.82      0.82      0.82        17\n",
      "\n",
      "    accuracy                           0.90       184\n",
      "   macro avg       0.90      0.90      0.90       184\n",
      "weighted avg       0.90      0.90      0.90       184\n",
      "\n"
     ]
    },
    {
     "data": {
      "text/plain": [
       "0.988"
      ]
     },
     "execution_count": 47,
     "metadata": {},
     "output_type": "execute_result"
    }
   ],
   "source": [
    "#Pancan\n",
    "\n",
    "RF_model_test(X_develop_cis_pancan,y_develop_cis_pancan,X_test_cis_pancan,y_test_cis_pancan,best_params_cis_pancan)\n"
   ]
  },
  {
   "cell_type": "code",
   "execution_count": 48,
   "id": "4abc9bbb",
   "metadata": {},
   "outputs": [
    {
     "name": "stdout",
     "output_type": "stream",
     "text": [
      "              precision    recall  f1-score   support\n",
      "\n",
      "           0       0.94      1.00      0.97        32\n",
      "           1       0.94      0.92      0.93        36\n",
      "           2       0.86      1.00      0.93        19\n",
      "           3       0.95      0.88      0.91        24\n",
      "           4       1.00      0.81      0.89        21\n",
      "           5       0.75      0.83      0.79        18\n",
      "           6       0.71      0.75      0.73        16\n",
      "           7       0.76      0.72      0.74        18\n",
      "\n",
      "    accuracy                           0.88       184\n",
      "   macro avg       0.87      0.86      0.86       184\n",
      "weighted avg       0.89      0.88      0.88       184\n",
      "\n",
      "              precision    recall  f1-score   support\n",
      "\n",
      "           0       0.94      1.00      0.97        32\n",
      "           1       0.97      0.89      0.93        38\n",
      "           2       1.00      0.92      0.96        24\n",
      "           3       0.91      0.95      0.93        21\n",
      "           4       1.00      0.89      0.94        19\n",
      "           5       0.85      1.00      0.92        17\n",
      "           6       0.76      0.87      0.81        15\n",
      "           7       0.88      0.83      0.86        18\n",
      "\n",
      "    accuracy                           0.92       184\n",
      "   macro avg       0.91      0.92      0.92       184\n",
      "weighted avg       0.93      0.92      0.92       184\n",
      "\n",
      "              precision    recall  f1-score   support\n",
      "\n",
      "           0       0.94      0.94      0.94        34\n",
      "           1       0.91      0.91      0.91        35\n",
      "           2       0.91      1.00      0.95        20\n",
      "           3       0.95      0.91      0.93        23\n",
      "           4       1.00      0.81      0.89        21\n",
      "           5       0.75      0.83      0.79        18\n",
      "           6       0.82      0.82      0.82        17\n",
      "           7       0.82      0.88      0.85        16\n",
      "\n",
      "    accuracy                           0.90       184\n",
      "   macro avg       0.89      0.89      0.89       184\n",
      "weighted avg       0.90      0.90      0.90       184\n",
      "\n"
     ]
    }
   ],
   "source": [
    "ran_test_1_p = RF_model_test(X_develop_cis_pancan_ran_1,y_develop_cis_pancan_ran_1,X_test_cis_pancan_ran_1,y_test_cis_pancan_ran_1,best_params_cis_pancan_ran_1)\n",
    "ran_test_2_p = RF_model_test(X_develop_cis_pancan_ran_2,y_develop_cis_pancan_ran_2,X_test_cis_pancan_ran_2,y_test_cis_pancan_ran_2,best_params_cis_pancan_ran_2)\n",
    "ran_test_3_p = RF_model_test(X_develop_cis_pancan_ran_3,y_develop_cis_pancan_ran_3,X_test_cis_pancan_ran_3,y_test_cis_pancan_ran_3,best_params_cis_pancan_ran_3)\n",
    "\n"
   ]
  },
  {
   "cell_type": "code",
   "execution_count": 49,
   "id": "3c03e0e1",
   "metadata": {},
   "outputs": [
    {
     "name": "stdout",
     "output_type": "stream",
     "text": [
      "Mean random ROCAUC sore for pancan = 0.99 ± 0.006\n"
     ]
    }
   ],
   "source": [
    "\n",
    "mean_random_ROCAUC =round(np.mean([ran_test_1_p,ran_test_2_p,ran_test_3_p]),3)\n",
    "STD_random_ROCAUC =round(np.std([ran_test_1_p,ran_test_2_p,ran_test_3_p]),3)\n",
    "\n",
    "print(f'Mean random ROCAUC sore for pancan = {mean_random_ROCAUC} ± {STD_random_ROCAUC}')"
   ]
  },
  {
   "cell_type": "code",
   "execution_count": null,
   "id": "6acea589",
   "metadata": {},
   "outputs": [],
   "source": []
  },
  {
   "cell_type": "code",
   "execution_count": 21,
   "id": "68c5203b",
   "metadata": {},
   "outputs": [
    {
     "name": "stdout",
     "output_type": "stream",
     "text": [
      "              precision    recall  f1-score   support\n",
      "\n",
      "           0       0.97      0.94      0.96        35\n",
      "           1       0.89      0.94      0.91        33\n",
      "           2       1.00      0.96      0.98        23\n",
      "           3       0.91      1.00      0.95        20\n",
      "           4       1.00      1.00      1.00        17\n",
      "           5       0.90      0.78      0.84        23\n",
      "           6       0.76      0.87      0.81        15\n",
      "           7       0.82      0.78      0.80        18\n",
      "\n",
      "    accuracy                           0.91       184\n",
      "   macro avg       0.91      0.91      0.91       184\n",
      "weighted avg       0.92      0.91      0.91       184\n",
      "\n"
     ]
    },
    {
     "data": {
      "text/plain": [
       "0.992"
      ]
     },
     "execution_count": 21,
     "metadata": {},
     "output_type": "execute_result"
    }
   ],
   "source": [
    "#Full gene set\n",
    "\n",
    "RF_model_test(X_develop_full,y_develop_full,X_test_full,y_test_full,best_params_full)"
   ]
  },
  {
   "cell_type": "code",
   "execution_count": 51,
   "id": "562e1d20",
   "metadata": {},
   "outputs": [
    {
     "data": {
      "text/plain": [
       "{'BRCA_0': 0,\n",
       " 'BRCA_1': 1,\n",
       " 'KIRC_0': 2,\n",
       " 'KIRC_1': 3,\n",
       " 'LUAD_0': 4,\n",
       " 'LUAD_1': 5,\n",
       " 'THCA_0': 6,\n",
       " 'THCA_1': 7}"
      ]
     },
     "execution_count": 51,
     "metadata": {},
     "output_type": "execute_result"
    }
   ],
   "source": [
    "le_name_mapping"
   ]
  },
  {
   "cell_type": "code",
   "execution_count": null,
   "id": "cfbf6efe",
   "metadata": {},
   "outputs": [],
   "source": []
  },
  {
   "cell_type": "code",
   "execution_count": 28,
   "id": "98aa3a9f",
   "metadata": {},
   "outputs": [],
   "source": [
    "#Def function to extract the features selected during pipeline SelectFromModel as a list \n",
    "\n",
    "def RF_model_features(X, y, best_params_dict, repeats = 3, splits = 3, max_features = None):\n",
    "    '''RF model function. Takes in X and y development data, repeats, splits, the required best_params dictinoary and the max_features to return from SelectFromModel'''\n",
    "\n",
    "    #First perform RepeatedStratifiedKFold\n",
    "    r_stratkfold = RepeatedStratifiedKFold(n_splits=splits, n_repeats=repeats)\n",
    "    \n",
    "    # Create classifier with LR model using best_params_cis from gridsearch\n",
    "    \n",
    "    classifier = RandomForestClassifier(n_estimators=best_params_dict['classifier__n_estimators'],\n",
    "                                   #max_features = best_params_dict['classifier__max_features'],\n",
    "                                   #criterion = best_params_dict['classifier__criterion'], \n",
    "                                   random_state=1)\n",
    "    \n",
    "    #Create pipleine with scaling, feature selection (set as classifier to add best parameters) and the classifier\n",
    "    RF_pipeline = Pipeline(steps=[('scale', StandardScaler()),\n",
    "                                  ('pca',PCA(n_components=10)),\n",
    "                                   ('feature_selection', SelectFromModel(classifier,max_features=max_features)),\n",
    "                                   ('classifier',classifier)])\n",
    "    \n",
    "    \n",
    "    # evaluate the cross_validate\n",
    "    scores_cv = cross_validate(RF_pipeline, X, y, cv=r_stratkfold,\n",
    "                            scoring=('f1_weighted','roc_auc_ovr','balanced_accuracy','precision_weighted','recall_weighted'))\n",
    "    \n",
    "    \n",
    "    #To get the features selected via SelectFromModel need to fit the pipeline and extract the named_steps['feature_selection']\n",
    "    selected_features = RF_pipeline.named_steps['feature_selection'].fit(X,y)\n",
    "    \n",
    "    feature_importances =  X.columns[(RF_pipeline.named_steps['feature_selection'].get_support())]\n",
    "    \n",
    "    feat_importances_RF = pd.Series(RF_pipeline.named_steps['feature_selection'].estimator_.feature_importances_,index= X.columns)\n",
    "\n",
    "#     plt.figure(figsize=(12,6))\n",
    "#     feat_importances_RF.nlargest(max_features).plot(kind='barh')\n",
    "\n",
    "    fig = feat_importances_RF.nlargest(max_features).plot.barh(figsize=(12,8),fontsize=18,edgecolor='black')\n",
    "\n",
    "    #fig.set_yticklabels(iso_data_ne['Cancer_types'],rotation=0,fontsize=18)\n",
    "    fig.set_ylabel('Gene Hugo Symbol and Ensembl ID',fontsize=20)\n",
    "    fig.set_xlabel('Feature Importance',fontsize=18)\n",
    "    \n",
    "    \n",
    "    fig.figure.savefig('Cancer_type_cis_feature_importance_allgenes.pdf',dpi=300, bbox_inches = \"tight\")"
   ]
  },
  {
   "cell_type": "code",
   "execution_count": 29,
   "id": "43d27eab",
   "metadata": {},
   "outputs": [
    {
     "data": {
      "image/png": "[encoded data removed]",
      "text/plain": [
       "<Figure size 864x576 with 1 Axes>"
      ]
     },
     "metadata": {
      "needs_background": "light"
     },
     "output_type": "display_data"
    }
   ],
   "source": [
    "RF_model_features(X_develop_full,y_develop_full,best_params_full,max_features=10)\n"
   ]
  },
  {
   "cell_type": "code",
   "execution_count": null,
   "id": "10b2526b",
   "metadata": {},
   "outputs": [],
   "source": []
  },
  {
   "cell_type": "code",
   "execution_count": 26,
   "id": "002cd273",
   "metadata": {},
   "outputs": [],
   "source": [
    "#Def function to extract the features selected during pipeline SelectFromModel as a list \n",
    "\n",
    "def RF_model_features_class(X, y, best_params_dict, repeats = 3, splits = 3, max_features = None):\n",
    "    '''RF model function. Takes in X and y development data, repeats, splits, the required best_params dictinoary and the max_features to return from SelectFromModel'''\n",
    "\n",
    "    #First perform RepeatedStratifiedKFold\n",
    "    r_stratkfold = RepeatedStratifiedKFold(n_splits=splits, n_repeats=repeats)\n",
    "    \n",
    "    # Create classifier with LR model using best_params_cis from gridsearch\n",
    "    \n",
    "    classifier = RandomForestClassifier(n_estimators=best_params_dict['classifier__n_estimators'],\n",
    "                                   #max_features = best_params_dict['classifier__max_features'],\n",
    "                                   #criterion = best_params_dict['classifier__criterion'], \n",
    "                                   random_state=1)\n",
    "    \n",
    "    #Create pipleine with scaling, feature selection (set as classifier to add best parameters) and the classifier\n",
    "    RF_pipeline = Pipeline(steps=[('scale', StandardScaler()),\n",
    "                                  ('pca',PCA(n_components=10)),\n",
    "                                   ('feature_selection', SelectFromModel(classifier,max_features=max_features)),\n",
    "                                   ('classifier',classifier)])\n",
    "    \n",
    "    \n",
    "    # evaluate the cross_validate\n",
    "    #scores_cv = cross_validate(RF_pipeline, X, y, cv=r_stratkfold,\n",
    "                            #scoring=('f1_weighted','roc_auc_ovr','balanced_accuracy','precision_weighted','recall_weighted'))\n",
    "    \n",
    "    \n",
    "    #To get the features selected via SelectFromModel need to fit the pipeline and extract the named_steps['feature_selection']\n",
    "    RF_pipeline.named_steps['classifier'].fit(X,y)\n",
    "    \n",
    "    feature_importances =  RF_pipeline.named_steps['classifier'].feature_importances_\n",
    "    \n",
    "    feat_importances_RF = pd.Series(feature_importances,index= X.columns)\n",
    "\n",
    "#     plt.figure(figsize=(12,6))\n",
    "#     feat_importances_RF.nlargest(max_features).plot(kind='barh')\n",
    "\n",
    "    fig = feat_importances_RF.nlargest(max_features).plot.barh(figsize=(12,8),fontsize=18,edgecolor='black')\n",
    "\n",
    "    #fig.set_yticklabels(iso_data_ne['Cancer_types'],rotation=0,fontsize=18)\n",
    "    fig.set_ylabel('Gene Hugo Symbol and Ensembl ID',fontsize=20)\n",
    "    fig.set_xlabel('Feature Importance',fontsize=18)\n",
    "    \n",
    "    \n",
    "    #fig.figure.savefig('Cancer_type_cis_feature_importance_allgenes.pdf',dpi=300, bbox_inches = \"tight\")"
   ]
  },
  {
   "cell_type": "code",
   "execution_count": 27,
   "id": "35d1616a",
   "metadata": {},
   "outputs": [
    {
     "data": {
      "image/png": "[encoded data removed]",
      "text/plain": [
       "<Figure size 864x576 with 1 Axes>"
      ]
     },
     "metadata": {
      "needs_background": "light"
     },
     "output_type": "display_data"
    }
   ],
   "source": [
    "RF_model_features_class(X_develop_full,y_develop_full,best_params_full,max_features=10)\n",
    "\n"
   ]
  },
  {
   "cell_type": "code",
   "execution_count": null,
   "id": "88fe615a",
   "metadata": {},
   "outputs": [],
   "source": []
  }
 ],
 "metadata": {
  "kernelspec": {
   "display_name": "Python 3",
   "language": "python",
   "name": "python3"
  },
  "language_info": {
   "codemirror_mode": {
    "name": "ipython",
    "version": 3
   },
   "file_extension": ".py",
   "mimetype": "text/x-python",
   "name": "python",
   "nbconvert_exporter": "python",
   "pygments_lexer": "ipython3",
   "version": "3.7.10"
  }
 },
 "nbformat": 4,
 "nbformat_minor": 5
}
