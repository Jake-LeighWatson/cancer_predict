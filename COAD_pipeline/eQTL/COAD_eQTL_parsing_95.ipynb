{
 "cells": [
  {
   "cell_type": "code",
   "execution_count": 1,
   "id": "51e6b685",
   "metadata": {},
   "outputs": [],
   "source": [
    "import pandas as pd\n",
    "import seaborn as sns \n",
    "import numpy as np\n",
    "import glob\n",
    "import matplotlib.pyplot as plt\n",
    "%matplotlib inline\n",
    "%config Completer.use_jedi = False"
   ]
  },
  {
   "cell_type": "code",
   "execution_count": 2,
   "id": "12cdd239",
   "metadata": {},
   "outputs": [],
   "source": [
    "#Import eQTL files for required cancer type\n",
    "\n",
    "#Add path to eQTL files\n",
    "path = r'/Users/jake/OneDrive - University of Glasgow/Project/COAD/eQTL'\n",
    "\n",
    "all_files = glob.glob(path + \"/*.csv\")\n",
    "\n",
    "#For loop to read in eQTL files        \n",
    "for filename in all_files:\n",
    "    \n",
    "    if 'cis_eQTL' in filename:\n",
    "        cis_eQTL = pd.read_csv(filename,sep=',',index_col=0)\n",
    "    elif 'trans_eQTL' in filename:\n",
    "        trans_eQTL = pd.read_csv(filename, sep=',',index_col=0)"
   ]
  },
  {
   "cell_type": "code",
   "execution_count": 3,
   "id": "442a7b0c",
   "metadata": {},
   "outputs": [
    {
     "data": {
      "text/plain": [
       "LOC399744    1638\n",
       "FABP2        1076\n",
       "SNHG5        1039\n",
       "ZNF117        998\n",
       "XKR9          980\n",
       "             ... \n",
       "ZFAT            1\n",
       "CLCN3           1\n",
       "CCDC76          1\n",
       "TMEM14C         1\n",
       "ARL6IP4         1\n",
       "Name: Gene_symbol, Length: 5048, dtype: int64"
      ]
     },
     "execution_count": 3,
     "metadata": {},
     "output_type": "execute_result"
    }
   ],
   "source": [
    "cis_eQTL['Gene_symbol'].value_counts()"
   ]
  },
  {
   "cell_type": "code",
   "execution_count": 4,
   "id": "7cc20cb5",
   "metadata": {},
   "outputs": [
    {
     "data": {
      "text/plain": [
       "CCDC74B      384\n",
       "LOC285359    287\n",
       "ZNF322B      273\n",
       "INTS4L1      147\n",
       "LOC647288    116\n",
       "            ... \n",
       "NXT1           1\n",
       "GZMM           1\n",
       "MOBKL1A        1\n",
       "RRBP1          1\n",
       "SPG20          1\n",
       "Name: Gene_symbol, Length: 373, dtype: int64"
      ]
     },
     "execution_count": 4,
     "metadata": {},
     "output_type": "execute_result"
    }
   ],
   "source": [
    "trans_eQTL['Gene_symbol'].value_counts()"
   ]
  },
  {
   "cell_type": "code",
   "execution_count": 5,
   "id": "3ef180bd",
   "metadata": {},
   "outputs": [],
   "source": [
    "#cis and trans value counts per gene symbol\n",
    "\n",
    "cis_counts = cis_eQTL['Gene_symbol'].value_counts()\n",
    "trans_counts = trans_eQTL['Gene_symbol'].value_counts()"
   ]
  },
  {
   "cell_type": "code",
   "execution_count": 6,
   "id": "967387a0",
   "metadata": {},
   "outputs": [],
   "source": [
    "#95 percentile for num of eQTLS per gene\n",
    "\n",
    "cis_95 = cis_eQTL[cis_eQTL['Gene_symbol'].isin(cis_counts[cis_counts >= cis_counts.quantile(0.95)].index)]\n",
    "trans_95 = trans_eQTL[trans_eQTL['Gene_symbol'].isin(trans_counts[trans_counts >= trans_counts.quantile(0.95)].index)]"
   ]
  },
  {
   "cell_type": "code",
   "execution_count": 7,
   "id": "bfe254f3",
   "metadata": {},
   "outputs": [],
   "source": [
    "#Create dataframe for 95 percentile\n",
    "\n",
    "cis_95_df = cis_95.value_counts(['Gene_symbol','Entrez_ID']).to_frame('Value_count').reset_index()\n",
    "trans_95_df = trans_95.value_counts(['Gene_symbol','Entrez_ID']).to_frame('Value_count').reset_index()"
   ]
  },
  {
   "cell_type": "code",
   "execution_count": 8,
   "id": "38c3bc47",
   "metadata": {},
   "outputs": [
    {
     "data": {
      "text/html": [
       "<div>\n",
       "<style scoped>\n",
       "    .dataframe tbody tr th:only-of-type {\n",
       "        vertical-align: middle;\n",
       "    }\n",
       "\n",
       "    .dataframe tbody tr th {\n",
       "        vertical-align: top;\n",
       "    }\n",
       "\n",
       "    .dataframe thead th {\n",
       "        text-align: right;\n",
       "    }\n",
       "</style>\n",
       "<table border=\"1\" class=\"dataframe\">\n",
       "  <thead>\n",
       "    <tr style=\"text-align: right;\">\n",
       "      <th></th>\n",
       "      <th>Gene_symbol</th>\n",
       "      <th>Entrez_ID</th>\n",
       "      <th>Value_count</th>\n",
       "    </tr>\n",
       "  </thead>\n",
       "  <tbody>\n",
       "    <tr>\n",
       "      <th>0</th>\n",
       "      <td>LOC399744</td>\n",
       "      <td>399744</td>\n",
       "      <td>1638</td>\n",
       "    </tr>\n",
       "    <tr>\n",
       "      <th>1</th>\n",
       "      <td>FABP2</td>\n",
       "      <td>2169</td>\n",
       "      <td>1076</td>\n",
       "    </tr>\n",
       "    <tr>\n",
       "      <th>2</th>\n",
       "      <td>SNHG5</td>\n",
       "      <td>387066</td>\n",
       "      <td>1039</td>\n",
       "    </tr>\n",
       "    <tr>\n",
       "      <th>3</th>\n",
       "      <td>ZNF117</td>\n",
       "      <td>51351</td>\n",
       "      <td>998</td>\n",
       "    </tr>\n",
       "    <tr>\n",
       "      <th>4</th>\n",
       "      <td>XKR9</td>\n",
       "      <td>389668</td>\n",
       "      <td>980</td>\n",
       "    </tr>\n",
       "  </tbody>\n",
       "</table>\n",
       "</div>"
      ],
      "text/plain": [
       "  Gene_symbol  Entrez_ID  Value_count\n",
       "0   LOC399744     399744         1638\n",
       "1       FABP2       2169         1076\n",
       "2       SNHG5     387066         1039\n",
       "3      ZNF117      51351          998\n",
       "4        XKR9     389668          980"
      ]
     },
     "execution_count": 8,
     "metadata": {},
     "output_type": "execute_result"
    }
   ],
   "source": [
    "cis_95_df.head()"
   ]
  },
  {
   "cell_type": "code",
   "execution_count": 9,
   "id": "643974a2",
   "metadata": {},
   "outputs": [],
   "source": [
    "#Write the cis and trans 95 percentile dataframes to csv\n",
    "\n",
    "cis_95_df.to_csv(path.split('/')[5]+'_cis_eQTL_95.csv')\n",
    "trans_95_df.to_csv(path.split('/')[5]+'_trans_eQTL_95.csv')"
   ]
  },
  {
   "cell_type": "code",
   "execution_count": null,
   "id": "9f10493d",
   "metadata": {},
   "outputs": [],
   "source": []
  }
 ],
 "metadata": {
  "kernelspec": {
   "display_name": "Python 3",
   "language": "python",
   "name": "python3"
  },
  "language_info": {
   "codemirror_mode": {
    "name": "ipython",
    "version": 3
   },
   "file_extension": ".py",
   "mimetype": "text/x-python",
   "name": "python",
   "nbconvert_exporter": "python",
   "pygments_lexer": "ipython3",
   "version": "3.7.10"
  }
 },
 "nbformat": 4,
 "nbformat_minor": 5
}
