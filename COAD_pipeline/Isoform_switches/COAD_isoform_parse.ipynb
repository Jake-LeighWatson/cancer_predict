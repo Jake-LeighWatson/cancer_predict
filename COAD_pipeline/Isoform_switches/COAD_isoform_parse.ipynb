{
 "cells": [
  {
   "cell_type": "code",
   "execution_count": 1,
   "metadata": {},
   "outputs": [],
   "source": [
    "import pandas as pd\n",
    "import seaborn as sns \n",
    "import numpy as np\n",
    "import glob\n",
    "import matplotlib.pyplot as plt\n",
    "%matplotlib inline"
   ]
  },
  {
   "cell_type": "code",
   "execution_count": 2,
   "metadata": {},
   "outputs": [],
   "source": [
    "#Import FPKM, MAF_protein and isoform switch files for required cancer type\n",
    "\n",
    "#Isoform switch file\n",
    "isoform_switches_file = '/Users/jake/OneDrive - University of Glasgow/Project/COAD/isoform_switch/coad-isoform-switch-iktspmodel.txt'\n",
    "\n",
    "#Load isoform switches\n",
    "isoform_switches = pd.read_csv(isoform_switches_file,sep='\\t',header=None)\n"
   ]
  },
  {
   "cell_type": "code",
   "execution_count": 3,
   "metadata": {},
   "outputs": [
    {
     "data": {
      "text/html": [
       "<div>\n",
       "<style scoped>\n",
       "    .dataframe tbody tr th:only-of-type {\n",
       "        vertical-align: middle;\n",
       "    }\n",
       "\n",
       "    .dataframe tbody tr th {\n",
       "        vertical-align: top;\n",
       "    }\n",
       "\n",
       "    .dataframe thead th {\n",
       "        text-align: right;\n",
       "    }\n",
       "</style>\n",
       "<table border=\"1\" class=\"dataframe\">\n",
       "  <thead>\n",
       "    <tr style=\"text-align: right;\">\n",
       "      <th></th>\n",
       "      <th>0</th>\n",
       "      <th>1</th>\n",
       "    </tr>\n",
       "  </thead>\n",
       "  <tbody>\n",
       "    <tr>\n",
       "      <th>0</th>\n",
       "      <td>FBLN2|2199,uc011avb.1</td>\n",
       "      <td>FBLN2|2199,uc011ava.1</td>\n",
       "    </tr>\n",
       "    <tr>\n",
       "      <th>1</th>\n",
       "      <td>CD44|960,uc001mvw.2</td>\n",
       "      <td>CD44|960,uc001mvx.2</td>\n",
       "    </tr>\n",
       "    <tr>\n",
       "      <th>2</th>\n",
       "      <td>SLC39A14|23516,uc003xbq.3</td>\n",
       "      <td>SLC39A14|23516,uc003xbp.3</td>\n",
       "    </tr>\n",
       "    <tr>\n",
       "      <th>3</th>\n",
       "      <td>UGP2|7360,uc002scl.2</td>\n",
       "      <td>UGP2|7360,uc002scm.2</td>\n",
       "    </tr>\n",
       "    <tr>\n",
       "      <th>4</th>\n",
       "      <td>IL1R2|7850,uc002tbn.2</td>\n",
       "      <td>IL1R2|7850,uc002tbm.2</td>\n",
       "    </tr>\n",
       "  </tbody>\n",
       "</table>\n",
       "</div>"
      ],
      "text/plain": [
       "                           0                          1\n",
       "0      FBLN2|2199,uc011avb.1      FBLN2|2199,uc011ava.1\n",
       "1        CD44|960,uc001mvw.2        CD44|960,uc001mvx.2\n",
       "2  SLC39A14|23516,uc003xbq.3  SLC39A14|23516,uc003xbp.3\n",
       "3       UGP2|7360,uc002scl.2       UGP2|7360,uc002scm.2\n",
       "4      IL1R2|7850,uc002tbn.2      IL1R2|7850,uc002tbm.2"
      ]
     },
     "execution_count": 3,
     "metadata": {},
     "output_type": "execute_result"
    }
   ],
   "source": [
    "isoform_switches.head()"
   ]
  },
  {
   "cell_type": "code",
   "execution_count": 4,
   "metadata": {},
   "outputs": [],
   "source": [
    "#Create new cols for isoform switches, with one displaying gene_symbol and the other two displaying the two transcript IDs\n",
    "\n",
    "isoform_switches['Gene_symbol'] = isoform_switches[0].apply(lambda x: x.split('|')[0])\n",
    "isoform_switches['Entrez_ID'] = isoform_switches[0].apply(lambda x: x.split('|')[1].split(',')[0])\n",
    "isoform_switches['Transcript_Id_1'] = isoform_switches[0].apply(lambda x: x.split(',')[1])\n",
    "isoform_switches['Transcript_Id_2'] = isoform_switches[1].apply(lambda x: x.split(',')[1])\n",
    "\n",
    "#Drop the initial columns\n",
    "isoform_switches.drop([0,1],axis=1,inplace=True)"
   ]
  },
  {
   "cell_type": "code",
   "execution_count": 5,
   "metadata": {},
   "outputs": [
    {
     "data": {
      "text/html": [
       "<div>\n",
       "<style scoped>\n",
       "    .dataframe tbody tr th:only-of-type {\n",
       "        vertical-align: middle;\n",
       "    }\n",
       "\n",
       "    .dataframe tbody tr th {\n",
       "        vertical-align: top;\n",
       "    }\n",
       "\n",
       "    .dataframe thead th {\n",
       "        text-align: right;\n",
       "    }\n",
       "</style>\n",
       "<table border=\"1\" class=\"dataframe\">\n",
       "  <thead>\n",
       "    <tr style=\"text-align: right;\">\n",
       "      <th></th>\n",
       "      <th>Gene_symbol</th>\n",
       "      <th>Entrez_ID</th>\n",
       "      <th>Transcript_Id_1</th>\n",
       "      <th>Transcript_Id_2</th>\n",
       "    </tr>\n",
       "  </thead>\n",
       "  <tbody>\n",
       "    <tr>\n",
       "      <th>0</th>\n",
       "      <td>FBLN2</td>\n",
       "      <td>2199</td>\n",
       "      <td>uc011avb.1</td>\n",
       "      <td>uc011ava.1</td>\n",
       "    </tr>\n",
       "    <tr>\n",
       "      <th>1</th>\n",
       "      <td>CD44</td>\n",
       "      <td>960</td>\n",
       "      <td>uc001mvw.2</td>\n",
       "      <td>uc001mvx.2</td>\n",
       "    </tr>\n",
       "    <tr>\n",
       "      <th>2</th>\n",
       "      <td>SLC39A14</td>\n",
       "      <td>23516</td>\n",
       "      <td>uc003xbq.3</td>\n",
       "      <td>uc003xbp.3</td>\n",
       "    </tr>\n",
       "    <tr>\n",
       "      <th>3</th>\n",
       "      <td>UGP2</td>\n",
       "      <td>7360</td>\n",
       "      <td>uc002scl.2</td>\n",
       "      <td>uc002scm.2</td>\n",
       "    </tr>\n",
       "    <tr>\n",
       "      <th>4</th>\n",
       "      <td>IL1R2</td>\n",
       "      <td>7850</td>\n",
       "      <td>uc002tbn.2</td>\n",
       "      <td>uc002tbm.2</td>\n",
       "    </tr>\n",
       "    <tr>\n",
       "      <th>5</th>\n",
       "      <td>ISLR</td>\n",
       "      <td>3671</td>\n",
       "      <td>uc002axh.1</td>\n",
       "      <td>uc002axg.1</td>\n",
       "    </tr>\n",
       "    <tr>\n",
       "      <th>6</th>\n",
       "      <td>ARHGEF9</td>\n",
       "      <td>23229</td>\n",
       "      <td>uc004dvl.2</td>\n",
       "      <td>uc011mos.1</td>\n",
       "    </tr>\n",
       "    <tr>\n",
       "      <th>7</th>\n",
       "      <td>FLNA</td>\n",
       "      <td>2316</td>\n",
       "      <td>uc004fkk.2</td>\n",
       "      <td>uc010nuu.1</td>\n",
       "    </tr>\n",
       "    <tr>\n",
       "      <th>8</th>\n",
       "      <td>MYH11</td>\n",
       "      <td>4629</td>\n",
       "      <td>uc002ddy.2</td>\n",
       "      <td>uc002ddw.2</td>\n",
       "    </tr>\n",
       "    <tr>\n",
       "      <th>9</th>\n",
       "      <td>CTTN</td>\n",
       "      <td>2017</td>\n",
       "      <td>uc001opv.3</td>\n",
       "      <td>uc001opw.3</td>\n",
       "    </tr>\n",
       "    <tr>\n",
       "      <th>10</th>\n",
       "      <td>SRI</td>\n",
       "      <td>6717</td>\n",
       "      <td>uc003ujq.1</td>\n",
       "      <td>uc003ujr.1</td>\n",
       "    </tr>\n",
       "    <tr>\n",
       "      <th>11</th>\n",
       "      <td>ATP6V1C2</td>\n",
       "      <td>245973</td>\n",
       "      <td>uc002ras.2</td>\n",
       "      <td>uc002rat.2</td>\n",
       "    </tr>\n",
       "    <tr>\n",
       "      <th>12</th>\n",
       "      <td>HKDC1</td>\n",
       "      <td>80201</td>\n",
       "      <td>uc001jpf.3</td>\n",
       "      <td>uc010qje.1</td>\n",
       "    </tr>\n",
       "  </tbody>\n",
       "</table>\n",
       "</div>"
      ],
      "text/plain": [
       "   Gene_symbol Entrez_ID Transcript_Id_1 Transcript_Id_2\n",
       "0        FBLN2      2199      uc011avb.1      uc011ava.1\n",
       "1         CD44       960      uc001mvw.2      uc001mvx.2\n",
       "2     SLC39A14     23516      uc003xbq.3      uc003xbp.3\n",
       "3         UGP2      7360      uc002scl.2      uc002scm.2\n",
       "4        IL1R2      7850      uc002tbn.2      uc002tbm.2\n",
       "5         ISLR      3671      uc002axh.1      uc002axg.1\n",
       "6      ARHGEF9     23229      uc004dvl.2      uc011mos.1\n",
       "7         FLNA      2316      uc004fkk.2      uc010nuu.1\n",
       "8        MYH11      4629      uc002ddy.2      uc002ddw.2\n",
       "9         CTTN      2017      uc001opv.3      uc001opw.3\n",
       "10         SRI      6717      uc003ujq.1      uc003ujr.1\n",
       "11    ATP6V1C2    245973      uc002ras.2      uc002rat.2\n",
       "12       HKDC1     80201      uc001jpf.3      uc010qje.1"
      ]
     },
     "execution_count": 5,
     "metadata": {},
     "output_type": "execute_result"
    }
   ],
   "source": [
    "isoform_switches"
   ]
  },
  {
   "cell_type": "code",
   "execution_count": 6,
   "metadata": {
    "scrolled": true
   },
   "outputs": [
    {
     "data": {
      "text/plain": [
       "13"
      ]
     },
     "execution_count": 6,
     "metadata": {},
     "output_type": "execute_result"
    }
   ],
   "source": [
    "#Number of genes associated with isoform switches\n",
    "\n",
    "isoform_switches['Gene_symbol'].nunique()"
   ]
  },
  {
   "cell_type": "code",
   "execution_count": 7,
   "metadata": {},
   "outputs": [],
   "source": [
    "#Save to csv\n",
    "isoform_switches.to_csv(isoform_switches_file.split('/')[5]+'_isoform_switches.csv')"
   ]
  },
  {
   "cell_type": "code",
   "execution_count": null,
   "metadata": {},
   "outputs": [],
   "source": []
  }
 ],
 "metadata": {
  "kernelspec": {
   "display_name": "Python 3",
   "language": "python",
   "name": "python3"
  },
  "language_info": {
   "codemirror_mode": {
    "name": "ipython",
    "version": 3
   },
   "file_extension": ".py",
   "mimetype": "text/x-python",
   "name": "python",
   "nbconvert_exporter": "python",
   "pygments_lexer": "ipython3",
   "version": "3.7.10"
  }
 },
 "nbformat": 4,
 "nbformat_minor": 4
}
