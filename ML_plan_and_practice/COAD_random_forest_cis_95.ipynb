{
 "cells": [
  {
   "cell_type": "code",
   "execution_count": 148,
   "id": "36cff74f",
   "metadata": {},
   "outputs": [],
   "source": [
    "import pandas as pd\n",
    "import seaborn as sns \n",
    "import numpy as np\n",
    "import glob\n",
    "import matplotlib.pyplot as plt\n",
    "%matplotlib inline\n",
    "%config Completer.use_jedi = False\n",
    "\n",
    "#import required sklearn for random forest classifier\n",
    "\n",
    "import sklearn as sklearn\n",
    "from sklearn.model_selection import train_test_split\n",
    "from sklearn.ensemble import RandomForestClassifier\n",
    "from sklearn.metrics import mean_squared_error, classification_report, confusion_matrix,roc_auc_score\n",
    "from sklearn.utils import resample\n",
    "from sklearn.pipeline import Pipeline\n",
    "from sklearn.model_selection import cross_val_score\n",
    "from sklearn.feature_selection import mutual_info_classif,VarianceThreshold, SelectFromModel\n",
    "from sklearn.svm import LinearSVC"
   ]
  },
  {
   "cell_type": "code",
   "execution_count": 86,
   "id": "11a91044",
   "metadata": {},
   "outputs": [],
   "source": [
    "#Load the filtered cis eQTL and trans eQTL file\n",
    "\n",
    "cis_eQTL_file = '/Users/jake/OneDrive - University of Glasgow/Project/COAD/eQTL/eQTL_95/COAD_FPKM_cis_eQTL_95.csv'\n",
    "#trans_eQTL_file = '/Users/jake/OneDrive - University of Glasgow/Project/COAD/eQTL/eQTL_95/COAD_FPKM_trans_eQTL_95.csv'\n",
    "\n",
    "cis_eQTL = pd.read_csv(cis_eQTL_file,header=[0,1],sep='\\t',index_col=[0])\n",
    "#trans_eQTL = pd.read_csv(trans_eQTL_file,header=[0,1],sep='\\t',index_col=[0])"
   ]
  },
  {
   "cell_type": "code",
   "execution_count": 87,
   "id": "57e802a0",
   "metadata": {},
   "outputs": [
    {
     "data": {
      "text/html": [
       "<div>\n",
       "<style scoped>\n",
       "    .dataframe tbody tr th:only-of-type {\n",
       "        vertical-align: middle;\n",
       "    }\n",
       "\n",
       "    .dataframe tbody tr th {\n",
       "        vertical-align: top;\n",
       "    }\n",
       "\n",
       "    .dataframe thead tr th {\n",
       "        text-align: left;\n",
       "    }\n",
       "\n",
       "    .dataframe thead tr:last-of-type th {\n",
       "        text-align: right;\n",
       "    }\n",
       "</style>\n",
       "<table border=\"1\" class=\"dataframe\">\n",
       "  <thead>\n",
       "    <tr>\n",
       "      <th>Gene_symbol</th>\n",
       "      <th>FABP2</th>\n",
       "      <th>ZNF117</th>\n",
       "      <th>XKR9</th>\n",
       "      <th>NUDT13</th>\n",
       "      <th>C2orf74</th>\n",
       "      <th>METTL18</th>\n",
       "      <th>WFDC3</th>\n",
       "      <th>CPNE1</th>\n",
       "      <th>N6AMT1</th>\n",
       "      <th>ULK4</th>\n",
       "      <th>...</th>\n",
       "      <th>DHFR</th>\n",
       "      <th>SLC13A4</th>\n",
       "      <th>ZNF239</th>\n",
       "      <th>RGS6</th>\n",
       "      <th>PCCB</th>\n",
       "      <th>ZNF585A</th>\n",
       "      <th>ZNF79</th>\n",
       "      <th>STMP1</th>\n",
       "      <th>RAB33B</th>\n",
       "      <th>Cancer</th>\n",
       "    </tr>\n",
       "    <tr>\n",
       "      <th>Gene_ensembl_id</th>\n",
       "      <th>ENSG00000145384</th>\n",
       "      <th>ENSG00000152926</th>\n",
       "      <th>ENSG00000221947</th>\n",
       "      <th>ENSG00000166321</th>\n",
       "      <th>ENSG00000237651</th>\n",
       "      <th>ENSG00000171806</th>\n",
       "      <th>ENSG00000124116</th>\n",
       "      <th>ENSG00000214078</th>\n",
       "      <th>ENSG00000156239</th>\n",
       "      <th>ENSG00000168038</th>\n",
       "      <th>...</th>\n",
       "      <th>ENSG00000228716</th>\n",
       "      <th>ENSG00000164707</th>\n",
       "      <th>ENSG00000196793</th>\n",
       "      <th>ENSG00000182732</th>\n",
       "      <th>ENSG00000114054</th>\n",
       "      <th>ENSG00000196967</th>\n",
       "      <th>ENSG00000196152</th>\n",
       "      <th>ENSG00000243317</th>\n",
       "      <th>ENSG00000172007</th>\n",
       "      <th>Cancer</th>\n",
       "    </tr>\n",
       "    <tr>\n",
       "      <th>Sample_ID</th>\n",
       "      <th></th>\n",
       "      <th></th>\n",
       "      <th></th>\n",
       "      <th></th>\n",
       "      <th></th>\n",
       "      <th></th>\n",
       "      <th></th>\n",
       "      <th></th>\n",
       "      <th></th>\n",
       "      <th></th>\n",
       "      <th></th>\n",
       "      <th></th>\n",
       "      <th></th>\n",
       "      <th></th>\n",
       "      <th></th>\n",
       "      <th></th>\n",
       "      <th></th>\n",
       "      <th></th>\n",
       "      <th></th>\n",
       "      <th></th>\n",
       "      <th></th>\n",
       "    </tr>\n",
       "  </thead>\n",
       "  <tbody>\n",
       "    <tr>\n",
       "      <th>TCGA-AA-3867-01A-01R-1022-07</th>\n",
       "      <td>3.037137</td>\n",
       "      <td>0.196912</td>\n",
       "      <td>0.134775</td>\n",
       "      <td>0.772429</td>\n",
       "      <td>0.000000</td>\n",
       "      <td>2.234588</td>\n",
       "      <td>1.247353</td>\n",
       "      <td>107.213731</td>\n",
       "      <td>2.325869</td>\n",
       "      <td>0.495977</td>\n",
       "      <td>...</td>\n",
       "      <td>1.945705</td>\n",
       "      <td>0.124761</td>\n",
       "      <td>1.824938</td>\n",
       "      <td>0.029445</td>\n",
       "      <td>5.974278</td>\n",
       "      <td>0.313096</td>\n",
       "      <td>1.463202</td>\n",
       "      <td>11.145080</td>\n",
       "      <td>2.355141</td>\n",
       "      <td>1</td>\n",
       "    </tr>\n",
       "    <tr>\n",
       "      <th>TCGA-CA-6719-01A-11R-1839-07</th>\n",
       "      <td>0.099824</td>\n",
       "      <td>1.756354</td>\n",
       "      <td>0.023035</td>\n",
       "      <td>0.695770</td>\n",
       "      <td>0.341397</td>\n",
       "      <td>4.631485</td>\n",
       "      <td>1.458658</td>\n",
       "      <td>80.408275</td>\n",
       "      <td>1.687151</td>\n",
       "      <td>0.758817</td>\n",
       "      <td>...</td>\n",
       "      <td>2.045258</td>\n",
       "      <td>0.067337</td>\n",
       "      <td>4.956423</td>\n",
       "      <td>0.145942</td>\n",
       "      <td>8.007415</td>\n",
       "      <td>0.733702</td>\n",
       "      <td>2.608254</td>\n",
       "      <td>11.654345</td>\n",
       "      <td>1.838190</td>\n",
       "      <td>1</td>\n",
       "    </tr>\n",
       "    <tr>\n",
       "      <th>TCGA-NH-A50V-01A-11R-A28H-07</th>\n",
       "      <td>0.048827</td>\n",
       "      <td>3.480090</td>\n",
       "      <td>1.626679</td>\n",
       "      <td>1.055877</td>\n",
       "      <td>0.199660</td>\n",
       "      <td>3.846554</td>\n",
       "      <td>1.718902</td>\n",
       "      <td>61.832780</td>\n",
       "      <td>3.672512</td>\n",
       "      <td>1.192345</td>\n",
       "      <td>...</td>\n",
       "      <td>2.881462</td>\n",
       "      <td>0.150959</td>\n",
       "      <td>4.854547</td>\n",
       "      <td>0.243694</td>\n",
       "      <td>7.036026</td>\n",
       "      <td>0.845391</td>\n",
       "      <td>1.699452</td>\n",
       "      <td>8.839348</td>\n",
       "      <td>2.831534</td>\n",
       "      <td>1</td>\n",
       "    </tr>\n",
       "    <tr>\n",
       "      <th>TCGA-AA-A01C-01A-01R-A00A-07</th>\n",
       "      <td>2.460243</td>\n",
       "      <td>0.846169</td>\n",
       "      <td>0.050361</td>\n",
       "      <td>1.248144</td>\n",
       "      <td>0.194714</td>\n",
       "      <td>1.931712</td>\n",
       "      <td>2.207834</td>\n",
       "      <td>115.282003</td>\n",
       "      <td>1.212708</td>\n",
       "      <td>0.911712</td>\n",
       "      <td>...</td>\n",
       "      <td>2.854681</td>\n",
       "      <td>0.049073</td>\n",
       "      <td>2.469037</td>\n",
       "      <td>0.044010</td>\n",
       "      <td>5.248116</td>\n",
       "      <td>0.356468</td>\n",
       "      <td>2.306620</td>\n",
       "      <td>14.420458</td>\n",
       "      <td>0.586697</td>\n",
       "      <td>1</td>\n",
       "    </tr>\n",
       "    <tr>\n",
       "      <th>TCGA-AA-A02F-01A-01R-A089-07</th>\n",
       "      <td>0.302252</td>\n",
       "      <td>1.668233</td>\n",
       "      <td>0.011988</td>\n",
       "      <td>0.482781</td>\n",
       "      <td>0.000000</td>\n",
       "      <td>6.110972</td>\n",
       "      <td>1.265169</td>\n",
       "      <td>67.596046</td>\n",
       "      <td>1.337464</td>\n",
       "      <td>0.910752</td>\n",
       "      <td>...</td>\n",
       "      <td>4.278732</td>\n",
       "      <td>0.052564</td>\n",
       "      <td>5.149422</td>\n",
       "      <td>0.010476</td>\n",
       "      <td>4.530721</td>\n",
       "      <td>0.722315</td>\n",
       "      <td>1.504792</td>\n",
       "      <td>11.204312</td>\n",
       "      <td>1.508238</td>\n",
       "      <td>1</td>\n",
       "    </tr>\n",
       "    <tr>\n",
       "      <th>...</th>\n",
       "      <td>...</td>\n",
       "      <td>...</td>\n",
       "      <td>...</td>\n",
       "      <td>...</td>\n",
       "      <td>...</td>\n",
       "      <td>...</td>\n",
       "      <td>...</td>\n",
       "      <td>...</td>\n",
       "      <td>...</td>\n",
       "      <td>...</td>\n",
       "      <td>...</td>\n",
       "      <td>...</td>\n",
       "      <td>...</td>\n",
       "      <td>...</td>\n",
       "      <td>...</td>\n",
       "      <td>...</td>\n",
       "      <td>...</td>\n",
       "      <td>...</td>\n",
       "      <td>...</td>\n",
       "      <td>...</td>\n",
       "      <td>...</td>\n",
       "    </tr>\n",
       "    <tr>\n",
       "      <th>TCGA-A6-2682-11A-01R-A32Z-07</th>\n",
       "      <td>15.418344</td>\n",
       "      <td>0.596458</td>\n",
       "      <td>0.522916</td>\n",
       "      <td>1.342880</td>\n",
       "      <td>0.449282</td>\n",
       "      <td>2.667528</td>\n",
       "      <td>0.230884</td>\n",
       "      <td>20.136296</td>\n",
       "      <td>2.036059</td>\n",
       "      <td>0.462847</td>\n",
       "      <td>...</td>\n",
       "      <td>3.965134</td>\n",
       "      <td>0.071515</td>\n",
       "      <td>0.721056</td>\n",
       "      <td>0.114243</td>\n",
       "      <td>8.197457</td>\n",
       "      <td>0.459543</td>\n",
       "      <td>2.388808</td>\n",
       "      <td>10.089674</td>\n",
       "      <td>1.481993</td>\n",
       "      <td>0</td>\n",
       "    </tr>\n",
       "    <tr>\n",
       "      <th>TCGA-AA-3522-11A-01R-A32Z-07</th>\n",
       "      <td>14.217190</td>\n",
       "      <td>0.575132</td>\n",
       "      <td>0.135610</td>\n",
       "      <td>1.342037</td>\n",
       "      <td>0.194190</td>\n",
       "      <td>4.381274</td>\n",
       "      <td>0.189608</td>\n",
       "      <td>18.652374</td>\n",
       "      <td>2.110484</td>\n",
       "      <td>0.395752</td>\n",
       "      <td>...</td>\n",
       "      <td>4.103690</td>\n",
       "      <td>0.126635</td>\n",
       "      <td>0.703542</td>\n",
       "      <td>0.149782</td>\n",
       "      <td>9.116541</td>\n",
       "      <td>0.600264</td>\n",
       "      <td>2.000086</td>\n",
       "      <td>9.840412</td>\n",
       "      <td>1.878232</td>\n",
       "      <td>0</td>\n",
       "    </tr>\n",
       "    <tr>\n",
       "      <th>TCGA-AA-3662-11A-01R-1723-07</th>\n",
       "      <td>6.902332</td>\n",
       "      <td>0.970992</td>\n",
       "      <td>0.343014</td>\n",
       "      <td>1.369181</td>\n",
       "      <td>0.459071</td>\n",
       "      <td>3.999338</td>\n",
       "      <td>0.128527</td>\n",
       "      <td>29.307291</td>\n",
       "      <td>2.377347</td>\n",
       "      <td>0.387618</td>\n",
       "      <td>...</td>\n",
       "      <td>3.043874</td>\n",
       "      <td>0.176762</td>\n",
       "      <td>1.211464</td>\n",
       "      <td>0.118174</td>\n",
       "      <td>6.039617</td>\n",
       "      <td>0.816492</td>\n",
       "      <td>1.969411</td>\n",
       "      <td>11.050769</td>\n",
       "      <td>2.699880</td>\n",
       "      <td>0</td>\n",
       "    </tr>\n",
       "    <tr>\n",
       "      <th>TCGA-AA-3520-11A-01R-A32Z-07</th>\n",
       "      <td>21.581664</td>\n",
       "      <td>0.428200</td>\n",
       "      <td>0.191768</td>\n",
       "      <td>0.694975</td>\n",
       "      <td>0.130568</td>\n",
       "      <td>4.127758</td>\n",
       "      <td>0.387748</td>\n",
       "      <td>11.243124</td>\n",
       "      <td>1.452137</td>\n",
       "      <td>0.244830</td>\n",
       "      <td>...</td>\n",
       "      <td>3.704572</td>\n",
       "      <td>0.054649</td>\n",
       "      <td>0.416727</td>\n",
       "      <td>0.140708</td>\n",
       "      <td>8.717314</td>\n",
       "      <td>0.463621</td>\n",
       "      <td>1.694042</td>\n",
       "      <td>10.902195</td>\n",
       "      <td>1.542757</td>\n",
       "      <td>0</td>\n",
       "    </tr>\n",
       "    <tr>\n",
       "      <th>TCGA-A6-2685-11A-01R-A32Z-07</th>\n",
       "      <td>13.985039</td>\n",
       "      <td>0.378815</td>\n",
       "      <td>0.498862</td>\n",
       "      <td>0.820181</td>\n",
       "      <td>0.338381</td>\n",
       "      <td>3.454464</td>\n",
       "      <td>0.362370</td>\n",
       "      <td>16.785111</td>\n",
       "      <td>1.053745</td>\n",
       "      <td>0.675321</td>\n",
       "      <td>...</td>\n",
       "      <td>5.185768</td>\n",
       "      <td>0.093809</td>\n",
       "      <td>0.476754</td>\n",
       "      <td>0.047802</td>\n",
       "      <td>5.975889</td>\n",
       "      <td>0.439992</td>\n",
       "      <td>1.581144</td>\n",
       "      <td>9.077905</td>\n",
       "      <td>1.424019</td>\n",
       "      <td>0</td>\n",
       "    </tr>\n",
       "  </tbody>\n",
       "</table>\n",
       "<p>519 rows × 216 columns</p>\n",
       "</div>"
      ],
      "text/plain": [
       "Gene_symbol                            FABP2          ZNF117            XKR9  \\\n",
       "Gene_ensembl_id              ENSG00000145384 ENSG00000152926 ENSG00000221947   \n",
       "Sample_ID                                                                      \n",
       "TCGA-AA-3867-01A-01R-1022-07        3.037137        0.196912        0.134775   \n",
       "TCGA-CA-6719-01A-11R-1839-07        0.099824        1.756354        0.023035   \n",
       "TCGA-NH-A50V-01A-11R-A28H-07        0.048827        3.480090        1.626679   \n",
       "TCGA-AA-A01C-01A-01R-A00A-07        2.460243        0.846169        0.050361   \n",
       "TCGA-AA-A02F-01A-01R-A089-07        0.302252        1.668233        0.011988   \n",
       "...                                      ...             ...             ...   \n",
       "TCGA-A6-2682-11A-01R-A32Z-07       15.418344        0.596458        0.522916   \n",
       "TCGA-AA-3522-11A-01R-A32Z-07       14.217190        0.575132        0.135610   \n",
       "TCGA-AA-3662-11A-01R-1723-07        6.902332        0.970992        0.343014   \n",
       "TCGA-AA-3520-11A-01R-A32Z-07       21.581664        0.428200        0.191768   \n",
       "TCGA-A6-2685-11A-01R-A32Z-07       13.985039        0.378815        0.498862   \n",
       "\n",
       "Gene_symbol                           NUDT13         C2orf74         METTL18  \\\n",
       "Gene_ensembl_id              ENSG00000166321 ENSG00000237651 ENSG00000171806   \n",
       "Sample_ID                                                                      \n",
       "TCGA-AA-3867-01A-01R-1022-07        0.772429        0.000000        2.234588   \n",
       "TCGA-CA-6719-01A-11R-1839-07        0.695770        0.341397        4.631485   \n",
       "TCGA-NH-A50V-01A-11R-A28H-07        1.055877        0.199660        3.846554   \n",
       "TCGA-AA-A01C-01A-01R-A00A-07        1.248144        0.194714        1.931712   \n",
       "TCGA-AA-A02F-01A-01R-A089-07        0.482781        0.000000        6.110972   \n",
       "...                                      ...             ...             ...   \n",
       "TCGA-A6-2682-11A-01R-A32Z-07        1.342880        0.449282        2.667528   \n",
       "TCGA-AA-3522-11A-01R-A32Z-07        1.342037        0.194190        4.381274   \n",
       "TCGA-AA-3662-11A-01R-1723-07        1.369181        0.459071        3.999338   \n",
       "TCGA-AA-3520-11A-01R-A32Z-07        0.694975        0.130568        4.127758   \n",
       "TCGA-A6-2685-11A-01R-A32Z-07        0.820181        0.338381        3.454464   \n",
       "\n",
       "Gene_symbol                            WFDC3           CPNE1          N6AMT1  \\\n",
       "Gene_ensembl_id              ENSG00000124116 ENSG00000214078 ENSG00000156239   \n",
       "Sample_ID                                                                      \n",
       "TCGA-AA-3867-01A-01R-1022-07        1.247353      107.213731        2.325869   \n",
       "TCGA-CA-6719-01A-11R-1839-07        1.458658       80.408275        1.687151   \n",
       "TCGA-NH-A50V-01A-11R-A28H-07        1.718902       61.832780        3.672512   \n",
       "TCGA-AA-A01C-01A-01R-A00A-07        2.207834      115.282003        1.212708   \n",
       "TCGA-AA-A02F-01A-01R-A089-07        1.265169       67.596046        1.337464   \n",
       "...                                      ...             ...             ...   \n",
       "TCGA-A6-2682-11A-01R-A32Z-07        0.230884       20.136296        2.036059   \n",
       "TCGA-AA-3522-11A-01R-A32Z-07        0.189608       18.652374        2.110484   \n",
       "TCGA-AA-3662-11A-01R-1723-07        0.128527       29.307291        2.377347   \n",
       "TCGA-AA-3520-11A-01R-A32Z-07        0.387748       11.243124        1.452137   \n",
       "TCGA-A6-2685-11A-01R-A32Z-07        0.362370       16.785111        1.053745   \n",
       "\n",
       "Gene_symbol                             ULK4  ...            DHFR  \\\n",
       "Gene_ensembl_id              ENSG00000168038  ... ENSG00000228716   \n",
       "Sample_ID                                     ...                   \n",
       "TCGA-AA-3867-01A-01R-1022-07        0.495977  ...        1.945705   \n",
       "TCGA-CA-6719-01A-11R-1839-07        0.758817  ...        2.045258   \n",
       "TCGA-NH-A50V-01A-11R-A28H-07        1.192345  ...        2.881462   \n",
       "TCGA-AA-A01C-01A-01R-A00A-07        0.911712  ...        2.854681   \n",
       "TCGA-AA-A02F-01A-01R-A089-07        0.910752  ...        4.278732   \n",
       "...                                      ...  ...             ...   \n",
       "TCGA-A6-2682-11A-01R-A32Z-07        0.462847  ...        3.965134   \n",
       "TCGA-AA-3522-11A-01R-A32Z-07        0.395752  ...        4.103690   \n",
       "TCGA-AA-3662-11A-01R-1723-07        0.387618  ...        3.043874   \n",
       "TCGA-AA-3520-11A-01R-A32Z-07        0.244830  ...        3.704572   \n",
       "TCGA-A6-2685-11A-01R-A32Z-07        0.675321  ...        5.185768   \n",
       "\n",
       "Gene_symbol                          SLC13A4          ZNF239            RGS6  \\\n",
       "Gene_ensembl_id              ENSG00000164707 ENSG00000196793 ENSG00000182732   \n",
       "Sample_ID                                                                      \n",
       "TCGA-AA-3867-01A-01R-1022-07        0.124761        1.824938        0.029445   \n",
       "TCGA-CA-6719-01A-11R-1839-07        0.067337        4.956423        0.145942   \n",
       "TCGA-NH-A50V-01A-11R-A28H-07        0.150959        4.854547        0.243694   \n",
       "TCGA-AA-A01C-01A-01R-A00A-07        0.049073        2.469037        0.044010   \n",
       "TCGA-AA-A02F-01A-01R-A089-07        0.052564        5.149422        0.010476   \n",
       "...                                      ...             ...             ...   \n",
       "TCGA-A6-2682-11A-01R-A32Z-07        0.071515        0.721056        0.114243   \n",
       "TCGA-AA-3522-11A-01R-A32Z-07        0.126635        0.703542        0.149782   \n",
       "TCGA-AA-3662-11A-01R-1723-07        0.176762        1.211464        0.118174   \n",
       "TCGA-AA-3520-11A-01R-A32Z-07        0.054649        0.416727        0.140708   \n",
       "TCGA-A6-2685-11A-01R-A32Z-07        0.093809        0.476754        0.047802   \n",
       "\n",
       "Gene_symbol                             PCCB         ZNF585A           ZNF79  \\\n",
       "Gene_ensembl_id              ENSG00000114054 ENSG00000196967 ENSG00000196152   \n",
       "Sample_ID                                                                      \n",
       "TCGA-AA-3867-01A-01R-1022-07        5.974278        0.313096        1.463202   \n",
       "TCGA-CA-6719-01A-11R-1839-07        8.007415        0.733702        2.608254   \n",
       "TCGA-NH-A50V-01A-11R-A28H-07        7.036026        0.845391        1.699452   \n",
       "TCGA-AA-A01C-01A-01R-A00A-07        5.248116        0.356468        2.306620   \n",
       "TCGA-AA-A02F-01A-01R-A089-07        4.530721        0.722315        1.504792   \n",
       "...                                      ...             ...             ...   \n",
       "TCGA-A6-2682-11A-01R-A32Z-07        8.197457        0.459543        2.388808   \n",
       "TCGA-AA-3522-11A-01R-A32Z-07        9.116541        0.600264        2.000086   \n",
       "TCGA-AA-3662-11A-01R-1723-07        6.039617        0.816492        1.969411   \n",
       "TCGA-AA-3520-11A-01R-A32Z-07        8.717314        0.463621        1.694042   \n",
       "TCGA-A6-2685-11A-01R-A32Z-07        5.975889        0.439992        1.581144   \n",
       "\n",
       "Gene_symbol                            STMP1          RAB33B Cancer  \n",
       "Gene_ensembl_id              ENSG00000243317 ENSG00000172007 Cancer  \n",
       "Sample_ID                                                            \n",
       "TCGA-AA-3867-01A-01R-1022-07       11.145080        2.355141      1  \n",
       "TCGA-CA-6719-01A-11R-1839-07       11.654345        1.838190      1  \n",
       "TCGA-NH-A50V-01A-11R-A28H-07        8.839348        2.831534      1  \n",
       "TCGA-AA-A01C-01A-01R-A00A-07       14.420458        0.586697      1  \n",
       "TCGA-AA-A02F-01A-01R-A089-07       11.204312        1.508238      1  \n",
       "...                                      ...             ...    ...  \n",
       "TCGA-A6-2682-11A-01R-A32Z-07       10.089674        1.481993      0  \n",
       "TCGA-AA-3522-11A-01R-A32Z-07        9.840412        1.878232      0  \n",
       "TCGA-AA-3662-11A-01R-1723-07       11.050769        2.699880      0  \n",
       "TCGA-AA-3520-11A-01R-A32Z-07       10.902195        1.542757      0  \n",
       "TCGA-A6-2685-11A-01R-A32Z-07        9.077905        1.424019      0  \n",
       "\n",
       "[519 rows x 216 columns]"
      ]
     },
     "execution_count": 87,
     "metadata": {},
     "output_type": "execute_result"
    }
   ],
   "source": [
    "cis_eQTL"
   ]
  },
  {
   "cell_type": "code",
   "execution_count": 88,
   "id": "75e02a6e",
   "metadata": {},
   "outputs": [],
   "source": [
    "#combined_eQTLs = cis_eQTL.reset_index().merge(trans_eQTL, on=cis_eQTL.index,).set_index('Sample_ID').drop('key_0',axis=1)\n",
    "#combined_eQTLs"
   ]
  },
  {
   "cell_type": "code",
   "execution_count": 89,
   "id": "59e83104",
   "metadata": {},
   "outputs": [],
   "source": [
    "#### Just working on cis_eQTLs for practice"
   ]
  },
  {
   "cell_type": "code",
   "execution_count": 90,
   "id": "08f703bc",
   "metadata": {},
   "outputs": [
    {
     "data": {
      "text/plain": [
       "array([0])"
      ]
     },
     "execution_count": 90,
     "metadata": {},
     "output_type": "execute_result"
    }
   ],
   "source": [
    "#Check cis_eQTL for and missing data\n",
    "\n",
    "cis_eQTL.isnull().sum().unique()"
   ]
  },
  {
   "cell_type": "code",
   "execution_count": null,
   "id": "6e9d0e8b",
   "metadata": {},
   "outputs": [],
   "source": []
  },
  {
   "cell_type": "code",
   "execution_count": 91,
   "id": "e9880efe",
   "metadata": {},
   "outputs": [
    {
     "name": "stdout",
     "output_type": "stream",
     "text": [
      "Train (363, 215) (363,)\n",
      "Test (156, 215) (156,)\n"
     ]
    }
   ],
   "source": [
    "#Quick Random Forest attempt\n",
    "\n",
    "#set features (X) as all genes and target (y) as Cancer column\n",
    "\n",
    "X = cis_eQTL.drop('Cancer',axis=1,level='Gene_symbol')\n",
    "y = cis_eQTL['Cancer','Cancer']\n",
    "\n",
    "#Do train test split \n",
    "X_train, X_test, y_train, y_test = train_test_split(X, y, test_size=0.3, random_state=1)\n",
    "\n",
    "RF_model = RandomForestClassifier(random_state=1)\n",
    "\n",
    "RF_model.fit(X_train,y_train)\n",
    "\n",
    "preds = RF_model.predict(X_test)\n",
    "\n",
    "print ('Train', X_train.shape, y_train.shape)\n",
    "print ('Test', X_test.shape, y_test.shape)"
   ]
  },
  {
   "cell_type": "code",
   "execution_count": 93,
   "id": "826d67aa",
   "metadata": {},
   "outputs": [
    {
     "name": "stdout",
     "output_type": "stream",
     "text": [
      "Quick Random Forest results:\n",
      "\n",
      "\n",
      "RMSE: 0.0\n",
      "\n",
      "\n",
      "[[ 13   0]\n",
      " [  0 143]]\n",
      "\n",
      "\n",
      "              precision    recall  f1-score   support\n",
      "\n",
      "           0       1.00      1.00      1.00        13\n",
      "           1       1.00      1.00      1.00       143\n",
      "\n",
      "    accuracy                           1.00       156\n",
      "   macro avg       1.00      1.00      1.00       156\n",
      "weighted avg       1.00      1.00      1.00       156\n",
      "\n"
     ]
    }
   ],
   "source": [
    "print('Quick Random Forest results:')\n",
    "print('\\n')\n",
    "print('RMSE:',np.sqrt(mean_squared_error(preds,y_test)))\n",
    "print('\\n')\n",
    "print (confusion_matrix(preds,y_test))\n",
    "print('\\n')\n",
    "print (classification_report(preds,y_test))"
   ]
  },
  {
   "cell_type": "code",
   "execution_count": 94,
   "id": "b309f580",
   "metadata": {},
   "outputs": [
    {
     "name": "stdout",
     "output_type": "stream",
     "text": [
      "1.0\n"
     ]
    }
   ],
   "source": [
    "#Area under ROC curve maybe better performance metric for classification\n",
    "#Which gives the likelihood of model distinguishing between two classes .. want AUROC score > 0.5 so not random\n",
    "\n",
    "#To calclulate AUROC need predicted class probabilities instead predicted classes\n",
    "\n",
    "#Predicted class probabilities\n",
    "prob = RF_model.predict_proba(X_test)\n",
    "\n",
    "# Keep only the positive class\n",
    "prob = [p[1] for p in prob]\n",
    "\n",
    "print(roc_auc_score(y_test,prob))\n"
   ]
  },
  {
   "cell_type": "code",
   "execution_count": null,
   "id": "8f3c2ff7",
   "metadata": {},
   "outputs": [],
   "source": []
  },
  {
   "cell_type": "code",
   "execution_count": 95,
   "id": "25bd4c9c",
   "metadata": {},
   "outputs": [
    {
     "data": {
      "text/plain": [
       "Cancer\n",
       "1         478\n",
       "0          41\n",
       "dtype: int64"
      ]
     },
     "metadata": {},
     "output_type": "display_data"
    },
    {
     "name": "stdout",
     "output_type": "stream",
     "text": [
      "Ratio: 11.66 : 1\n"
     ]
    },
    {
     "data": {
      "text/plain": [
       "<AxesSubplot:title={'center':'Cancer Target Count'}, xlabel='Cancer'>"
      ]
     },
     "execution_count": 95,
     "metadata": {},
     "output_type": "execute_result"
    },
    {
     "data": {
      "image/png": "[encoded data removed]",
      "text/plain": [
       "<Figure size 432x288 with 1 Axes>"
      ]
     },
     "metadata": {
      "needs_background": "light"
     },
     "output_type": "display_data"
    }
   ],
   "source": [
    "#Check the testue counts for the target cancer variable ... can see its unbalanced around 12 to 1\n",
    "\n",
    "target_count = cis_eQTL['Cancer'].value_counts()\n",
    "display(target_count)\n",
    "\n",
    "print('Ratio:', round(target_count[1] / target_count[0], 2), ': 1')\n",
    "\n",
    "target_count.plot(kind='bar',title = 'Cancer Target Count')"
   ]
  },
  {
   "cell_type": "code",
   "execution_count": 96,
   "id": "c2e76538",
   "metadata": {},
   "outputs": [],
   "source": [
    "#Try adding class_weight argument = to ratio for each class in RandomForestClassifier\n",
    "\n",
    "RF_model_weight = RandomForestClassifier(random_state=1,class_weight={0:1,1:round(target_count[1] / target_count[0], 2)})\n",
    "\n",
    "RF_model_weight.fit(X_train,y_train)\n",
    "\n",
    "preds_weight = RF_model_weight.predict(X_test)\n",
    "\n",
    "preds_prob = RF_model_weight.predict_proba(X_test)"
   ]
  },
  {
   "cell_type": "code",
   "execution_count": 97,
   "id": "97e2e248",
   "metadata": {},
   "outputs": [
    {
     "name": "stdout",
     "output_type": "stream",
     "text": [
      "Class weight Random Forest results:\n",
      "\n",
      "\n",
      "RMSE: 0.08006407690254357\n",
      "\n",
      "\n",
      "[[ 12   0]\n",
      " [  1 143]]\n",
      "\n",
      "\n",
      "              precision    recall  f1-score   support\n",
      "\n",
      "           0       0.92      1.00      0.96        12\n",
      "           1       1.00      0.99      1.00       144\n",
      "\n",
      "    accuracy                           0.99       156\n",
      "   macro avg       0.96      1.00      0.98       156\n",
      "weighted avg       0.99      0.99      0.99       156\n",
      "\n",
      "\n",
      "\n",
      "AUROC score: 1.0\n"
     ]
    }
   ],
   "source": [
    "print('Class weight Random Forest results:')\n",
    "print('\\n')\n",
    "print('RMSE:',np.sqrt(mean_squared_error(preds_weight,y_test)))\n",
    "print('\\n')\n",
    "print (confusion_matrix(preds_weight,y_test))\n",
    "print('\\n')\n",
    "print (classification_report(preds_weight,y_test))\n",
    "print('\\n')\n",
    "print ('AUROC score:',roc_auc_score(y_test,[p[1] for p in preds_prob]) )"
   ]
  },
  {
   "cell_type": "code",
   "execution_count": null,
   "id": "74b23d17",
   "metadata": {},
   "outputs": [],
   "source": []
  },
  {
   "cell_type": "code",
   "execution_count": null,
   "id": "6a3d3e3f",
   "metadata": {},
   "outputs": [],
   "source": []
  },
  {
   "cell_type": "code",
   "execution_count": 98,
   "id": "188455d1",
   "metadata": {},
   "outputs": [],
   "source": [
    "#Important to do train test split before resampling imbalanced data!!\n",
    "#Now down sample the majoirty class scklearn resample\n",
    "\n",
    "# concatenate training data back together\n",
    "X_resample = pd.concat([X_train, y_train], axis=1)"
   ]
  },
  {
   "cell_type": "code",
   "execution_count": 99,
   "id": "9130ea77",
   "metadata": {},
   "outputs": [
    {
     "data": {
      "text/html": [
       "<div>\n",
       "<style scoped>\n",
       "    .dataframe tbody tr th:only-of-type {\n",
       "        vertical-align: middle;\n",
       "    }\n",
       "\n",
       "    .dataframe tbody tr th {\n",
       "        vertical-align: top;\n",
       "    }\n",
       "\n",
       "    .dataframe thead tr th {\n",
       "        text-align: left;\n",
       "    }\n",
       "\n",
       "    .dataframe thead tr:last-of-type th {\n",
       "        text-align: right;\n",
       "    }\n",
       "</style>\n",
       "<table border=\"1\" class=\"dataframe\">\n",
       "  <thead>\n",
       "    <tr>\n",
       "      <th>Gene_symbol</th>\n",
       "      <th>FABP2</th>\n",
       "      <th>ZNF117</th>\n",
       "      <th>XKR9</th>\n",
       "      <th>NUDT13</th>\n",
       "      <th>C2orf74</th>\n",
       "      <th>METTL18</th>\n",
       "      <th>WFDC3</th>\n",
       "      <th>CPNE1</th>\n",
       "      <th>N6AMT1</th>\n",
       "      <th>ULK4</th>\n",
       "      <th>...</th>\n",
       "      <th>DHFR</th>\n",
       "      <th>SLC13A4</th>\n",
       "      <th>ZNF239</th>\n",
       "      <th>RGS6</th>\n",
       "      <th>PCCB</th>\n",
       "      <th>ZNF585A</th>\n",
       "      <th>ZNF79</th>\n",
       "      <th>STMP1</th>\n",
       "      <th>RAB33B</th>\n",
       "      <th>Cancer</th>\n",
       "    </tr>\n",
       "    <tr>\n",
       "      <th>Gene_ensembl_id</th>\n",
       "      <th>ENSG00000145384</th>\n",
       "      <th>ENSG00000152926</th>\n",
       "      <th>ENSG00000221947</th>\n",
       "      <th>ENSG00000166321</th>\n",
       "      <th>ENSG00000237651</th>\n",
       "      <th>ENSG00000171806</th>\n",
       "      <th>ENSG00000124116</th>\n",
       "      <th>ENSG00000214078</th>\n",
       "      <th>ENSG00000156239</th>\n",
       "      <th>ENSG00000168038</th>\n",
       "      <th>...</th>\n",
       "      <th>ENSG00000228716</th>\n",
       "      <th>ENSG00000164707</th>\n",
       "      <th>ENSG00000196793</th>\n",
       "      <th>ENSG00000182732</th>\n",
       "      <th>ENSG00000114054</th>\n",
       "      <th>ENSG00000196967</th>\n",
       "      <th>ENSG00000196152</th>\n",
       "      <th>ENSG00000243317</th>\n",
       "      <th>ENSG00000172007</th>\n",
       "      <th>Cancer</th>\n",
       "    </tr>\n",
       "    <tr>\n",
       "      <th>Sample_ID</th>\n",
       "      <th></th>\n",
       "      <th></th>\n",
       "      <th></th>\n",
       "      <th></th>\n",
       "      <th></th>\n",
       "      <th></th>\n",
       "      <th></th>\n",
       "      <th></th>\n",
       "      <th></th>\n",
       "      <th></th>\n",
       "      <th></th>\n",
       "      <th></th>\n",
       "      <th></th>\n",
       "      <th></th>\n",
       "      <th></th>\n",
       "      <th></th>\n",
       "      <th></th>\n",
       "      <th></th>\n",
       "      <th></th>\n",
       "      <th></th>\n",
       "      <th></th>\n",
       "    </tr>\n",
       "  </thead>\n",
       "  <tbody>\n",
       "    <tr>\n",
       "      <th>TCGA-D5-7000-01A-11R-A32Z-07</th>\n",
       "      <td>6.991351</td>\n",
       "      <td>1.436497</td>\n",
       "      <td>3.022251</td>\n",
       "      <td>1.215372</td>\n",
       "      <td>0.324584</td>\n",
       "      <td>3.128243</td>\n",
       "      <td>0.495442</td>\n",
       "      <td>46.743279</td>\n",
       "      <td>1.897160</td>\n",
       "      <td>0.526088</td>\n",
       "      <td>...</td>\n",
       "      <td>7.901626</td>\n",
       "      <td>0.080231</td>\n",
       "      <td>2.924812</td>\n",
       "      <td>0.010581</td>\n",
       "      <td>9.891055</td>\n",
       "      <td>0.548517</td>\n",
       "      <td>1.848605</td>\n",
       "      <td>14.578190</td>\n",
       "      <td>2.708346</td>\n",
       "      <td>1</td>\n",
       "    </tr>\n",
       "    <tr>\n",
       "      <th>TCGA-AA-3831-01A-01R-0905-07</th>\n",
       "      <td>1.158783</td>\n",
       "      <td>0.525983</td>\n",
       "      <td>0.183833</td>\n",
       "      <td>1.835085</td>\n",
       "      <td>0.052649</td>\n",
       "      <td>2.653709</td>\n",
       "      <td>0.381403</td>\n",
       "      <td>35.371574</td>\n",
       "      <td>2.672426</td>\n",
       "      <td>0.606193</td>\n",
       "      <td>...</td>\n",
       "      <td>6.196143</td>\n",
       "      <td>0.124396</td>\n",
       "      <td>3.830781</td>\n",
       "      <td>0.169575</td>\n",
       "      <td>15.005846</td>\n",
       "      <td>0.341057</td>\n",
       "      <td>2.165587</td>\n",
       "      <td>11.349630</td>\n",
       "      <td>2.530267</td>\n",
       "      <td>1</td>\n",
       "    </tr>\n",
       "    <tr>\n",
       "      <th>TCGA-D5-5541-01A-01R-1653-07</th>\n",
       "      <td>0.063066</td>\n",
       "      <td>0.786102</td>\n",
       "      <td>0.435769</td>\n",
       "      <td>0.922962</td>\n",
       "      <td>0.389689</td>\n",
       "      <td>5.380883</td>\n",
       "      <td>0.786979</td>\n",
       "      <td>133.166301</td>\n",
       "      <td>2.013019</td>\n",
       "      <td>0.519946</td>\n",
       "      <td>...</td>\n",
       "      <td>4.501506</td>\n",
       "      <td>0.077992</td>\n",
       "      <td>5.322031</td>\n",
       "      <td>0.009715</td>\n",
       "      <td>5.034937</td>\n",
       "      <td>0.781206</td>\n",
       "      <td>2.323256</td>\n",
       "      <td>16.645564</td>\n",
       "      <td>2.593560</td>\n",
       "      <td>1</td>\n",
       "    </tr>\n",
       "    <tr>\n",
       "      <th>TCGA-AA-3877-01A-01R-1022-07</th>\n",
       "      <td>0.262555</td>\n",
       "      <td>5.264044</td>\n",
       "      <td>1.808907</td>\n",
       "      <td>1.345686</td>\n",
       "      <td>0.061350</td>\n",
       "      <td>4.682565</td>\n",
       "      <td>0.173909</td>\n",
       "      <td>16.435309</td>\n",
       "      <td>2.149282</td>\n",
       "      <td>0.847647</td>\n",
       "      <td>...</td>\n",
       "      <td>6.429593</td>\n",
       "      <td>0.110165</td>\n",
       "      <td>4.649077</td>\n",
       "      <td>0.005200</td>\n",
       "      <td>10.310028</td>\n",
       "      <td>0.345583</td>\n",
       "      <td>1.897651</td>\n",
       "      <td>20.125407</td>\n",
       "      <td>2.865234</td>\n",
       "      <td>1</td>\n",
       "    </tr>\n",
       "    <tr>\n",
       "      <th>TCGA-CK-5914-01A-11R-1653-07</th>\n",
       "      <td>1.192615</td>\n",
       "      <td>1.253866</td>\n",
       "      <td>0.019786</td>\n",
       "      <td>1.103315</td>\n",
       "      <td>0.101997</td>\n",
       "      <td>4.700394</td>\n",
       "      <td>0.313227</td>\n",
       "      <td>128.903266</td>\n",
       "      <td>1.083902</td>\n",
       "      <td>0.560768</td>\n",
       "      <td>...</td>\n",
       "      <td>5.419256</td>\n",
       "      <td>0.009640</td>\n",
       "      <td>3.518241</td>\n",
       "      <td>0.155615</td>\n",
       "      <td>5.041772</td>\n",
       "      <td>0.836690</td>\n",
       "      <td>1.283796</td>\n",
       "      <td>16.690630</td>\n",
       "      <td>2.147467</td>\n",
       "      <td>1</td>\n",
       "    </tr>\n",
       "  </tbody>\n",
       "</table>\n",
       "<p>5 rows × 216 columns</p>\n",
       "</div>"
      ],
      "text/plain": [
       "Gene_symbol                            FABP2          ZNF117            XKR9  \\\n",
       "Gene_ensembl_id              ENSG00000145384 ENSG00000152926 ENSG00000221947   \n",
       "Sample_ID                                                                      \n",
       "TCGA-D5-7000-01A-11R-A32Z-07        6.991351        1.436497        3.022251   \n",
       "TCGA-AA-3831-01A-01R-0905-07        1.158783        0.525983        0.183833   \n",
       "TCGA-D5-5541-01A-01R-1653-07        0.063066        0.786102        0.435769   \n",
       "TCGA-AA-3877-01A-01R-1022-07        0.262555        5.264044        1.808907   \n",
       "TCGA-CK-5914-01A-11R-1653-07        1.192615        1.253866        0.019786   \n",
       "\n",
       "Gene_symbol                           NUDT13         C2orf74         METTL18  \\\n",
       "Gene_ensembl_id              ENSG00000166321 ENSG00000237651 ENSG00000171806   \n",
       "Sample_ID                                                                      \n",
       "TCGA-D5-7000-01A-11R-A32Z-07        1.215372        0.324584        3.128243   \n",
       "TCGA-AA-3831-01A-01R-0905-07        1.835085        0.052649        2.653709   \n",
       "TCGA-D5-5541-01A-01R-1653-07        0.922962        0.389689        5.380883   \n",
       "TCGA-AA-3877-01A-01R-1022-07        1.345686        0.061350        4.682565   \n",
       "TCGA-CK-5914-01A-11R-1653-07        1.103315        0.101997        4.700394   \n",
       "\n",
       "Gene_symbol                            WFDC3           CPNE1          N6AMT1  \\\n",
       "Gene_ensembl_id              ENSG00000124116 ENSG00000214078 ENSG00000156239   \n",
       "Sample_ID                                                                      \n",
       "TCGA-D5-7000-01A-11R-A32Z-07        0.495442       46.743279        1.897160   \n",
       "TCGA-AA-3831-01A-01R-0905-07        0.381403       35.371574        2.672426   \n",
       "TCGA-D5-5541-01A-01R-1653-07        0.786979      133.166301        2.013019   \n",
       "TCGA-AA-3877-01A-01R-1022-07        0.173909       16.435309        2.149282   \n",
       "TCGA-CK-5914-01A-11R-1653-07        0.313227      128.903266        1.083902   \n",
       "\n",
       "Gene_symbol                             ULK4  ...            DHFR  \\\n",
       "Gene_ensembl_id              ENSG00000168038  ... ENSG00000228716   \n",
       "Sample_ID                                     ...                   \n",
       "TCGA-D5-7000-01A-11R-A32Z-07        0.526088  ...        7.901626   \n",
       "TCGA-AA-3831-01A-01R-0905-07        0.606193  ...        6.196143   \n",
       "TCGA-D5-5541-01A-01R-1653-07        0.519946  ...        4.501506   \n",
       "TCGA-AA-3877-01A-01R-1022-07        0.847647  ...        6.429593   \n",
       "TCGA-CK-5914-01A-11R-1653-07        0.560768  ...        5.419256   \n",
       "\n",
       "Gene_symbol                          SLC13A4          ZNF239            RGS6  \\\n",
       "Gene_ensembl_id              ENSG00000164707 ENSG00000196793 ENSG00000182732   \n",
       "Sample_ID                                                                      \n",
       "TCGA-D5-7000-01A-11R-A32Z-07        0.080231        2.924812        0.010581   \n",
       "TCGA-AA-3831-01A-01R-0905-07        0.124396        3.830781        0.169575   \n",
       "TCGA-D5-5541-01A-01R-1653-07        0.077992        5.322031        0.009715   \n",
       "TCGA-AA-3877-01A-01R-1022-07        0.110165        4.649077        0.005200   \n",
       "TCGA-CK-5914-01A-11R-1653-07        0.009640        3.518241        0.155615   \n",
       "\n",
       "Gene_symbol                             PCCB         ZNF585A           ZNF79  \\\n",
       "Gene_ensembl_id              ENSG00000114054 ENSG00000196967 ENSG00000196152   \n",
       "Sample_ID                                                                      \n",
       "TCGA-D5-7000-01A-11R-A32Z-07        9.891055        0.548517        1.848605   \n",
       "TCGA-AA-3831-01A-01R-0905-07       15.005846        0.341057        2.165587   \n",
       "TCGA-D5-5541-01A-01R-1653-07        5.034937        0.781206        2.323256   \n",
       "TCGA-AA-3877-01A-01R-1022-07       10.310028        0.345583        1.897651   \n",
       "TCGA-CK-5914-01A-11R-1653-07        5.041772        0.836690        1.283796   \n",
       "\n",
       "Gene_symbol                            STMP1          RAB33B Cancer  \n",
       "Gene_ensembl_id              ENSG00000243317 ENSG00000172007 Cancer  \n",
       "Sample_ID                                                            \n",
       "TCGA-D5-7000-01A-11R-A32Z-07       14.578190        2.708346      1  \n",
       "TCGA-AA-3831-01A-01R-0905-07       11.349630        2.530267      1  \n",
       "TCGA-D5-5541-01A-01R-1653-07       16.645564        2.593560      1  \n",
       "TCGA-AA-3877-01A-01R-1022-07       20.125407        2.865234      1  \n",
       "TCGA-CK-5914-01A-11R-1653-07       16.690630        2.147467      1  \n",
       "\n",
       "[5 rows x 216 columns]"
      ]
     },
     "execution_count": 99,
     "metadata": {},
     "output_type": "execute_result"
    }
   ],
   "source": [
    "X_resample.head()"
   ]
  },
  {
   "cell_type": "code",
   "execution_count": 100,
   "id": "e96ccfa4",
   "metadata": {},
   "outputs": [],
   "source": [
    "#seperate tumour and normal samples\n",
    "\n",
    "tumour = X_resample[X_resample['Cancer','Cancer']==1]\n",
    "normal = X_resample[X_resample['Cancer','Cancer']==0]"
   ]
  },
  {
   "cell_type": "code",
   "execution_count": 101,
   "id": "91cd246b",
   "metadata": {},
   "outputs": [],
   "source": [
    "#Now downsample the majorit class .. n_samples = numb of minority samples\n",
    "\n",
    "majority_downsampled = resample(tumour,\n",
    "                                replace = False,\n",
    "                                n_samples= len(normal),\n",
    "                                random_state = 1)"
   ]
  },
  {
   "cell_type": "code",
   "execution_count": 102,
   "id": "89de32d5",
   "metadata": {},
   "outputs": [
    {
     "data": {
      "text/plain": [
       "Cancer\n",
       "0         28\n",
       "1         28\n",
       "dtype: int64"
      ]
     },
     "execution_count": 102,
     "metadata": {},
     "output_type": "execute_result"
    }
   ],
   "source": [
    "# combine minority (normal) and majority downsampled\n",
    "\n",
    "downsampled = pd.concat([majority_downsampled, normal])\n",
    "downsampled['Cancer'].value_counts()"
   ]
  },
  {
   "cell_type": "code",
   "execution_count": 103,
   "id": "09ba7775",
   "metadata": {},
   "outputs": [
    {
     "name": "stderr",
     "output_type": "stream",
     "text": [
      "/Users/jake/opt/anaconda3/lib/python3.7/site-packages/pandas/core/generic.py:4147: PerformanceWarning: dropping on a non-lexsorted multi-index without a level parameter may impact performance.\n",
      "  obj = obj._drop_axis(labels, axis, level=level, errors=errors)\n"
     ]
    },
    {
     "data": {
      "text/plain": [
       "RandomForestClassifier(random_state=1)"
      ]
     },
     "execution_count": 103,
     "metadata": {},
     "output_type": "execute_result"
    }
   ],
   "source": [
    "#Now try running model on the downsampled data\n",
    "\n",
    "y_train_down = downsampled['Cancer','Cancer']\n",
    "X_train_down = downsampled.drop('Cancer',axis = 1)\n",
    "\n",
    "downsampled_RF_model = RandomForestClassifier(random_state=1)\n",
    "\n",
    "downsampled_RF_model.fit(X_train_down,y_train_down)"
   ]
  },
  {
   "cell_type": "code",
   "execution_count": 104,
   "id": "1f20a500",
   "metadata": {},
   "outputs": [],
   "source": [
    "#Make predictions on original X_test\n",
    "\n",
    "downsampled_preds = downsampled_RF_model.predict(X_test)\n",
    "\n",
    "downsampled_prob = downsampled_RF_model.predict_proba(X_test)"
   ]
  },
  {
   "cell_type": "code",
   "execution_count": 105,
   "id": "f0212d50",
   "metadata": {},
   "outputs": [
    {
     "name": "stdout",
     "output_type": "stream",
     "text": [
      "Downsampled resampling results:\n",
      "\n",
      "\n",
      "RMSE: 0.11322770341445958\n",
      "\n",
      "\n",
      "[[ 13   2]\n",
      " [  0 141]]\n",
      "\n",
      "\n",
      "              precision    recall  f1-score   support\n",
      "\n",
      "           0       1.00      0.87      0.93        15\n",
      "           1       0.99      1.00      0.99       141\n",
      "\n",
      "    accuracy                           0.99       156\n",
      "   macro avg       0.99      0.93      0.96       156\n",
      "weighted avg       0.99      0.99      0.99       156\n",
      "\n",
      "\n",
      "\n",
      "AUROC score: 1.0\n"
     ]
    }
   ],
   "source": [
    "print('Downsampled resampling results:')\n",
    "print('\\n')\n",
    "print('RMSE:',np.sqrt(mean_squared_error(downsampled_preds,y_test)))\n",
    "print('\\n')\n",
    "print (confusion_matrix(downsampled_preds,y_test))\n",
    "print('\\n')\n",
    "print (classification_report(downsampled_preds,y_test))\n",
    "print('\\n')\n",
    "print ('AUROC score:',roc_auc_score(y_test,[p[1] for p in downsampled_prob]) )"
   ]
  },
  {
   "cell_type": "code",
   "execution_count": null,
   "id": "7b561d16",
   "metadata": {},
   "outputs": [],
   "source": []
  },
  {
   "cell_type": "code",
   "execution_count": 106,
   "id": "4d2aaeb2",
   "metadata": {},
   "outputs": [],
   "source": [
    "#Repeat process but with upsampling this this => randomly duplicate testues from minority normal class to increase sample size"
   ]
  },
  {
   "cell_type": "code",
   "execution_count": 107,
   "id": "663b748c",
   "metadata": {},
   "outputs": [],
   "source": [
    "#upsample the minority normal class .. n_samples = num of tumour samples, replace = True\n",
    "minority_upsampled = resample(normal,\n",
    "                             replace = True,\n",
    "                             n_samples = len(tumour),\n",
    "                             random_state = 1)"
   ]
  },
  {
   "cell_type": "code",
   "execution_count": 108,
   "id": "5eee0799",
   "metadata": {},
   "outputs": [
    {
     "data": {
      "text/plain": [
       "Cancer\n",
       "0         335\n",
       "1         335\n",
       "dtype: int64"
      ]
     },
     "execution_count": 108,
     "metadata": {},
     "output_type": "execute_result"
    }
   ],
   "source": [
    "# Combine majority tumour class with upsampled normal class\n",
    "\n",
    "upsampled = pd.concat([tumour, minority_upsampled])\n",
    "upsampled['Cancer'].value_counts()"
   ]
  },
  {
   "cell_type": "code",
   "execution_count": 158,
   "id": "ce8765c1",
   "metadata": {},
   "outputs": [
    {
     "name": "stderr",
     "output_type": "stream",
     "text": [
      "/Users/jake/opt/anaconda3/lib/python3.7/site-packages/pandas/core/generic.py:4147: PerformanceWarning: dropping on a non-lexsorted multi-index without a level parameter may impact performance.\n",
      "  obj = obj._drop_axis(labels, axis, level=level, errors=errors)\n"
     ]
    }
   ],
   "source": [
    "#Now try running model on the downsampled data\n",
    "\n",
    "y_train_up = upsampled['Cancer','Cancer']\n",
    "X_train_up = upsampled.drop('Cancer',axis = 1)\n",
    "\n",
    "upsampled_RF_model = RandomForestClassifier(random_state=1)\n",
    "\n",
    "upsampled_RF_model.fit(X_train_up,y_train_up)\n",
    "\n",
    "upsampled_preds = upsampled_RF_model.predict(X_test)\n",
    "\n",
    "upsampled_prob = upsampled_RF_model.predict_proba(X_test)"
   ]
  },
  {
   "cell_type": "code",
   "execution_count": 157,
   "id": "fe371341",
   "metadata": {},
   "outputs": [
    {
     "name": "stdout",
     "output_type": "stream",
     "text": [
      "Upsampled resampling results:\n",
      "\n",
      "\n",
      "RMSE: 0.0\n",
      "\n",
      "\n",
      "[[ 13   0]\n",
      " [  0 143]]\n",
      "\n",
      "\n",
      "              precision    recall  f1-score   support\n",
      "\n",
      "           0       1.00      1.00      1.00        13\n",
      "           1       1.00      1.00      1.00       143\n",
      "\n",
      "    accuracy                           1.00       156\n",
      "   macro avg       1.00      1.00      1.00       156\n",
      "weighted avg       1.00      1.00      1.00       156\n",
      "\n",
      "\n",
      "\n",
      "AUROC score: 1.0\n"
     ]
    }
   ],
   "source": [
    "print('Upsampled resampling results:')\n",
    "print('\\n')\n",
    "print('RMSE:',np.sqrt(mean_squared_error(upsampled_preds,y_test)))\n",
    "print('\\n')\n",
    "print (confusion_matrix(upsampled_preds,y_test))\n",
    "print('\\n')\n",
    "print (classification_report(upsampled_preds,y_test))\n",
    "print('\\n')\n",
    "print ('AUROC score:',roc_auc_score(y_test,[p[1] for p in upsampled_prob]) )"
   ]
  },
  {
   "cell_type": "code",
   "execution_count": null,
   "id": "692448fd",
   "metadata": {},
   "outputs": [],
   "source": []
  },
  {
   "cell_type": "code",
   "execution_count": 111,
   "id": "0e5d4ee6",
   "metadata": {},
   "outputs": [],
   "source": [
    "#### Cross validation attempt using the weighted RF model "
   ]
  },
  {
   "cell_type": "code",
   "execution_count": 112,
   "id": "695dd2e4",
   "metadata": {},
   "outputs": [],
   "source": [
    "#First create pipeline since easier to use cross validation with pipeline\n",
    "#Combine in function with cross test score to determine best RMSE in relation to different n_estimators in random forest\n",
    "#Multiply by -1 since sklearn calculates negative RMSE adn try splitting data 5 times => cv=5\n",
    "\n",
    "def cross_test(n_estimators):\n",
    "    '''Return the mean RMSE for Random Forest Classifier with 5 fold split in data. Takes in n_estimators as argument for number of trees'''\n",
    "    \n",
    "    \n",
    "    RF_weight_pipeline = Pipeline(steps=[('model', RandomForestClassifier(n_estimators,random_state=1,\n",
    "                                                                          class_weight={0:1,1:round(target_count[1] / target_count[0], 2)}))])\n",
    "    \n",
    "    scores = -1 * cross_val_score(RF_weight_pipeline, X, y,\n",
    "                              cv=5,\n",
    "                              scoring='neg_root_mean_squared_error')\n",
    "    return scores.mean()\n",
    "    "
   ]
  },
  {
   "cell_type": "code",
   "execution_count": 113,
   "id": "0a9e0f58",
   "metadata": {},
   "outputs": [
    {
     "data": {
      "text/plain": [
       "{100: 0.09478821869962718,\n",
       " 200: 0.07508163313634132,\n",
       " 300: 0.06695823683889826,\n",
       " 400: 0.07508163313634132,\n",
       " 500: 0.07508163313634132}"
      ]
     },
     "execution_count": 113,
     "metadata": {},
     "output_type": "execute_result"
    }
   ],
   "source": [
    "#Show dictionary displaying the average RMSE for different number of trees\n",
    "\n",
    "cross_val_results = {}\n",
    "\n",
    "for i in range(100,600,100):\n",
    "    cross_val_results[i] = cross_test(i)\n",
    "    \n",
    "cross_val_results"
   ]
  },
  {
   "cell_type": "code",
   "execution_count": null,
   "id": "ea2af488",
   "metadata": {},
   "outputs": [],
   "source": []
  },
  {
   "cell_type": "code",
   "execution_count": 114,
   "id": "511bd302",
   "metadata": {},
   "outputs": [],
   "source": [
    "### Feature Engineering"
   ]
  },
  {
   "cell_type": "code",
   "execution_count": 115,
   "id": "b66bd207",
   "metadata": {},
   "outputs": [
    {
     "data": {
      "text/plain": [
       "VarianceThreshold(threshold=0.01)"
      ]
     },
     "execution_count": 115,
     "metadata": {},
     "output_type": "execute_result"
    }
   ],
   "source": [
    "#Initially could remove genes with quasi constant FPKM values across all samples\n",
    "#This can be done using sklearns VarianceThreshold .. set threshold at 0.01 to remove genes where 99% of FPKM values the same\n",
    "\n",
    "quasi_constant = VarianceThreshold(threshold=0.01) \n",
    "quasi_constant.fit(X_train)"
   ]
  },
  {
   "cell_type": "code",
   "execution_count": 116,
   "id": "370aa9df",
   "metadata": {},
   "outputs": [
    {
     "data": {
      "text/plain": [
       "204"
      ]
     },
     "metadata": {},
     "output_type": "display_data"
    },
    {
     "data": {
      "text/plain": [
       "215"
      ]
     },
     "execution_count": 116,
     "metadata": {},
     "output_type": "execute_result"
    }
   ],
   "source": [
    "# sum over get_support, to get the number of features that are not quasi-constant\n",
    "\n",
    "display(sum(quasi_constant.get_support()))\n",
    "len(X_train.columns)"
   ]
  },
  {
   "cell_type": "code",
   "execution_count": 117,
   "id": "9ed9283a",
   "metadata": {},
   "outputs": [
    {
     "data": {
      "text/plain": [
       "[('ADGRF2', 'ENSG00000164393'),\n",
       " ('GLIPR1L2', 'ENSG00000180481'),\n",
       " ('RGPD4', 'ENSG00000196862'),\n",
       " ('GTF2A1L', 'ENSG00000242441'),\n",
       " ('ITIH4', 'ENSG00000055955'),\n",
       " ('CCDC73', 'ENSG00000186714'),\n",
       " ('CLEC18A', 'ENSG00000157322'),\n",
       " ('FAM228A', 'ENSG00000186453'),\n",
       " ('EFHB', 'ENSG00000163576'),\n",
       " ('TRIM63', 'ENSG00000158022'),\n",
       " ('TMEM232', 'ENSG00000186952')]"
      ]
     },
     "execution_count": 117,
     "metadata": {},
     "output_type": "execute_result"
    }
   ],
   "source": [
    "#See genes that are quasi constant \n",
    "\n",
    "[x for x in X_train.columns if x not in X_train.columns[quasi_constant.get_support()]]"
   ]
  },
  {
   "cell_type": "code",
   "execution_count": 118,
   "id": "e04ff17c",
   "metadata": {},
   "outputs": [],
   "source": [
    "# The if want to remove the features from training and test set\n",
    "#X_train = quasi_constant.transform(X_train)\n",
    "#X_test = quasi_constant.transform(X_test)"
   ]
  },
  {
   "cell_type": "code",
   "execution_count": null,
   "id": "34d4bbfb",
   "metadata": {},
   "outputs": [],
   "source": []
  },
  {
   "cell_type": "code",
   "execution_count": 119,
   "id": "02869bf6",
   "metadata": {},
   "outputs": [],
   "source": [
    "#Mutual information scores\n",
    "\n",
    "\n",
    "def mi_scores(X, y):\n",
    "    mi_scores = mutual_info_classif(X, y)\n",
    "    mi_scores = pd.Series(mi_scores, name=\"MI Scores\", index=X.columns)\n",
    "    mi_scores = mi_scores.sort_values(ascending=False)\n",
    "    return mi_scores"
   ]
  },
  {
   "cell_type": "code",
   "execution_count": 120,
   "id": "ab9aa203",
   "metadata": {},
   "outputs": [],
   "source": [
    "mi_scores_show = mi_scores(X,y)"
   ]
  },
  {
   "cell_type": "code",
   "execution_count": 131,
   "id": "cc543041",
   "metadata": {},
   "outputs": [
    {
     "data": {
      "text/plain": [
       "<AxesSubplot:xlabel='Gene_symbol,Gene_ensembl_id'>"
      ]
     },
     "execution_count": 131,
     "metadata": {},
     "output_type": "execute_result"
    },
    {
     "data": {
      "image/png": "[encoded data removed]",
      "text/plain": [
       "<Figure size 1440x576 with 1 Axes>"
      ]
     },
     "metadata": {
      "needs_background": "light"
     },
     "output_type": "display_data"
    }
   ],
   "source": [
    "plt.figure(figsize=(20,8))\n",
    "mi_scores_show.head(50).plot(kind='bar')"
   ]
  },
  {
   "cell_type": "code",
   "execution_count": 122,
   "id": "d1607762",
   "metadata": {},
   "outputs": [
    {
     "data": {
      "text/plain": [
       "Gene_symbol  Gene_ensembl_id\n",
       "ZNF121       ENSG00000197961    0.170887\n",
       "NAAA         ENSG00000138744    0.168955\n",
       "FABP2        ENSG00000145384    0.151514\n",
       "ZNF239       ENSG00000196793    0.149805\n",
       "CENPP        ENSG00000188312    0.149072\n",
       "NOM1         ENSG00000146909    0.147254\n",
       "CST2         ENSG00000170369    0.143387\n",
       "ZNF492       ENSG00000229676    0.141175\n",
       "FANCA        ENSG00000187741    0.140407\n",
       "WDYHV1       ENSG00000156795    0.139763\n",
       "CPNE1        ENSG00000214078    0.138908\n",
       "CLNS1A       ENSG00000074201    0.131398\n",
       "MASTL        ENSG00000120539    0.124860\n",
       "MZT2A        ENSG00000173272    0.113056\n",
       "IBSP         ENSG00000029559    0.110730\n",
       "C9orf43      ENSG00000157653    0.103559\n",
       "Name: MI Scores, dtype: float64"
      ]
     },
     "execution_count": 122,
     "metadata": {},
     "output_type": "execute_result"
    }
   ],
   "source": [
    "mi_scores_show[mi_scores_show >=  0.1]"
   ]
  },
  {
   "cell_type": "code",
   "execution_count": 123,
   "id": "edfe01b0",
   "metadata": {},
   "outputs": [],
   "source": [
    "#sns.pairplot(cis_eQTL[['Cancer','ZNF121','NAAA','FABP2']])"
   ]
  },
  {
   "cell_type": "code",
   "execution_count": null,
   "id": "90aaeeff",
   "metadata": {},
   "outputs": [],
   "source": []
  },
  {
   "cell_type": "code",
   "execution_count": 124,
   "id": "c7629534",
   "metadata": {},
   "outputs": [],
   "source": [
    "#Random Forest comes with a feature_importances_ method to rank the important of the input features\n",
    "#Attempt with weighted RF model to see how it compares to the features identified by mutual importance above\n",
    "\n",
    "feat_importances = pd.Series(RF_model_weight.feature_importances_, index= X.columns)"
   ]
  },
  {
   "cell_type": "code",
   "execution_count": 128,
   "id": "c568adb5",
   "metadata": {},
   "outputs": [
    {
     "data": {
      "text/plain": [
       "Gene_symbol  Gene_ensembl_id\n",
       "NAAA         ENSG00000138744    0.098049\n",
       "CST2         ENSG00000170369    0.065841\n",
       "FABP2        ENSG00000145384    0.044330\n",
       "ZNF121       ENSG00000197961    0.044116\n",
       "WDYHV1       ENSG00000156795    0.032133\n",
       "GSTA1        ENSG00000243955    0.025186\n",
       "FANCA        ENSG00000187741    0.024361\n",
       "ZNF239       ENSG00000196793    0.019550\n",
       "ZNF492       ENSG00000229676    0.019226\n",
       "CENPP        ENSG00000188312    0.019172\n",
       "dtype: float64"
      ]
     },
     "execution_count": 128,
     "metadata": {},
     "output_type": "execute_result"
    }
   ],
   "source": [
    "feat_importances.sort_values(ascending=False).head(10)"
   ]
  },
  {
   "cell_type": "code",
   "execution_count": 129,
   "id": "babec3c0",
   "metadata": {},
   "outputs": [
    {
     "data": {
      "text/plain": [
       "<AxesSubplot:ylabel='Gene_symbol,Gene_ensembl_id'>"
      ]
     },
     "execution_count": 129,
     "metadata": {},
     "output_type": "execute_result"
    },
    {
     "data": {
      "image/png": "[encoded data removed]",
      "text/plain": [
       "<Figure size 864x432 with 1 Axes>"
      ]
     },
     "metadata": {
      "needs_background": "light"
     },
     "output_type": "display_data"
    }
   ],
   "source": [
    "#Plot of feature importances\n",
    "\n",
    "plt.figure(figsize=(12,6))\n",
    "feat_importances.nlargest(10).plot(kind='barh')"
   ]
  },
  {
   "cell_type": "code",
   "execution_count": 133,
   "id": "7ad2cd2d",
   "metadata": {},
   "outputs": [
    {
     "data": {
      "text/plain": [
       "SelectFromModel(estimator=RandomForestClassifier(n_estimators=300,\n",
       "                                                 random_state=1))"
      ]
     },
     "execution_count": 133,
     "metadata": {},
     "output_type": "execute_result"
    }
   ],
   "source": [
    "#SelectFromModel can also be used with random forests to select features 'based on importance weights'\n",
    "\n",
    "sel = SelectFromModel(RandomForestClassifier(n_estimators=300,random_state=1))\n",
    "sel.fit(X_train,y_train)"
   ]
  },
  {
   "cell_type": "code",
   "execution_count": 136,
   "id": "d18a4955",
   "metadata": {},
   "outputs": [
    {
     "data": {
      "text/plain": [
       "MultiIndex([(     'FABP2', 'ENSG00000145384'),\n",
       "            (   'C2orf74', 'ENSG00000237651'),\n",
       "            (     'CPNE1', 'ENSG00000214078'),\n",
       "            (      'ULK4', 'ENSG00000168038'),\n",
       "            (     'MZT2A', 'ENSG00000173272'),\n",
       "            (      'MMUT', 'ENSG00000146085'),\n",
       "            (     'MASTL', 'ENSG00000120539'),\n",
       "            (    'ZNF492', 'ENSG00000229676'),\n",
       "            (   'ATP6V1D', 'ENSG00000100554'),\n",
       "            (    'BORCS7', 'ENSG00000166275'),\n",
       "            (      'NAAA', 'ENSG00000138744'),\n",
       "            (   'ANAPC13', 'ENSG00000129055'),\n",
       "            (    'CLNS1A', 'ENSG00000074201'),\n",
       "            (      'GBP3', 'ENSG00000117226'),\n",
       "            (     'DDX11', 'ENSG00000013573'),\n",
       "            ('ST6GALNAC3', 'ENSG00000184005'),\n",
       "            (   'GPBP1L1', 'ENSG00000159592'),\n",
       "            ( 'EEF1AKMT3', 'ENSG00000123427'),\n",
       "            (   'PYROXD1', 'ENSG00000121350'),\n",
       "            (  'CABCOCO1', 'ENSG00000183346'),\n",
       "            (   'CYP4F12', 'ENSG00000186204'),\n",
       "            (  'C11orf54', 'ENSG00000182919'),\n",
       "            (      'UROS', 'ENSG00000188690'),\n",
       "            (   'C9orf43', 'ENSG00000157653'),\n",
       "            (     'FANCA', 'ENSG00000187741'),\n",
       "            (    'ZNF121', 'ENSG00000197961'),\n",
       "            (     'CENPP', 'ENSG00000188312'),\n",
       "            (  'ARHGEF19', 'ENSG00000142632'),\n",
       "            (    'WDYHV1', 'ENSG00000156795'),\n",
       "            (     'PRMT7', 'ENSG00000132600'),\n",
       "            (      'IBSP', 'ENSG00000029559'),\n",
       "            (      'NOM1', 'ENSG00000146909'),\n",
       "            (      'PENK', 'ENSG00000181195'),\n",
       "            (    'SCAPER', 'ENSG00000140386'),\n",
       "            (      'HLCS', 'ENSG00000159267'),\n",
       "            (      'CST2', 'ENSG00000170369'),\n",
       "            (     'TFB1M', 'ENSG00000029639'),\n",
       "            (     'GSTA1', 'ENSG00000243955'),\n",
       "            (    'ZNF239', 'ENSG00000196793')],\n",
       "           names=['Gene_symbol', 'Gene_ensembl_id'])"
      ]
     },
     "execution_count": 136,
     "metadata": {},
     "output_type": "execute_result"
    }
   ],
   "source": [
    "#Use get support on the fitted model to see which features are 'important'\n",
    "\n",
    "selected_features = X_train.columns[(sel.get_support())]\n",
    "selected_features"
   ]
  },
  {
   "cell_type": "code",
   "execution_count": 147,
   "id": "c62c9744",
   "metadata": {},
   "outputs": [
    {
     "data": {
      "text/plain": [
       "<AxesSubplot:ylabel='Gene_symbol,Gene_ensembl_id'>"
      ]
     },
     "execution_count": 147,
     "metadata": {},
     "output_type": "execute_result"
    },
    {
     "data": {
      "image/png": "[encoded data removed]",
      "text/plain": [
       "<Figure size 864x432 with 1 Axes>"
      ]
     },
     "metadata": {
      "needs_background": "light"
     },
     "output_type": "display_data"
    }
   ],
   "source": [
    "#Produce plot showing feature importance from SelectedFromModel\n",
    "\n",
    "feat_importances_sel = pd.Series(sel.estimator_.feature_importances_,index= X.columns)\n",
    "\n",
    "plt.figure(figsize=(12,6))\n",
    "feat_importances_sel.nlargest(10).plot(kind='barh')"
   ]
  },
  {
   "cell_type": "code",
   "execution_count": null,
   "id": "2fbff070",
   "metadata": {},
   "outputs": [],
   "source": []
  },
  {
   "cell_type": "code",
   "execution_count": 159,
   "id": "ffee0b3e",
   "metadata": {},
   "outputs": [
    {
     "name": "stderr",
     "output_type": "stream",
     "text": [
      "/Users/jake/opt/anaconda3/lib/python3.7/site-packages/sklearn/svm/_base.py:986: ConvergenceWarning: Liblinear failed to converge, increase the number of iterations.\n",
      "  \"the number of iterations.\", ConvergenceWarning)\n"
     ]
    }
   ],
   "source": [
    "#LVSC feature selection as part of a pipeline with SelectFromModel\n",
    "#Try with weighted Random forest model\n",
    "\n",
    "RF_weight_pipeline_LSVC = Pipeline(steps=[('feature_selection', SelectFromModel(LinearSVC(penalty=\"l1\",dual=False))),\n",
    "    ('model', RandomForestClassifier(n_estimators=300,random_state=1, class_weight={0:1,1:round(target_count[1] / target_count[0], 2)}))])\n",
    "\n",
    "RF_weight_pipeline_LSVC.fit(X_train,y_train)\n",
    "\n",
    "LVSC_preds = RF_weight_pipeline_LSVC.predict(X_test)\n",
    "\n",
    "LVSC_prob = RF_weight_pipeline_LSVC.predict_proba(X_test)"
   ]
  },
  {
   "cell_type": "code",
   "execution_count": 153,
   "id": "a46a8f9f",
   "metadata": {},
   "outputs": [
    {
     "name": "stdout",
     "output_type": "stream",
     "text": [
      "LVSC feature selection results:\n",
      "\n",
      "\n",
      "RMSE: 0.11322770341445958\n",
      "\n",
      "\n",
      "[[ 11   0]\n",
      " [  2 143]]\n",
      "\n",
      "\n",
      "              precision    recall  f1-score   support\n",
      "\n",
      "           0       0.85      1.00      0.92        11\n",
      "           1       1.00      0.99      0.99       145\n",
      "\n",
      "    accuracy                           0.99       156\n",
      "   macro avg       0.92      0.99      0.95       156\n",
      "weighted avg       0.99      0.99      0.99       156\n",
      "\n",
      "\n",
      "\n",
      "AUROC score: 1.0\n"
     ]
    }
   ],
   "source": [
    "print('LVSC feature selection results:')\n",
    "print('\\n')\n",
    "print('RMSE:',np.sqrt(mean_squared_error(LVSC_preds,y_test)))\n",
    "print('\\n')\n",
    "print (confusion_matrix(LVSC_preds,y_test))\n",
    "print('\\n')\n",
    "print (classification_report(LVSC_preds,y_test))\n",
    "print('\\n')\n",
    "print ('AUROC score:',roc_auc_score(y_test,[p[1] for p in LVSC_prob]) )"
   ]
  },
  {
   "cell_type": "code",
   "execution_count": null,
   "id": "cfd5c20e",
   "metadata": {},
   "outputs": [],
   "source": []
  }
 ],
 "metadata": {
  "kernelspec": {
   "display_name": "Python 3",
   "language": "python",
   "name": "python3"
  },
  "language_info": {
   "codemirror_mode": {
    "name": "ipython",
    "version": 3
   },
   "file_extension": ".py",
   "mimetype": "text/x-python",
   "name": "python",
   "nbconvert_exporter": "python",
   "pygments_lexer": "ipython3",
   "version": "3.7.10"
  }
 },
 "nbformat": 4,
 "nbformat_minor": 5
}
